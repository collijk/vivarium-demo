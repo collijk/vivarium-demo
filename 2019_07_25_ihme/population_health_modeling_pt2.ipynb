{
 "cells": [
  {
   "cell_type": "markdown",
   "metadata": {
    "slideshow": {
     "slide_type": "slide"
    }
   },
   "source": [
    "<h1 style=\"text-align: center;\">Individual-based Simulation Models of Public Health, pt. II</h1>\n",
    "\n",
    "<p style=\"text-align: center;\">James Collins</p>\n",
    "<p style=\"text-align: center;\">August 8, 2019</p>"
   ]
  },
  {
   "cell_type": "markdown",
   "metadata": {
    "slideshow": {
     "slide_type": "notes"
    }
   },
   "source": [
    "Hi everyone.  \n",
    "\n",
    "My name is ...\n",
    "\n",
    "This is the third presentation in a series on individual-based simulation models of public health.  "
   ]
  },
  {
   "cell_type": "markdown",
   "metadata": {
    "slideshow": {
     "slide_type": "slide"
    }
   },
   "source": [
    "# The Simulation Science Team"
   ]
  },
  {
   "cell_type": "markdown",
   "metadata": {
    "slideshow": {
     "slide_type": "notes"
    }
   },
   "source": [
    "I lead the engineering efforts on the simulation science team. What we do, in many ways, is similar to what happens on many other teams throughout the institute: public health modeling.\n",
    "\n",
    "**Slide**\n",
    "\n",
    "In particular, we try to analyze the impacts of interventions on health systems. We look at outcomes like the change in disease burden, risk exposure, and the health system costs.\n",
    "\n",
    "**Slide**\n",
    "\n",
    "I like to always keep in mind why we're doing what we do because it helps guide model development. \n",
    "\n",
    "We try to provide an agenda-free evidence base for people trying to make hard decisions.  Decisions like which studies to fund, which intervention programs to roll out, and sometimes where there are important data gaps that should be filled.\n",
    "\n",
    "**Slide**\n",
    "\n",
    "We produce this evidence using computer simulations of health systems."
   ]
  },
  {
   "cell_type": "markdown",
   "metadata": {
    "slideshow": {
     "slide_type": "fragment"
    }
   },
   "source": [
    "- **What we do**: Analyze the impacts of interventions on population health and health systems."
   ]
  },
  {
   "cell_type": "markdown",
   "metadata": {
    "slideshow": {
     "slide_type": "fragment"
    }
   },
   "source": [
    "- **Why we do it**: To give policy and decision makers evidence for intervention comparisons."
   ]
  },
  {
   "cell_type": "markdown",
   "metadata": {
    "slideshow": {
     "slide_type": "fragment"
    }
   },
   "source": [
    "- **How we do it**: Computer simulations!"
   ]
  },
  {
   "cell_type": "markdown",
   "metadata": {
    "slideshow": {
     "slide_type": "slide"
    }
   },
   "source": [
    "# Agenda"
   ]
  },
  {
   "cell_type": "markdown",
   "metadata": {
    "slideshow": {
     "slide_type": "notes"
    }
   },
   "source": [
    "In the first session two weeks ago, we discussed a number of things. \n",
    "\n",
    "We talked about simulation broadly: what it is, and how it's done at a high level.\n",
    "\n",
    "I gave a description of our modeling paradigm and then we began picking apart a simple risk and cause model for ischemic heart disease.\n",
    "\n",
    "If you came last week, Nathaniel Blair-Stahn and Yongquan Xie gave a presentation about the results from a particular intervention model we produced on SQ-LNS.\n",
    "\n",
    "**Slide**\n",
    "\n",
    "This week, I'll give a brief recap of our modeling paradigm: individual-based, discrete-time, Monte Carlo simulation.\n",
    "\n",
    "**Slide**\n",
    "\n",
    "We'll talk about our concept model diagram and how we can use it to understand the causal structure of a public health model.\n",
    "\n",
    "**Slide**\n",
    "\n",
    "With whatever time we have remaining, we'll set up an actual simulation and see how we can ask different questions about the population in the model."
   ]
  },
  {
   "cell_type": "markdown",
   "metadata": {
    "slideshow": {
     "slide_type": "fragment"
    }
   },
   "source": [
    "- Recap the modeling paradigm."
   ]
  },
  {
   "cell_type": "markdown",
   "metadata": {
    "slideshow": {
     "slide_type": "fragment"
    }
   },
   "source": [
    "- The concept model diagram."
   ]
  },
  {
   "cell_type": "markdown",
   "metadata": {
    "slideshow": {
     "slide_type": "fragment"
    }
   },
   "source": [
    "- Demo"
   ]
  },
  {
   "cell_type": "markdown",
   "metadata": {
    "slideshow": {
     "slide_type": "slide"
    }
   },
   "source": [
    "<h1 style=\"text-align: center;\">The Modeling Paradigm</h1>\n",
    "<h3 style=\"text-align: center;\">Individual-based, discrete-time, Monte Carlo simulations</h3>"
   ]
  },
  {
   "cell_type": "markdown",
   "metadata": {
    "slideshow": {
     "slide_type": "notes"
    }
   },
   "source": [
    "So, let's start with the recap. We do individual-based, discrete-time, Monte Carlo simulations.  I find this is easiest to understand with pictures."
   ]
  },
  {
   "cell_type": "markdown",
   "metadata": {
    "slideshow": {
     "slide_type": "slide"
    }
   },
   "source": [
    "<img src=\"images/part_2/vivarium_simulation1.png\" style=\"display: block; margin-left: auto; margin-right: auto; width: 70%\">"
   ]
  },
  {
   "cell_type": "markdown",
   "metadata": {
    "slideshow": {
     "slide_type": "notes"
    }
   },
   "source": [
    "This is a cartoon of what a very simple vivarium simulation might look like.\n",
    "\n",
    "This image captures two aspects of our modeling paradigm\n",
    "\n",
    "It's individual-based, meaning we simulate actual people rather than cohorts.\n",
    "\n",
    "It's discrete time, meaning time proceeds in a series of discrete chunks.\n",
    "\n",
    "We can think about this in two ways:\n",
    "\n",
    "In one, we have a collection of individuals represented by the little stick figures here. The march forward in time and sometimes they die. We only get to see things after they've happend and we've stopped to record, and so that's when we mark when events happen.\n",
    "\n",
    "This picture has limitations though.  A single person can have many different attributes - age, alive, blood pressure, cholesterol, access to clean water, what diseases they have, etc.  "
   ]
  },
  {
   "cell_type": "markdown",
   "metadata": {
    "slideshow": {
     "slide_type": "slide"
    }
   },
   "source": [
    "<img src=\"images/part_2/vivarium_simulation2.png\" style=\"display: block; margin-left: auto; margin-right: auto; width: 70%\">"
   ]
  },
  {
   "cell_type": "markdown",
   "metadata": {
    "slideshow": {
     "slide_type": "notes"
    }
   },
   "source": [
    "The more useful representation of our population is here at the bottom.  \n",
    "\n",
    "What we're trying to talk about is the **state** of the simulation: the representation of the whole population at a particular point in time.\n",
    "\n",
    "In our second representation, we think of a matrix or table that represents our population.  The rows of that table represent individuals and the columns represent attributes that each of those individuals have.\n",
    "\n",
    "Our table in this model would just be an index column that identifies the individuals and a column that tells us whether each individual is alive or dead. \n",
    "\n",
    "The simulation produces a trajectory, or a series of simulation states.  The **model** gives us rules for how that state changes each time step.\n",
    "\n",
    "Let's dive a little deeper and figure out how the model is responsible for altering the simulation state."
   ]
  },
  {
   "cell_type": "markdown",
   "metadata": {
    "slideshow": {
     "slide_type": "slide"
    }
   },
   "source": [
    "<img src=\"images/part_2/time_step.png\" style=\"display: block; margin-left: auto; margin-right: auto; width: 80%\">"
   ]
  },
  {
   "cell_type": "markdown",
   "metadata": {
    "slideshow": {
     "slide_type": "notes"
    }
   },
   "source": [
    "  \n",
    "Notice the little x here.  I've zoomed down to a single person (or row in our state matrix).  \n",
    "\n",
    "Our time steps work essentially as a loop over ever person in our simulation.  This means we don't typically model thing like infectious disease dynamics.  Our focus is about **heterogeneity**.  \n",
    "\n",
    "Within each time step, for each person, we make a series of decisions."
   ]
  },
  {
   "cell_type": "markdown",
   "metadata": {
    "slideshow": {
     "slide_type": "slide"
    }
   },
   "source": [
    "<h1 style=\"text-align: center;\">So what is a decision?</h1>"
   ]
  },
  {
   "cell_type": "markdown",
   "metadata": {
    "slideshow": {
     "slide_type": "fragment"
    }
   },
   "source": [
    "<h3 style=\"text-align: center;\">A process for asking and answering questions.</h3>"
   ]
  },
  {
   "cell_type": "markdown",
   "metadata": {
    "slideshow": {
     "slide_type": "notes"
    }
   },
   "source": [
    "What is a decision then?\n",
    "\n",
    "**Slide**\n",
    "\n",
    "Simply put, a decision is the process used to ask and answer questions.\n",
    "\n",
    "There are different kinds of questions we might ask in a simulation.\n",
    "\n",
    "Some questions are deterministic. \"How much older do I get?\" for instance. Well, our time steps are a fixed width, so a person's age increases by the size of the time step as long as they're alive. \n",
    "\n",
    "Some questions are harder to answer though. \"Do I die?\", for instance. Well, maybe. Maybe not. \n",
    "\n",
    "For these kinds of questions, we turn to the Monte Carlo technique."
   ]
  },
  {
   "cell_type": "markdown",
   "metadata": {
    "slideshow": {
     "slide_type": "slide"
    }
   },
   "source": [
    "<img src=\"images/part_2/monte_carlo1.png\" style=\"display: block; margin-left: auto; margin-right: auto; width: 70%\">"
   ]
  },
  {
   "cell_type": "markdown",
   "metadata": {
    "slideshow": {
     "slide_type": "notes"
    }
   },
   "source": [
    "Surprisingly, it's pretty straightforward. \n",
    "\n",
    "We have a question and likely we have some data we can bring to bear to help answer that question. \n",
    "\n",
    "We use those two to create a probability that the thing happens. This is not a distribution, but an actual number between 0 and 1. \n",
    "\n",
    "We then do some computer magic to get a random number to \"sample\" that probability and determine our answer.\n",
    "\n",
    "Okay, so I'm being a little glib and hand-wavy here. Let's look at a concrete example."
   ]
  },
  {
   "cell_type": "markdown",
   "metadata": {
    "slideshow": {
     "slide_type": "slide"
    }
   },
   "source": [
    "<img src=\"images/part_2/monte_carlo2.png\" style=\"display: block; margin-left: auto; margin-right: auto; width: 70%\">"
   ]
  },
  {
   "cell_type": "markdown",
   "metadata": {
    "slideshow": {
     "slide_type": "notes"
    }
   },
   "source": [
    "We have a question: does the individual die sometime in the next time step.  \n",
    "\n",
    "We also have all this marvelous GBD data about mortality. \n",
    "\n",
    "We go to our survival analysis text books (ask Drew if you need a copy) and find a precise mathematical way to ask our question: \n",
    "\n",
    "What is the probability that the time of my death is within the next time step given that it's definitely after right now? \n",
    "\n",
    "It even has a nice math equation using our data if we're careful about our assumptions. \n",
    "\n",
    "Then we ask the computer for a uniform random number between 0 and 1.  If it's less than our calculated probability, the individual dies. If it's more, they don't die.\n",
    "\n"
   ]
  },
  {
   "cell_type": "markdown",
   "metadata": {
    "slideshow": {
     "slide_type": "slide"
    }
   },
   "source": [
    "### To quickly recap"
   ]
  },
  {
   "cell_type": "markdown",
   "metadata": {
    "slideshow": {
     "slide_type": "notes"
    }
   },
   "source": [
    "Let's recap quickly.\n",
    "\n",
    "**Slide**\n",
    "\n",
    "A sim is ...\n",
    "\n",
    "**Slide**\n",
    "\n",
    "A time step is ..\n",
    "\n",
    "**Slide**\n",
    "\n",
    "A decision is ..\n",
    "\n",
    "\n",
    "**Stop Now for Questions**"
   ]
  },
  {
   "cell_type": "markdown",
   "metadata": {
    "slideshow": {
     "slide_type": "fragment"
    }
   },
   "source": [
    "- A **simulation** is a series of **discrete time steps** of a known size."
   ]
  },
  {
   "cell_type": "markdown",
   "metadata": {
    "slideshow": {
     "slide_type": "fragment"
    }
   },
   "source": [
    "- A **time step** involves going to each individual and making a series of **decisions**."
   ]
  },
  {
   "cell_type": "markdown",
   "metadata": {
    "slideshow": {
     "slide_type": "fragment"
    }
   },
   "source": [
    "- A **decision** is the process for asking and answering a question about what happens to an individual, either deterministically, or with a **Monte Carlo sample** informed by some data and a random number."
   ]
  },
  {
   "cell_type": "markdown",
   "metadata": {
    "slideshow": {
     "slide_type": "slide"
    }
   },
   "source": [
    "<h1 style=\"text-align: center;\">The Concept Model Diagram</h1>"
   ]
  },
  {
   "cell_type": "markdown",
   "metadata": {
    "slideshow": {
     "slide_type": "notes"
    }
   },
   "source": [
    "So we have a modeling paradigm.  Let's turn to applying that paradigm to a public health model.\n",
    "\n",
    "Our team uses a tool called a concept model diagram to talk about the causal structure of models."
   ]
  },
  {
   "cell_type": "markdown",
   "metadata": {
    "slideshow": {
     "slide_type": "slide"
    }
   },
   "source": [
    "<img src=\"images/part_2/concept_model1.png\" style=\"display: block; margin-left: auto; margin-right: auto; width: 70%\">"
   ]
  },
  {
   "cell_type": "markdown",
   "metadata": {
    "slideshow": {
     "slide_type": "notes"
    }
   },
   "source": [
    "Here is a concept model diagram that describes a model of ischemic heart disease, body mass index, and their impact on mortality.\n",
    "\n",
    "These diagrams give a modular description of the various components in a vivarium model.  \n",
    "\n",
    "By components, we mean approximately this set of boxes we see in the diagram.  Let's take a beat and frame the responsibilities of model components."
   ]
  },
  {
   "cell_type": "markdown",
   "metadata": {
    "slideshow": {
     "slide_type": "slide"
    }
   },
   "source": [
    "## Understanding Model Components"
   ]
  },
  {
   "cell_type": "markdown",
   "metadata": {
    "slideshow": {
     "slide_type": "notes"
    }
   },
   "source": [
    "Each box in our causal diagram, will typically correspond to one (or sometimes more) components in our implementation of the model.  There are a few key things to keep in mind about how components work.\n",
    "\n",
    "**Slide**\n",
    "\n",
    "Attributes are things like the age and sex of individuals, whether they have a particular disease, etc.  \n",
    "The component that defines those attributes are primarily responsible for three things.\n",
    "\n",
    "**Slide**\n",
    "\n",
    "If we think back to our toy diagram of the simulation from earlier, we had a starting state X0.  That state is constructed piecemeal by the components where each component is responsible for filling in the set of columns that correspond to the attributes they manage.\n",
    "\n",
    "**Slide**\n",
    "\n",
    "It's almost always easiest to think about this from the perspective of an individual. If we recall our time step diagram, the component describes some subset of the decisions that happen each step.  It's important to note, the particular questions we might ask (or whether we ask them at all) may be dependent on other aspects of the current state.\n",
    "\n",
    "**Slide**\n",
    "\n",
    "If we're careful about how we think about our models, this can usually be done at a level of defining relationships between components, which allows us to draw these handy causal diagrams.\n",
    "\n",
    "Let's return to our concept model diagram with this framing."
   ]
  },
  {
   "cell_type": "markdown",
   "metadata": {
    "slideshow": {
     "slide_type": "fragment"
    }
   },
   "source": [
    "- Components are responsible for a small set of **attributes**.  "
   ]
  },
  {
   "cell_type": "markdown",
   "metadata": {
    "slideshow": {
     "slide_type": "fragment"
    }
   },
   "source": [
    "- Components must **initialize** the attributes at the start of the simulation.  "
   ]
  },
  {
   "cell_type": "markdown",
   "metadata": {
    "slideshow": {
     "slide_type": "fragment"
    }
   },
   "source": [
    "- Components must define the **decisions** that change those **attributes**."
   ]
  },
  {
   "cell_type": "markdown",
   "metadata": {
    "slideshow": {
     "slide_type": "fragment"
    }
   },
   "source": [
    "- Components must define their **relationships** to other **attributes**."
   ]
  },
  {
   "cell_type": "markdown",
   "metadata": {
    "slideshow": {
     "slide_type": "slide"
    }
   },
   "source": [
    "<img src=\"images/part_2/concept_model2.png\" style=\"display: block; margin-left: auto; margin-right: auto; width: 70%\">"
   ]
  },
  {
   "cell_type": "markdown",
   "metadata": {
    "slideshow": {
     "slide_type": "notes"
    }
   },
   "source": [
    "Our first declaration about components is that they're responsible for modeling a small set of attributes.\n",
    "\n",
    "Here we can see  what each component is responsible for.  Let's think back to our description of the simulation state.  This model corresponds to a simulation state that looks like the following table."
   ]
  },
  {
   "cell_type": "markdown",
   "metadata": {
    "slideshow": {
     "slide_type": "slide"
    }
   },
   "source": [
    "<table style=\"font-size:40px\">\n",
    "<thead>\n",
    "<tr>\n",
    "<th>index</th>\n",
    "<th>age</th>\n",
    "<th>sex</th>\n",
    "<th>alive</th>\n",
    "<th>cause of death</th>\n",
    "<th>disease status</th>\n",
    "<th>body mass index</th>\n",
    "</tr>\n",
    "</thead>\n",
    "<tbody><tr>\n",
    "<td>0</td>\n",
    "<td>45.27</td>\n",
    "<td>M</td>\n",
    "<td>yes</td>\n",
    "<td>none</td>\n",
    "<td>susceptible</td>\n",
    "<td>28.9</td>\n",
    "</tr>\n",
    "<tr>\n",
    "<td>1</td>\n",
    "<td>56.96</td>\n",
    "<td>F</td>\n",
    "<td>yes</td>\n",
    "<td>none</td>\n",
    "<td>susceptible</td>\n",
    "<td>20.4</td>\n",
    "</tr>\n",
    "<tr>\n",
    "<td>2</td>\n",
    "<td>68.12</td>\n",
    "<td>M</td>\n",
    "<td>yes</td>\n",
    "<td>none</td>\n",
    "<td>IHD</td>\n",
    "<td>41.1</td>\n",
    "</tr>\n",
    "<tr>\n",
    "<td>...</td>\n",
    "<td>...</td>\n",
    "<td>...</td>\n",
    "<td>...</td>\n",
    "<td>...</td>\n",
    "<td>...</td>\n",
    "<td>..</td>\n",
    "</tr>\n",
    "<tr>\n",
    "<td>4999</td>\n",
    "<td>42.54</td>\n",
    "<td>M</td>\n",
    "<td>yes</td>\n",
    "<td>none</td>\n",
    "<td>susceptible</td>\n",
    "<td>24.8</td>\n",
    "</tr>\n",
    "</tbody></table>"
   ]
  },
  {
   "cell_type": "markdown",
   "metadata": {
    "slideshow": {
     "slide_type": "notes"
    }
   },
   "source": [
    "Here we see an example of a table that would be generated by the provided model at the start of the simulation.  There is a row for every individual and a column for each attribute that a component manages.\n",
    "\n",
    "A good question to ask at this point is how did we get these values?"
   ]
  },
  {
   "cell_type": "markdown",
   "metadata": {
    "slideshow": {
     "slide_type": "slide"
    }
   },
   "source": [
    "<img src=\"images/part_2/concept_model3.png\" style=\"display: block; margin-left: auto; margin-right: auto; width: 70%\">"
   ]
  },
  {
   "cell_type": "markdown",
   "metadata": {
    "slideshow": {
     "slide_type": "notes"
    }
   },
   "source": [
    "As I mentioned, the first responsibility of a component is to initialize the attributes it is responsible for.\n",
    "\n",
    "Constructing a valid starting state is a sampling problem and is strongly data dependent. Luckily, the GBD provides a wonderful data source for generating the appropriate distributions.  \n",
    "\n",
    "In nearly all situations, we start with a single joint distribution over age and sex, and then use a series of joint distributions to assign the remaining attributes.\n",
    "\n",
    "Let's look at this process more closely."
   ]
  },
  {
   "cell_type": "markdown",
   "metadata": {
    "slideshow": {
     "slide_type": "slide"
    }
   },
   "source": [
    "<img src=\"images/part_2/pop_data.png\" style=\"display: block; margin-left: auto; margin-right: auto; width: 70%\">"
   ]
  },
  {
   "cell_type": "markdown",
   "metadata": {
    "slideshow": {
     "slide_type": "notes"
    }
   },
   "source": [
    "This is a distribution of age and sex for people over 40 in Kenya in 2005. The population component does some careful disaggregation of this data and constructs a distribution of age and sex to sample from."
   ]
  },
  {
   "cell_type": "markdown",
   "metadata": {
    "slideshow": {
     "slide_type": "slide"
    }
   },
   "source": [
    "<table style=\"font-size:40px\">\n",
    "<thead>\n",
    "<tr>\n",
    "<th>index</th>\n",
    "<th>age</th>\n",
    "<th>sex</th>\n",
    "<th>alive</th>\n",
    "<th>cause of death</th>\n",
    "<th>disease status</th>\n",
    "<th>body mass index</th>\n",
    "</tr>\n",
    "</thead>\n",
    "<tbody><tr>\n",
    "<td>0</td>\n",
    "<td style=\"background:green\">45.27</td>\n",
    "<td style=\"background:green\">M</td>\n",
    "<td>yes</td>\n",
    "<td>none</td>\n",
    "<td>susceptible</td>\n",
    "<td>28.9</td>\n",
    "</tr>\n",
    "<tr>\n",
    "<td>1</td>\n",
    "<td style=\"background:green\">56.96</td>\n",
    "<td style=\"background:green\">F</td>\n",
    "<td>yes</td>\n",
    "<td>none</td>\n",
    "<td>susceptible</td>\n",
    "<td>20.4</td>\n",
    "</tr>\n",
    "<tr>\n",
    "<td>2</td>\n",
    "<td style=\"background:green\">68.12</td>\n",
    "<td style=\"background:green\">M</td>\n",
    "<td>yes</td>\n",
    "<td>none</td>\n",
    "<td>IHD</td>\n",
    "<td>41.1</td>\n",
    "</tr>\n",
    "<tr>\n",
    "<td>...</td>\n",
    "<td style=\"background:green\">...</td>\n",
    "<td style=\"background:green\">...</td>\n",
    "<td>...</td>\n",
    "<td>...</td>\n",
    "<td>...</td>\n",
    "<td>..</td>\n",
    "</tr>\n",
    "<tr>\n",
    "<td>4999</td>\n",
    "<td style=\"background:green\">42.54</td>\n",
    "<td style=\"background:green\">M</td>\n",
    "<td>yes</td>\n",
    "<td>none</td>\n",
    "<td>susceptible</td>\n",
    "<td>24.8</td>\n",
    "</tr>\n",
    "</tbody></table>"
   ]
  },
  {
   "cell_type": "markdown",
   "metadata": {
    "slideshow": {
     "slide_type": "notes"
    }
   },
   "source": [
    "We then sample the distribution 5000 times to generate the starting age and sex of the population."
   ]
  },
  {
   "cell_type": "markdown",
   "metadata": {
    "slideshow": {
     "slide_type": "slide"
    }
   },
   "source": [
    "<table style=\"font-size:40px\">\n",
    "<thead>\n",
    "<tr>\n",
    "<th>index</th>\n",
    "<th>age</th>\n",
    "<th>sex</th>\n",
    "<th>alive</th>\n",
    "<th>cause of death</th>\n",
    "<th>disease status</th>\n",
    "<th>body mass index</th>\n",
    "</tr>\n",
    "</thead>\n",
    "<tbody><tr>\n",
    "<td>0</td>\n",
    "<td>45.27</td>\n",
    "<td>M</td>\n",
    "<td style=\"background:green\">yes</td>\n",
    "<td style=\"background:green\">none</td>\n",
    "<td>susceptible</td>\n",
    "<td>28.9</td>\n",
    "</tr>\n",
    "<tr>\n",
    "<td>1</td>\n",
    "<td>56.96</td>\n",
    "<td>F</td>\n",
    "<td style=\"background:green\">yes</td>\n",
    "<td style=\"background:green\">none</td>\n",
    "<td>susceptible</td>\n",
    "<td>20.4</td>\n",
    "</tr>\n",
    "<tr>\n",
    "<td>2</td>\n",
    "<td>68.12</td>\n",
    "<td>M</td>\n",
    "<td style=\"background:green\">yes</td>\n",
    "<td style=\"background:green\">none</td>\n",
    "<td>chronic IHD</td>\n",
    "<td>41.1</td>\n",
    "</tr>\n",
    "<tr>\n",
    "<td>...</td>\n",
    "<td>...</td>\n",
    "<td>...</td>\n",
    "<td style=\"background:green\">...</td>\n",
    "<td style=\"background:green\">...</td>\n",
    "<td>...</td>\n",
    "<td>..</td>\n",
    "</tr>\n",
    "<tr>\n",
    "<td>4999</td>\n",
    "<td>42.54</td>\n",
    "<td>M</td>\n",
    "<td style=\"background:green\">yes</td>\n",
    "<td style=\"background:green\">none</td>\n",
    "<td>susceptible</td>\n",
    "<td>24.8</td>\n",
    "</tr>\n",
    "</tbody></table>"
   ]
  },
  {
   "cell_type": "markdown",
   "metadata": {
    "slideshow": {
     "slide_type": "notes"
    }
   },
   "source": [
    "We don't need to consult any data for the attributes that mortality is responsible for.  Our simulation starts with only living people, so everyone is alive and has no cause of death."
   ]
  },
  {
   "cell_type": "markdown",
   "metadata": {
    "slideshow": {
     "slide_type": "slide"
    }
   },
   "source": [
    "<img src=\"images/part_2/concept_model3.png\" style=\"display: block; margin-left: auto; margin-right: auto; width: 70%\">"
   ]
  },
  {
   "cell_type": "markdown",
   "metadata": {
    "slideshow": {
     "slide_type": "notes"
    }
   },
   "source": [
    "Returning to our diagram the next thing we should do is initialize disease status. We go back to GBD again, this time for prevalence data."
   ]
  },
  {
   "cell_type": "markdown",
   "metadata": {
    "slideshow": {
     "slide_type": "slide"
    }
   },
   "source": [
    "<img src=\"images/part_2/prev_data.png\" style=\"display: block; margin-left: auto; margin-right: auto; width: 70%\">"
   ]
  },
  {
   "cell_type": "markdown",
   "metadata": {
    "slideshow": {
     "slide_type": "notes"
    }
   },
   "source": [
    "I'm grabbing post-COMO data here, which means I'm only getting prevalence at the cause level.  Either you have IHD or you don't.  It is age-sex specific, which is exactly what I need, but is it sufficient to initialize my model?\n",
    "\n",
    "Perhaps.  It depends on the complexity of my model of IHD and the assumptions I'm willing to make.  We'll look more closely at the model of IHD shortly.  For now, we'll say there are two disease statuses: susceptible, and prevalent with IHD.\n",
    "\n",
    "Here, we'll treat the data from gbd as a simple pmf conditioned on age and sex.  If you fit in an age sex bin, this will give me a single probability that you're currently prevalent."
   ]
  },
  {
   "cell_type": "markdown",
   "metadata": {
    "slideshow": {
     "slide_type": "slide"
    }
   },
   "source": [
    "<table style=\"font-size:40px\">\n",
    "<thead>\n",
    "<tr>\n",
    "<th>index</th>\n",
    "<th>age</th>\n",
    "<th>sex</th>\n",
    "<th>alive</th>\n",
    "<th>cause of death</th>\n",
    "<th>disease status</th>\n",
    "<th>body mass index</th>\n",
    "</tr>\n",
    "</thead>\n",
    "<tbody><tr>\n",
    "<td>0</td>\n",
    "<td>45.27</td>\n",
    "<td>M</td>\n",
    "<td>yes</td>\n",
    "<td>none</td>\n",
    "<td style=\"background:green\">susceptible</td>\n",
    "<td>28.9</td>\n",
    "</tr>\n",
    "<tr>\n",
    "<td>1</td>\n",
    "<td>56.96</td>\n",
    "<td>F</td>\n",
    "<td>yes</td>\n",
    "<td>none</td>\n",
    "<td style=\"background:green\">susceptible</td>\n",
    "<td>20.4</td>\n",
    "</tr>\n",
    "<tr>\n",
    "<td>2</td>\n",
    "<td>68.12</td>\n",
    "<td>M</td>\n",
    "<td>yes</td>\n",
    "<td>none</td>\n",
    "<td style=\"background:green\">IHD</td>\n",
    "<td>41.1</td>\n",
    "</tr>\n",
    "<tr>\n",
    "<td>...</td>\n",
    "<td>...</td>\n",
    "<td>...</td>\n",
    "<td>...</td>\n",
    "<td>...</td>\n",
    "<td style=\"background:green\">...</td>\n",
    "<td>..</td>\n",
    "</tr>\n",
    "<tr>\n",
    "<td>4999</td>\n",
    "<td>42.54</td>\n",
    "<td>M</td>\n",
    "<td>yes</td>\n",
    "<td>none</td>\n",
    "<td style=\"background:green\">susceptible</td>\n",
    "<td>24.8</td>\n",
    "</tr>\n",
    "</tbody></table>"
   ]
  },
  {
   "cell_type": "markdown",
   "metadata": {
    "slideshow": {
     "slide_type": "notes"
    }
   },
   "source": [
    "Nice.  We now have a joint distribution over age, sex, and disease prevalence.  \n",
    "\n",
    "Now, we're working with a relatively simple model. Would this process work if we were modeling multiple diseases?"
   ]
  },
  {
   "cell_type": "markdown",
   "metadata": {
    "slideshow": {
     "slide_type": "slide"
    }
   },
   "source": [
    "<img src=\"images/part_2/concept_model3.png\" style=\"display: block; margin-left: auto; margin-right: auto; width: 70%\">"
   ]
  },
  {
   "cell_type": "markdown",
   "metadata": {
    "slideshow": {
     "slide_type": "notes"
    }
   },
   "source": [
    "Our last bit to deal with is the body mass index."
   ]
  },
  {
   "cell_type": "markdown",
   "metadata": {
    "slideshow": {
     "slide_type": "slide"
    }
   },
   "source": [
    "<img src=\"images/part_2/bmi_dist.png\" style=\"display: block; margin-left: auto; margin-right: auto; width: 70%\">"
   ]
  },
  {
   "cell_type": "markdown",
   "metadata": {
    "slideshow": {
     "slide_type": "notes"
    }
   },
   "source": [
    "Risk exposure can be tricky.  Unlike the disease prevalence case, I don't have a number for each age/sex group, but rather a complex distribution.  The difficult part is constructing the distribution, however.  And given the fact that I'm showing you a plot of the distribution right now, we must have solved that problem already."
   ]
  },
  {
   "cell_type": "markdown",
   "metadata": {
    "slideshow": {
     "slide_type": "slide"
    }
   },
   "source": [
    "<table style=\"font-size:40px\">\n",
    "<thead>\n",
    "<tr>\n",
    "<th>index</th>\n",
    "<th>age</th>\n",
    "<th>sex</th>\n",
    "<th>alive</th>\n",
    "<th>cause of death</th>\n",
    "<th>disease status</th>\n",
    "<th>body mass index</th>\n",
    "</tr>\n",
    "</thead>\n",
    "<tbody><tr>\n",
    "<td>0</td>\n",
    "<td>45.27</td>\n",
    "<td>M</td>\n",
    "<td>yes</td>\n",
    "<td>none</td>\n",
    "<td>susceptible</td>\n",
    "<td style=\"background:green\">28.9</td>\n",
    "</tr>\n",
    "<tr>\n",
    "<td>1</td>\n",
    "<td>56.96</td>\n",
    "<td>F</td>\n",
    "<td>yes</td>\n",
    "<td>none</td>\n",
    "<td>susceptible</td>\n",
    "<td style=\"background:green\">20.4</td>\n",
    "</tr>\n",
    "<tr>\n",
    "<td>2</td>\n",
    "<td>68.12</td>\n",
    "<td>M</td>\n",
    "<td>yes</td>\n",
    "<td>none</td>\n",
    "<td>IHD</td>\n",
    "<td style=\"background:green\">41.1</td>\n",
    "</tr>\n",
    "<tr>\n",
    "<td>...</td>\n",
    "<td>...</td>\n",
    "<td>...</td>\n",
    "<td>...</td>\n",
    "<td>...</td>\n",
    "<td>...</td>\n",
    "<td style=\"background:green\">..</td>\n",
    "</tr>\n",
    "<tr>\n",
    "<td>4999</td>\n",
    "<td>42.54</td>\n",
    "<td>M</td>\n",
    "<td>yes</td>\n",
    "<td>none</td>\n",
    "<td>susceptible</td>\n",
    "<td style=\"background:green\">24.8</td>\n",
    "</tr>\n",
    "</tbody></table>"
   ]
  },
  {
   "cell_type": "markdown",
   "metadata": {
    "slideshow": {
     "slide_type": "notes"
    }
   },
   "source": [
    "By constructing the bmi distribution for each age sex group and then sampling from it, we can produce a bmi value for each individual.  And our initialization is done.\n",
    "\n",
    "**Stop for questions**\n",
    "\n",
    "(If no one asks: I've slid an assumption by you, does anyone know what it is?)"
   ]
  },
  {
   "cell_type": "markdown",
   "metadata": {
    "slideshow": {
     "slide_type": "slide"
    }
   },
   "source": [
    "<img src=\"images/part_2/concept_model4.png\" style=\"display: block; margin-left: auto; margin-right: auto; width: 70%\">"
   ]
  },
  {
   "cell_type": "markdown",
   "metadata": {
    "slideshow": {
     "slide_type": "notes"
    }
   },
   "source": [
    "The second responsiblity of components is to describe how its attributes change over time. They do this by constructing a decision process for the attributes they manage.\n",
    "\n",
    "How much older is a fairly straightforward question.  + dt if alive\n",
    "\n",
    "We have a strong assumption about how exposure changes over time.  The way we produced our initial BMI was to pick a percentile in the distribution for each individual.  We assume this percentile never changes.  How can we think about this assumption?  Every person has the average age/time trend to their bmi according to their starting point.  \n",
    "\n",
    "Let's focus in on the two sets of stochastic decisions."
   ]
  },
  {
   "cell_type": "markdown",
   "metadata": {
    "slideshow": {
     "slide_type": "slide"
    }
   },
   "source": [
    "<img src=\"images/part_2/monte_carlo2.png\" style=\"display: block; margin-left: auto; margin-right: auto; width: 70%\">"
   ]
  },
  {
   "cell_type": "markdown",
   "metadata": {
    "slideshow": {
     "slide_type": "notes"
    }
   },
   "source": [
    "Recall our original example of determining whether someone dies.  What are the important inputs?\n",
    "\n",
    "Determining whether someone get's sick or gets better is (typically) a very similar decision, using an incidence or remission rate instead.\n",
    "\n",
    "So then what are these arrows about?  How are things connected?"
   ]
  },
  {
   "cell_type": "markdown",
   "metadata": {
    "slideshow": {
     "slide_type": "slide"
    }
   },
   "source": [
    "<img src=\"images/part_2/concept_model5.png\" style=\"display: block; margin-left: auto; margin-right: auto; width: 70%\">"
   ]
  },
  {
   "cell_type": "markdown",
   "metadata": {
    "slideshow": {
     "slide_type": "notes"
    }
   },
   "source": [
    "The final responsibility of components is to declare how they connect to other pieces of the model. They do this by altering the input data to the Monte Carlo samples, effectively altering the distribution of time til X."
   ]
  },
  {
   "cell_type": "markdown",
   "metadata": {
    "slideshow": {
     "slide_type": "slide"
    }
   },
   "source": [
    "# How adding cause models alters the mortality model"
   ]
  },
  {
   "cell_type": "markdown",
   "metadata": {
    "slideshow": {
     "slide_type": "notes"
    }
   },
   "source": [
    "Let's look first at the relationship between causes and mortality.  Describing these relationships gets a little math/terminology heavy, so definitely stop me if something doesn't make sense.\n",
    "\n",
    "**Slide**\n",
    "\n",
    "In the absence of any cause models, our core demographic model should still function correctly. To ensure that works, everyone experiences the all cause mortality rate (or ACMR).  This is like the mean of a distribution.  In the absence of other information, it's our best guess at the mortality rate a person is experiencing based on their age and sex and the current year.\n",
    "\n",
    "**Slide**\n",
    "\n",
    "When we add a cause to the model, we're adding in additional information.  Two things happen. First we reduce the mortality rate for everyone by the cause-specific mortality rate (the mortality rate due to the cause among the whole population). We then add back in the excess mortality rate (the mortality rate due to the cause among those with the condition) based on whether they have the disease or not.\n",
    "\n",
    "**Slide**\n",
    "\n",
    "This neatly extends to multiple cause models in a single simulation, which is pretty cool."
   ]
  },
  {
   "cell_type": "markdown",
   "metadata": {
    "slideshow": {
     "slide_type": "fragment"
    }
   },
   "source": [
    "### Case 1: No cause models\n",
    "\n",
    "$$\\lambda = ACMR$$"
   ]
  },
  {
   "cell_type": "markdown",
   "metadata": {
    "slideshow": {
     "slide_type": "fragment"
    }
   },
   "source": [
    "### Case 2: One cause model\n",
    "\n",
    "$$\\lambda = ACMR - CSMR + EMR(disease\\_status)$$"
   ]
  },
  {
   "cell_type": "markdown",
   "metadata": {
    "slideshow": {
     "slide_type": "fragment"
    }
   },
   "source": [
    "### Case 3: Multiple cause models\n",
    "\n",
    "$$\\lambda = ACMR - \\sum_{causes}CSMR_c + \\sum_{causes} EMR_c(disease\\_status_c)$$"
   ]
  },
  {
   "cell_type": "markdown",
   "metadata": {
    "slideshow": {
     "slide_type": "slide"
    }
   },
   "source": [
    "# How adding risk models alters disease incidence models"
   ]
  },
  {
   "cell_type": "markdown",
   "metadata": {
    "slideshow": {
     "slide_type": "notes"
    }
   },
   "source": [
    "Next, let's look more closely at the relationship between risks and cause models.  \n",
    "\n",
    "**Slide**\n",
    "\n",
    "Just like our mortality model, in the absense of risk factors, we should still produce a valid estimates of the disease cases.  The hat here over the right hand side is to indicate that it's a value from data, just like the all cause mortality rate.  It is the mean incidence rate in a particular demographic subgroup.\n",
    "\n",
    "**Slide**\n",
    "\n",
    "Adding a single risk factor causes two things to happen.  We first multiply the mean incidence by 1 - population attributable fraction. The PAF is ....  This produced the risk-deleted incidence rate or the mean rate of incidence among people who are not exposed to the disease.  We then multiply this rate by the relative risk as a function of the individual's exposure to the risk factor. This may be a continuous function, as is the case with BMI, or a lookup into a table if the exposure model is categorical.\n",
    "\n",
    "**Slide**\n",
    "\n",
    "Like the cause-mortality relationship, this one also easily extends to multiple risks, under particular assumptions.\n",
    "\n",
    "**Q's**"
   ]
  },
  {
   "cell_type": "markdown",
   "metadata": {
    "slideshow": {
     "slide_type": "fragment"
    }
   },
   "source": [
    "### Case 1: No risk models\n",
    "\n",
    "$$\\iota = \\hat{\\iota}$$"
   ]
  },
  {
   "cell_type": "markdown",
   "metadata": {
    "slideshow": {
     "slide_type": "fragment"
    }
   },
   "source": [
    "### Case 2: One risk model\n",
    "\n",
    "$$\\iota = \\hat{\\iota} \\cdot (1-PAF) \\cdot RR(exposure)$$"
   ]
  },
  {
   "cell_type": "markdown",
   "metadata": {
    "slideshow": {
     "slide_type": "fragment"
    }
   },
   "source": [
    "### Case 3: Multiple risk models\n",
    "\n",
    "$$\\iota = \\hat{\\iota} \\cdot (1 - \\prod_{risks} (1 - PAF_r)) \\cdot \\prod_{risks} RR_r(exposure_r)$$"
   ]
  },
  {
   "cell_type": "markdown",
   "metadata": {
    "slideshow": {
     "slide_type": "slide"
    }
   },
   "source": [
    "<h1 style=\"text-align: center;\">Demo</h1>"
   ]
  },
  {
   "cell_type": "markdown",
   "metadata": {
    "slideshow": {
     "slide_type": "notes"
    }
   },
   "source": [
    "In this last section, I'm going to show you how we set up and run a simulation. We'll then see if we can explore the relationships between these components in our model."
   ]
  },
  {
   "cell_type": "markdown",
   "metadata": {
    "slideshow": {
     "slide_type": "slide"
    }
   },
   "source": [
    "<img src=\"images/part_2/concept_model1.png\" style=\"display: block; margin-left: auto; margin-right: auto; width: 70%\">"
   ]
  },
  {
   "cell_type": "markdown",
   "metadata": {
    "slideshow": {
     "slide_type": "notes"
    }
   },
   "source": [
    "When we're planning and building our models, we use these concept model diagrams to represent all the components and their connections.  In the simulation implementation, we have a file we call the model specification.  It serves as the top level interface for interacting with simulation models.\n",
    "\n",
    "It lists all the components that go into the model and details any configuration for those components."
   ]
  },
  {
   "cell_type": "raw",
   "metadata": {
    "slideshow": {
     "slide_type": "slide"
    }
   },
   "source": [
    "components:\n",
    "        vivarium_public_health:\n",
    "                population:\n",
    "                        - BasePopulation()\n",
    "                        - Mortality()\n",
    "                disease.models:\n",
    "                        - SI('ischemic_heart_disease')\n",
    "                risks:\n",
    "                        - Risk(\"risk_factor.high_body_mass_index_in_adults\")\n",
    "                        - RiskEffect(\"risk_factor.high_body_mass_index_in_adults\",\n",
    "                                     \"cause.ischemic_heart_disease.incidence_rate\")"
   ]
  },
  {
   "cell_type": "markdown",
   "metadata": {
    "slideshow": {
     "slide_type": "notes"
    }
   },
   "source": [
    "Here's the component section of our model specification.  As we can see it very closely mirrors the diagram.  This is not an accident.  A large part of building good software tools is about building intelligible and familiar interfaces."
   ]
  },
  {
   "cell_type": "raw",
   "metadata": {
    "slideshow": {
     "slide_type": "slide"
    }
   },
   "source": [
    "configuration:\n",
    "        input_data:\n",
    "                location: Kenya\n",
    "                input_draw_number: 0\n",
    "        time:\n",
    "                start:\n",
    "                        year: 2010\n",
    "                end:\n",
    "                        year: 2015\n",
    "                step_size: 28 # Days\n",
    "        population:\n",
    "                age_start: 40\n",
    "                age_end: 100\n",
    "                population_size: 5_000"
   ]
  },
  {
   "cell_type": "markdown",
   "metadata": {
    "slideshow": {
     "slide_type": "notes"
    }
   },
   "source": [
    "The second section of our model specification is the configuration block. It describes the various configuration paramters for the components.\n",
    "\n",
    "**Drop back to notebook view**"
   ]
  },
  {
   "cell_type": "code",
   "execution_count": 1,
   "metadata": {},
   "outputs": [],
   "source": [
    "%matplotlib inline\n",
    "import matplotlib.pyplot as plt\n",
    "import numpy as np\n",
    "import pandas as pd\n",
    "import seaborn as sns\n",
    "sns.set(style='darkgrid')"
   ]
  },
  {
   "cell_type": "code",
   "execution_count": 2,
   "metadata": {},
   "outputs": [
    {
     "data": {
      "text/html": [
       "<style>\n",
       ".rendered_html table {\n",
       "    font-size: 15px\n",
       "}\n",
       "</style>\n"
      ],
      "text/plain": [
       "<IPython.core.display.HTML object>"
      ]
     },
     "metadata": {},
     "output_type": "display_data"
    }
   ],
   "source": [
    "%%HTML\n",
    "<style>\n",
    ".rendered_html table {\n",
    "    font-size: 15px\n",
    "}\n",
    "</style>"
   ]
  },
  {
   "cell_type": "code",
   "execution_count": 3,
   "metadata": {},
   "outputs": [],
   "source": [
    "from vivarium.interface import initialize_simulation_from_model_specification\n",
    "import utilities as util"
   ]
  },
  {
   "cell_type": "code",
   "execution_count": 4,
   "metadata": {},
   "outputs": [
    {
     "data": {
      "text/plain": [
       "'/home/collijk/vivarium-demo/2019_07_25_ihme/disease_model.yaml'"
      ]
     },
     "execution_count": 4,
     "metadata": {},
     "output_type": "execute_result"
    }
   ],
   "source": [
    "util.disease_model_spec"
   ]
  },
  {
   "cell_type": "code",
   "execution_count": 5,
   "metadata": {},
   "outputs": [],
   "source": [
    "sim = initialize_simulation_from_model_specification(util.disease_model_spec)"
   ]
  },
  {
   "cell_type": "code",
   "execution_count": 6,
   "metadata": {},
   "outputs": [],
   "source": [
    "sim.configuration.input_data.artifact_path = util.artifact_path"
   ]
  },
  {
   "cell_type": "code",
   "execution_count": 7,
   "metadata": {},
   "outputs": [
    {
     "name": "stderr",
     "output_type": "stream",
     "text": [
      "/home/collijk/miniconda3/envs/vdemo/lib/python3.6/site-packages/risk_distributions/risk_distributions.py:416: RuntimeWarning: overflow encountered in double_scalars\n",
      "  return (m - mean_guess) ** 2 + (s ** 2 - var_guess) ** 2\n",
      "/home/collijk/miniconda3/envs/vdemo/lib/python3.6/site-packages/vivarium_public_health/population/data_transformations.py:165: FutureWarning: Sorting because non-concatenation axis is not aligned. A future version\n",
      "of pandas will change to not sort by default.\n",
      "\n",
      "To accept the future behavior, pass 'sort=False'.\n",
      "\n",
      "To retain the current behavior and silence the warning, pass 'sort=True'.\n",
      "\n",
      "  pop_data = pd.concat([lower_bin, pop_data, upper_bin]).reset_index()\n"
     ]
    }
   ],
   "source": [
    "sim.setup()"
   ]
  },
  {
   "cell_type": "code",
   "execution_count": 8,
   "metadata": {},
   "outputs": [],
   "source": [
    "pop = sim.get_population()"
   ]
  },
  {
   "cell_type": "code",
   "execution_count": 9,
   "metadata": {},
   "outputs": [
    {
     "data": {
      "text/html": [
       "<div>\n",
       "<style scoped>\n",
       "    .dataframe tbody tr th:only-of-type {\n",
       "        vertical-align: middle;\n",
       "    }\n",
       "\n",
       "    .dataframe tbody tr th {\n",
       "        vertical-align: top;\n",
       "    }\n",
       "\n",
       "    .dataframe thead th {\n",
       "        text-align: right;\n",
       "    }\n",
       "</style>\n",
       "<table border=\"1\" class=\"dataframe\">\n",
       "  <thead>\n",
       "    <tr style=\"text-align: right;\">\n",
       "      <th></th>\n",
       "      <th>tracked</th>\n",
       "      <th>alive</th>\n",
       "      <th>entrance_time</th>\n",
       "      <th>exit_time</th>\n",
       "      <th>sex</th>\n",
       "      <th>location</th>\n",
       "      <th>age</th>\n",
       "      <th>cause_of_death</th>\n",
       "      <th>years_of_life_lost</th>\n",
       "      <th>ischemic_heart_disease</th>\n",
       "      <th>susceptible_to_ischemic_heart_disease_event_count</th>\n",
       "      <th>susceptible_to_ischemic_heart_disease_event_time</th>\n",
       "      <th>ischemic_heart_disease_event_time</th>\n",
       "      <th>ischemic_heart_disease_event_count</th>\n",
       "    </tr>\n",
       "  </thead>\n",
       "  <tbody>\n",
       "    <tr>\n",
       "      <th>0</th>\n",
       "      <td>True</td>\n",
       "      <td>alive</td>\n",
       "      <td>2010-06-04</td>\n",
       "      <td>NaT</td>\n",
       "      <td>Male</td>\n",
       "      <td>Kenya</td>\n",
       "      <td>45.476411</td>\n",
       "      <td>not_dead</td>\n",
       "      <td>0.0</td>\n",
       "      <td>susceptible_to_ischemic_heart_disease</td>\n",
       "      <td>0</td>\n",
       "      <td>NaT</td>\n",
       "      <td>NaT</td>\n",
       "      <td>0</td>\n",
       "    </tr>\n",
       "    <tr>\n",
       "      <th>1</th>\n",
       "      <td>True</td>\n",
       "      <td>alive</td>\n",
       "      <td>2010-06-04</td>\n",
       "      <td>NaT</td>\n",
       "      <td>Female</td>\n",
       "      <td>Kenya</td>\n",
       "      <td>55.243892</td>\n",
       "      <td>not_dead</td>\n",
       "      <td>0.0</td>\n",
       "      <td>susceptible_to_ischemic_heart_disease</td>\n",
       "      <td>0</td>\n",
       "      <td>NaT</td>\n",
       "      <td>NaT</td>\n",
       "      <td>0</td>\n",
       "    </tr>\n",
       "    <tr>\n",
       "      <th>2</th>\n",
       "      <td>True</td>\n",
       "      <td>alive</td>\n",
       "      <td>2010-06-04</td>\n",
       "      <td>NaT</td>\n",
       "      <td>Male</td>\n",
       "      <td>Kenya</td>\n",
       "      <td>61.978080</td>\n",
       "      <td>not_dead</td>\n",
       "      <td>0.0</td>\n",
       "      <td>susceptible_to_ischemic_heart_disease</td>\n",
       "      <td>0</td>\n",
       "      <td>NaT</td>\n",
       "      <td>NaT</td>\n",
       "      <td>0</td>\n",
       "    </tr>\n",
       "    <tr>\n",
       "      <th>3</th>\n",
       "      <td>True</td>\n",
       "      <td>alive</td>\n",
       "      <td>2010-06-04</td>\n",
       "      <td>NaT</td>\n",
       "      <td>Male</td>\n",
       "      <td>Kenya</td>\n",
       "      <td>76.042078</td>\n",
       "      <td>not_dead</td>\n",
       "      <td>0.0</td>\n",
       "      <td>ischemic_heart_disease</td>\n",
       "      <td>0</td>\n",
       "      <td>NaT</td>\n",
       "      <td>2010-06-04</td>\n",
       "      <td>0</td>\n",
       "    </tr>\n",
       "    <tr>\n",
       "      <th>4</th>\n",
       "      <td>True</td>\n",
       "      <td>alive</td>\n",
       "      <td>2010-06-04</td>\n",
       "      <td>NaT</td>\n",
       "      <td>Female</td>\n",
       "      <td>Kenya</td>\n",
       "      <td>58.979431</td>\n",
       "      <td>not_dead</td>\n",
       "      <td>0.0</td>\n",
       "      <td>susceptible_to_ischemic_heart_disease</td>\n",
       "      <td>0</td>\n",
       "      <td>NaT</td>\n",
       "      <td>NaT</td>\n",
       "      <td>0</td>\n",
       "    </tr>\n",
       "    <tr>\n",
       "      <th>5</th>\n",
       "      <td>True</td>\n",
       "      <td>alive</td>\n",
       "      <td>2010-06-04</td>\n",
       "      <td>NaT</td>\n",
       "      <td>Female</td>\n",
       "      <td>Kenya</td>\n",
       "      <td>77.699578</td>\n",
       "      <td>not_dead</td>\n",
       "      <td>0.0</td>\n",
       "      <td>susceptible_to_ischemic_heart_disease</td>\n",
       "      <td>0</td>\n",
       "      <td>NaT</td>\n",
       "      <td>NaT</td>\n",
       "      <td>0</td>\n",
       "    </tr>\n",
       "    <tr>\n",
       "      <th>6</th>\n",
       "      <td>True</td>\n",
       "      <td>alive</td>\n",
       "      <td>2010-06-04</td>\n",
       "      <td>NaT</td>\n",
       "      <td>Female</td>\n",
       "      <td>Kenya</td>\n",
       "      <td>69.784450</td>\n",
       "      <td>not_dead</td>\n",
       "      <td>0.0</td>\n",
       "      <td>susceptible_to_ischemic_heart_disease</td>\n",
       "      <td>0</td>\n",
       "      <td>NaT</td>\n",
       "      <td>NaT</td>\n",
       "      <td>0</td>\n",
       "    </tr>\n",
       "    <tr>\n",
       "      <th>7</th>\n",
       "      <td>True</td>\n",
       "      <td>alive</td>\n",
       "      <td>2010-06-04</td>\n",
       "      <td>NaT</td>\n",
       "      <td>Male</td>\n",
       "      <td>Kenya</td>\n",
       "      <td>47.107711</td>\n",
       "      <td>not_dead</td>\n",
       "      <td>0.0</td>\n",
       "      <td>susceptible_to_ischemic_heart_disease</td>\n",
       "      <td>0</td>\n",
       "      <td>NaT</td>\n",
       "      <td>NaT</td>\n",
       "      <td>0</td>\n",
       "    </tr>\n",
       "    <tr>\n",
       "      <th>8</th>\n",
       "      <td>True</td>\n",
       "      <td>alive</td>\n",
       "      <td>2010-06-04</td>\n",
       "      <td>NaT</td>\n",
       "      <td>Male</td>\n",
       "      <td>Kenya</td>\n",
       "      <td>40.753312</td>\n",
       "      <td>not_dead</td>\n",
       "      <td>0.0</td>\n",
       "      <td>susceptible_to_ischemic_heart_disease</td>\n",
       "      <td>0</td>\n",
       "      <td>NaT</td>\n",
       "      <td>NaT</td>\n",
       "      <td>0</td>\n",
       "    </tr>\n",
       "    <tr>\n",
       "      <th>9</th>\n",
       "      <td>True</td>\n",
       "      <td>alive</td>\n",
       "      <td>2010-06-04</td>\n",
       "      <td>NaT</td>\n",
       "      <td>Female</td>\n",
       "      <td>Kenya</td>\n",
       "      <td>60.188247</td>\n",
       "      <td>not_dead</td>\n",
       "      <td>0.0</td>\n",
       "      <td>susceptible_to_ischemic_heart_disease</td>\n",
       "      <td>0</td>\n",
       "      <td>NaT</td>\n",
       "      <td>NaT</td>\n",
       "      <td>0</td>\n",
       "    </tr>\n",
       "  </tbody>\n",
       "</table>\n",
       "</div>"
      ],
      "text/plain": [
       "   tracked  alive entrance_time exit_time     sex location        age  \\\n",
       "0     True  alive    2010-06-04       NaT    Male    Kenya  45.476411   \n",
       "1     True  alive    2010-06-04       NaT  Female    Kenya  55.243892   \n",
       "2     True  alive    2010-06-04       NaT    Male    Kenya  61.978080   \n",
       "3     True  alive    2010-06-04       NaT    Male    Kenya  76.042078   \n",
       "4     True  alive    2010-06-04       NaT  Female    Kenya  58.979431   \n",
       "5     True  alive    2010-06-04       NaT  Female    Kenya  77.699578   \n",
       "6     True  alive    2010-06-04       NaT  Female    Kenya  69.784450   \n",
       "7     True  alive    2010-06-04       NaT    Male    Kenya  47.107711   \n",
       "8     True  alive    2010-06-04       NaT    Male    Kenya  40.753312   \n",
       "9     True  alive    2010-06-04       NaT  Female    Kenya  60.188247   \n",
       "\n",
       "  cause_of_death  years_of_life_lost                 ischemic_heart_disease  \\\n",
       "0       not_dead                 0.0  susceptible_to_ischemic_heart_disease   \n",
       "1       not_dead                 0.0  susceptible_to_ischemic_heart_disease   \n",
       "2       not_dead                 0.0  susceptible_to_ischemic_heart_disease   \n",
       "3       not_dead                 0.0                 ischemic_heart_disease   \n",
       "4       not_dead                 0.0  susceptible_to_ischemic_heart_disease   \n",
       "5       not_dead                 0.0  susceptible_to_ischemic_heart_disease   \n",
       "6       not_dead                 0.0  susceptible_to_ischemic_heart_disease   \n",
       "7       not_dead                 0.0  susceptible_to_ischemic_heart_disease   \n",
       "8       not_dead                 0.0  susceptible_to_ischemic_heart_disease   \n",
       "9       not_dead                 0.0  susceptible_to_ischemic_heart_disease   \n",
       "\n",
       "   susceptible_to_ischemic_heart_disease_event_count  \\\n",
       "0                                                  0   \n",
       "1                                                  0   \n",
       "2                                                  0   \n",
       "3                                                  0   \n",
       "4                                                  0   \n",
       "5                                                  0   \n",
       "6                                                  0   \n",
       "7                                                  0   \n",
       "8                                                  0   \n",
       "9                                                  0   \n",
       "\n",
       "  susceptible_to_ischemic_heart_disease_event_time  \\\n",
       "0                                              NaT   \n",
       "1                                              NaT   \n",
       "2                                              NaT   \n",
       "3                                              NaT   \n",
       "4                                              NaT   \n",
       "5                                              NaT   \n",
       "6                                              NaT   \n",
       "7                                              NaT   \n",
       "8                                              NaT   \n",
       "9                                              NaT   \n",
       "\n",
       "  ischemic_heart_disease_event_time  ischemic_heart_disease_event_count  \n",
       "0                               NaT                                   0  \n",
       "1                               NaT                                   0  \n",
       "2                               NaT                                   0  \n",
       "3                        2010-06-04                                   0  \n",
       "4                               NaT                                   0  \n",
       "5                               NaT                                   0  \n",
       "6                               NaT                                   0  \n",
       "7                               NaT                                   0  \n",
       "8                               NaT                                   0  \n",
       "9                               NaT                                   0  "
      ]
     },
     "execution_count": 9,
     "metadata": {},
     "output_type": "execute_result"
    }
   ],
   "source": [
    "pop.head(10)"
   ]
  },
  {
   "cell_type": "code",
   "execution_count": 10,
   "metadata": {},
   "outputs": [
    {
     "data": {
      "image/png": "[encoded data removed]",
      "text/plain": [
       "<Figure size 944.35x432 with 1 Axes>"
      ]
     },
     "metadata": {},
     "output_type": "display_data"
    }
   ],
   "source": [
    "util.plot_pop_sim(sim)"
   ]
  },
  {
   "cell_type": "code",
   "execution_count": 11,
   "metadata": {},
   "outputs": [],
   "source": [
    "pop.loc[:, 'ihd'] = sim.get_value('ischemic_heart_disease.incidence_rate')(pop.index)"
   ]
  },
  {
   "cell_type": "code",
   "execution_count": 12,
   "metadata": {},
   "outputs": [
    {
     "data": {
      "text/plain": [
       "<matplotlib.axes._subplots.AxesSubplot at 0x7fb271290828>"
      ]
     },
     "execution_count": 12,
     "metadata": {},
     "output_type": "execute_result"
    },
    {
     "data": {
      "image/png": "[encoded data removed]",
      "text/plain": [
       "<Figure size 864x864 with 1 Axes>"
      ]
     },
     "metadata": {},
     "output_type": "display_data"
    }
   ],
   "source": [
    "plt.figure(figsize=(12,12))\n",
    "sns.set(font_scale=2)\n",
    "sns.scatterplot(x='age', y='ihd', hue='sex', data=pop)"
   ]
  },
  {
   "cell_type": "code",
   "execution_count": 13,
   "metadata": {},
   "outputs": [],
   "source": [
    "pop.loc[:, 'bmi'] = sim.get_value('high_body_mass_index_in_adults.exposure')(pop.index)"
   ]
  },
  {
   "cell_type": "code",
   "execution_count": null,
   "metadata": {},
   "outputs": [],
   "source": []
  }
 ],
 "metadata": {
  "celltoolbar": "Slideshow",
  "kernelspec": {
   "display_name": "Python 3",
   "language": "python",
   "name": "python3"
  },
  "language_info": {
   "codemirror_mode": {
    "name": "ipython",
    "version": 3
   },
   "file_extension": ".py",
   "mimetype": "text/x-python",
   "name": "python",
   "nbconvert_exporter": "python",
   "pygments_lexer": "ipython3",
   "version": "3.6.9"
  },
  "rise": {
   "transition": "none"
  }
 },
 "nbformat": 4,
 "nbformat_minor": 4
}
