{
 "cells": [
  {
   "cell_type": "markdown",
   "metadata": {
    "slideshow": {
     "slide_type": "slide"
    }
   },
   "source": [
    "<h1 style=\"text-align: center;\"><span style=\"font-family:Courier; color: blue\">vivarium</span> Deep Dive</h1>\n",
    "\n",
    "<p style=\"text-align: center;\">James Collins</p>\n",
    "<p style=\"text-align: center;\">June 14, 2019</p>"
   ]
  },
  {
   "cell_type": "markdown",
   "metadata": {
    "slideshow": {
     "slide_type": "slide"
    }
   },
   "source": [
    "# Agenda"
   ]
  },
  {
   "cell_type": "markdown",
   "metadata": {
    "slideshow": {
     "slide_type": "notes"
    }
   },
   "source": [
    "Let's lay out the agenda\n",
    "\n",
    "**Slide**\n",
    "\n",
    "We'll start with a quick overview of what the vivarium framework is\n",
    "\n",
    "Won't go into any detail. In the next few months I'll give some longer talks on the framework architecture and the underlying methodology. Today, we want to get to a quick demo of some of the things we've been doing.\n",
    "\n",
    "**Slide**\n",
    "\n",
    "We sit on top of an incredibly rich data source for public health modeling and we've done a ton of work to integrate it into our simulations. I'll give a brief overview of some of the public health modeling tools we've built using vivarium.\n",
    "\n",
    "**Slide**\n",
    "\n",
    "Finally, we'll build up an individual-based disease model.  We'll start with a simple birth-death model.  Then throw in a disease and a risk and see how that changes things.  Then I'll show you some example outputs from full scale models."
   ]
  },
  {
   "cell_type": "markdown",
   "metadata": {
    "slideshow": {
     "slide_type": "fragment"
    }
   },
   "source": [
    "1. What is <span style=\"font-family:Courier; color: blue\">vivarium</span>?"
   ]
  },
  {
   "cell_type": "markdown",
   "metadata": {
    "slideshow": {
     "slide_type": "fragment"
    }
   },
   "source": [
    "2. How do you use <span style=\"font-family:Courier; color: blue\">vivarium</span> to model public health dynamics?"
   ]
  },
  {
   "cell_type": "markdown",
   "metadata": {
    "slideshow": {
     "slide_type": "fragment"
    }
   },
   "source": [
    "3. A \"relatively\" simple disease model example."
   ]
  },
  {
   "cell_type": "markdown",
   "metadata": {
    "slideshow": {
     "slide_type": "slide"
    }
   },
   "source": [
    "<h1>What is <span style=\"font-family:Courier; color: blue\">vivarium</span>?</h1>"
   ]
  },
  {
   "cell_type": "markdown",
   "metadata": {
    "slideshow": {
     "slide_type": "fragment"
    }
   },
   "source": [
    "<h2><span style=\"font-family:Courier; color: blue\">vivarium</span> is a discrete-time Monte Carlo simulation framework<h2>"
   ]
  },
  {
   "cell_type": "markdown",
   "metadata": {
    "slideshow": {
     "slide_type": "notes"
    }
   },
   "source": [
    "First, what is vivarium?\n",
    "\n",
    "**Slide**\n",
    "\n",
    "That's a lot of things.  Let's look at it in pieces."
   ]
  },
  {
   "cell_type": "markdown",
   "metadata": {
    "slideshow": {
     "slide_type": "slide"
    }
   },
   "source": [
    "<h2><span style=\"font-family:Courier; color: blue\">vivarium</span> is a <span style=\"color: red\">discrete-time</span> Monte Carlo simulation framework<h2>"
   ]
  },
  {
   "cell_type": "markdown",
   "metadata": {
    "slideshow": {
     "slide_type": "notes"
    }
   },
   "source": [
    "First it's a discrete time framework.  This means time in the simulation proceeds in discrete chunks (e.g. a second, a day, a month).  \n",
    "\n",
    "**Slide**\n",
    "\n",
    "This is the only equation, I promise.\n",
    "\n",
    "Think of X as a snapshot of the world and our model as some (possibly time-dependent) function.  To progress to the next snapshot we take a step forward in time by evaluating our function on the current state of the world.\n",
    "\n",
    "**Slide**\n",
    "\n",
    "This is the fundamental nature of many kinds of simulation models. What's important is that we decide what delta t is before we evaluate our model and move to the next step. We'll ask questions like does a person get sick in the next month?  Do they die in the next month?  etc."
   ]
  },
  {
   "cell_type": "markdown",
   "metadata": {
    "slideshow": {
     "slide_type": "fragment"
    }
   },
   "source": [
    "$$\n",
    "X_{t+\\Delta t} = f(X_t, t, \\Delta t)\n",
    "$$"
   ]
  },
  {
   "cell_type": "markdown",
   "metadata": {
    "slideshow": {
     "slide_type": "fragment"
    }
   },
   "source": [
    "<img src=\"model_loop.png\" style=\"display: block; margin-left: auto; margin-right: auto; width: 40%\">"
   ]
  },
  {
   "cell_type": "markdown",
   "metadata": {
    "slideshow": {
     "slide_type": "slide"
    }
   },
   "source": [
    "<h2><span style=\"font-family:Courier; color: blue\">vivarium</span> is a discrete-time <span style=\"color: red\">Monte Carlo simulation</span> framework<h2>"
   ]
  },
  {
   "cell_type": "markdown",
   "metadata": {
    "slideshow": {
     "slide_type": "notes"
    }
   },
   "source": [
    "How many of you are familiar with Monte Carlo methods?  Someone want to take a stab at defining them?\n",
    "\n",
    "Using random numbers to inform stuff we don't know for sure about.\n",
    "\n",
    "**Slide**\n",
    "\n",
    "I had a professor in a science class tell me that any measurement without an estimation of uncertainty is totally useless.  We spend a ton of time trying to inform policy makers to help them make good decisions about what to do.  That gives us a tremendous amout of power, so accurately representing how certain or uncertain we are is an important responsibility.\n",
    "\n",
    "**Slide**\n",
    "\n",
    "In the context of our simulations, we use Monte Carlo methods to capture all the exogenous randomness in the model.  E.g. I may know your age/sex/bmi/smoking history, but I don't necessarily know how frequently you eat hamburgers or whether you go to political protests or whether there's mold in your workplace or eight million other things.  We capture all that exogenous heterogeneity with random numbers.\n",
    "\n",
    "\n",
    "Note: We also deal with parameter uncertainty, and I'll talk about that a bit at the end if there's time."
   ]
  },
  {
   "cell_type": "markdown",
   "metadata": {
    "slideshow": {
     "slide_type": "fragment"
    }
   },
   "source": [
    "- We care about uncertainty"
   ]
  },
  {
   "cell_type": "markdown",
   "metadata": {
    "slideshow": {
     "slide_type": "fragment"
    }
   },
   "source": [
    "- We care about <span style=\"color: green\">stochastic</span> uncertainty."
   ]
  },
  {
   "cell_type": "markdown",
   "metadata": {
    "slideshow": {
     "slide_type": "slide"
    }
   },
   "source": [
    "<h2><span style=\"font-family:Courier; color: blue\">vivarium</span> is a discrete-time Monte Carlo simulation <span style=\"color: red\">framework</span><h2>"
   ]
  },
  {
   "cell_type": "markdown",
   "metadata": {
    "slideshow": {
     "slide_type": "notes"
    }
   },
   "source": [
    "Frameworks are funny things in software.\n",
    "\n",
    "**Slide**\n",
    "\n",
    "Web and Gui frameworks allow users to build applications for end users.\n",
    "\n",
    "**Slide**\n",
    "\n",
    "It provides a bunch of features that are generally useful in simulation modeling like state management, data interpolation, a clock, etc, as well as an environment in which to run those simulations.  \n",
    "\n",
    "If that seems abstract, it's because it is.  Let's get concrete."
   ]
  },
  {
   "cell_type": "markdown",
   "metadata": {
    "slideshow": {
     "slide_type": "fragment"
    }
   },
   "source": [
    "- Frameworks are tools for building tools"
   ]
  },
  {
   "cell_type": "markdown",
   "metadata": {
    "slideshow": {
     "slide_type": "fragment"
    }
   },
   "source": [
    "- <span style=\"font-family:Courier; color: blue\">vivarium</span> is a tool for building tools for building simulation models."
   ]
  },
  {
   "cell_type": "markdown",
   "metadata": {
    "slideshow": {
     "slide_type": "slide"
    }
   },
   "source": [
    "<h1>How do you use <span style=\"font-family:Courier; color: blue\">vivarium</span> to model public health dynamics?</h1>"
   ]
  },
  {
   "cell_type": "markdown",
   "metadata": {
    "slideshow": {
     "slide_type": "notes"
    }
   },
   "source": [
    "Well according to what we just learned, we use vivarium to build public health modeling tools."
   ]
  },
  {
   "cell_type": "markdown",
   "metadata": {
    "slideshow": {
     "slide_type": "slide"
    }
   },
   "source": [
    "<h2>Use <span style=\"font-family:Courier; color: blue\">vivarium_public_health</span>!</h2>"
   ]
  },
  {
   "cell_type": "markdown",
   "metadata": {
    "slideshow": {
     "slide_type": "notes"
    }
   },
   "source": [
    "vph is a suite of public health specific modeling components built to think about public health phenomena in the same way that GBD does. It includes:"
   ]
  },
  {
   "cell_type": "markdown",
   "metadata": {
    "slideshow": {
     "slide_type": "fragment"
    }
   },
   "source": [
    "- Components that capture demographic aspects of a modeled population (the starting population characteristics, birth, death, disability)."
   ]
  },
  {
   "cell_type": "markdown",
   "metadata": {
    "slideshow": {
     "slide_type": "fragment"
    }
   },
   "source": [
    "- Components that capture how diseases affect the population and how those diseases affect mortality and disability."
   ]
  },
  {
   "cell_type": "markdown",
   "metadata": {
    "slideshow": {
     "slide_type": "fragment"
    }
   },
   "source": [
    "- Components that model risk exposure and how that risk exposure contributes to disease incidence and mortality."
   ]
  },
  {
   "cell_type": "markdown",
   "metadata": {
    "slideshow": {
     "slide_type": "fragment"
    }
   },
   "source": [
    "- Components that measure and report what's going on in the simulated population."
   ]
  },
  {
   "cell_type": "markdown",
   "metadata": {
    "slideshow": {
     "slide_type": "slide"
    }
   },
   "source": [
    "<h1 style=\"text-align: center;\">Let's build a model!</h1>"
   ]
  },
  {
   "cell_type": "code",
   "execution_count": 1,
   "metadata": {
    "slideshow": {
     "slide_type": "slide"
    }
   },
   "outputs": [
    {
     "name": "stdout",
     "output_type": "stream",
     "text": [
      "plugins:\r\n",
      "        optional:\r\n",
      "                data:\r\n",
      "                        controller: \"vivarium_public_health.dataset_manager.ArtifactManager\"\r\n",
      "                        builder_interface: \"vivarium_public_health.dataset_manager.ArtifactManagerInterface\"\r\n",
      "\r\n",
      "components:\r\n",
      "        vivarium_public_health:\r\n",
      "                population:\r\n",
      "                        - BasePopulation()\r\n",
      "                        - Mortality()\r\n",
      "                        - FertilityCrudeBirthRate()\r\n",
      "                metrics:\r\n",
      "                        - Disability()\r\n",
      "                        - MortalityObserver()\r\n",
      "\r\n",
      "configuration:\r\n",
      "        input_data:\r\n",
      "                location: Kenya\r\n",
      "                input_draw_number: 0\r\n",
      "                artifact_path: /home/collijk/vivarium-demo/artifact.hdf\r\n",
      "        time:\r\n",
      "                start:\r\n",
      "                        year: 2010\r\n",
      "                end:\r\n",
      "                        year: 2015\r\n",
      "                step_size: 28 # Days\r\n",
      "        population:\r\n",
      "                age_start: 0\r\n",
      "                age_end: 100\r\n",
      "                population_size: 5_000\r\n",
      "        metrics:\r\n",
      "                mortality:\r\n",
      "                        by_age: True\r\n",
      "                        by_sex: True\r\n",
      "                        by_year: True\r\n",
      "                disability:\r\n",
      "                        by_age: True\r\n",
      "                        by_sex: True\r\n",
      "                        by_year: True\r\n"
     ]
    }
   ],
   "source": [
    "!cat birth_death.yaml"
   ]
  },
  {
   "cell_type": "markdown",
   "metadata": {
    "slideshow": {
     "slide_type": "notes"
    }
   },
   "source": [
    "Here's an example model specification.  \n",
    "\n",
    "Key pieces: \n",
    "\n",
    "components\n",
    "- population\n",
    "- mortality\n",
    "- fertility\n",
    "\n",
    "configuration\n",
    "- input data\n",
    "- time span and step size\n",
    "- population characteristics\n",
    "\n",
    "Data that informs this model:\n",
    "\n",
    "- GBD population estimates\n",
    "- GBD live births by sex -> Crude birth rate\n",
    "- GBD all cause mortality rate\n"
   ]
  },
  {
   "cell_type": "code",
   "execution_count": 2,
   "metadata": {
    "slideshow": {
     "slide_type": "skip"
    }
   },
   "outputs": [],
   "source": [
    "import warnings\n",
    "warnings.filterwarnings('ignore')"
   ]
  },
  {
   "cell_type": "code",
   "execution_count": 4,
   "metadata": {
    "slideshow": {
     "slide_type": "slide"
    }
   },
   "outputs": [
    {
     "ename": "KeyError",
     "evalue": "('age_group_start', 'occurred at index 0')",
     "output_type": "error",
     "traceback": [
      "\u001b[0;31m---------------------------------------------------------------------------\u001b[0m",
      "\u001b[0;31mTypeError\u001b[0m                                 Traceback (most recent call last)",
      "\u001b[0;32m~/miniconda3/envs/vivarium-demo/lib/python3.6/site-packages/pandas/core/indexes/base.py\u001b[0m in \u001b[0;36mget_value\u001b[0;34m(self, series, key)\u001b[0m\n\u001b[1;32m   4380\u001b[0m             \u001b[0;32mtry\u001b[0m\u001b[0;34m:\u001b[0m\u001b[0;34m\u001b[0m\u001b[0;34m\u001b[0m\u001b[0m\n\u001b[0;32m-> 4381\u001b[0;31m                 \u001b[0;32mreturn\u001b[0m \u001b[0mlibindex\u001b[0m\u001b[0;34m.\u001b[0m\u001b[0mget_value_box\u001b[0m\u001b[0;34m(\u001b[0m\u001b[0ms\u001b[0m\u001b[0;34m,\u001b[0m \u001b[0mkey\u001b[0m\u001b[0;34m)\u001b[0m\u001b[0;34m\u001b[0m\u001b[0;34m\u001b[0m\u001b[0m\n\u001b[0m\u001b[1;32m   4382\u001b[0m             \u001b[0;32mexcept\u001b[0m \u001b[0mIndexError\u001b[0m\u001b[0;34m:\u001b[0m\u001b[0;34m\u001b[0m\u001b[0;34m\u001b[0m\u001b[0m\n",
      "\u001b[0;32mpandas/_libs/index.pyx\u001b[0m in \u001b[0;36mpandas._libs.index.get_value_box\u001b[0;34m()\u001b[0m\n",
      "\u001b[0;32mpandas/_libs/index.pyx\u001b[0m in \u001b[0;36mpandas._libs.index.get_value_at\u001b[0;34m()\u001b[0m\n",
      "\u001b[0;32mpandas/_libs/util.pxd\u001b[0m in \u001b[0;36mpandas._libs.util.get_value_at\u001b[0;34m()\u001b[0m\n",
      "\u001b[0;32mpandas/_libs/util.pxd\u001b[0m in \u001b[0;36mpandas._libs.util.validate_indexer\u001b[0;34m()\u001b[0m\n",
      "\u001b[0;31mTypeError\u001b[0m: 'str' object cannot be interpreted as an integer",
      "\nDuring handling of the above exception, another exception occurred:\n",
      "\u001b[0;31mKeyError\u001b[0m                                  Traceback (most recent call last)",
      "\u001b[0;32m<ipython-input-4-3735cb10cb9e>\u001b[0m in \u001b[0;36m<module>\u001b[0;34m\u001b[0m\n\u001b[1;32m      9\u001b[0m \u001b[0msim\u001b[0m \u001b[0;34m=\u001b[0m \u001b[0minitialize_simulation_from_model_specification\u001b[0m\u001b[0;34m(\u001b[0m\u001b[0;34m'birth_death.yaml'\u001b[0m\u001b[0;34m)\u001b[0m\u001b[0;34m\u001b[0m\u001b[0;34m\u001b[0m\u001b[0m\n\u001b[1;32m     10\u001b[0m \u001b[0msim\u001b[0m\u001b[0;34m.\u001b[0m\u001b[0mconfiguration\u001b[0m\u001b[0;34m.\u001b[0m\u001b[0minput_data\u001b[0m\u001b[0;34m.\u001b[0m\u001b[0martifact_path\u001b[0m \u001b[0;34m=\u001b[0m \u001b[0mstr\u001b[0m\u001b[0;34m(\u001b[0m\u001b[0mPath\u001b[0m\u001b[0;34m(\u001b[0m\u001b[0;34m'.'\u001b[0m\u001b[0;34m)\u001b[0m\u001b[0;34m.\u001b[0m\u001b[0mresolve\u001b[0m\u001b[0;34m(\u001b[0m\u001b[0;34m)\u001b[0m \u001b[0;34m/\u001b[0m \u001b[0;34m'artifact.hdf'\u001b[0m\u001b[0;34m)\u001b[0m\u001b[0;34m\u001b[0m\u001b[0;34m\u001b[0m\u001b[0m\n\u001b[0;32m---> 11\u001b[0;31m \u001b[0msim\u001b[0m\u001b[0;34m.\u001b[0m\u001b[0msetup\u001b[0m\u001b[0;34m(\u001b[0m\u001b[0;34m)\u001b[0m\u001b[0;34m\u001b[0m\u001b[0;34m\u001b[0m\u001b[0m\n\u001b[0m",
      "\u001b[0;32m~/miniconda3/envs/vivarium-demo/lib/python3.6/site-packages/vivarium/interface/interactive.py\u001b[0m in \u001b[0;36msetup\u001b[0;34m(self)\u001b[0m\n\u001b[1;32m     47\u001b[0m     \u001b[0;32mdef\u001b[0m \u001b[0msetup\u001b[0m\u001b[0;34m(\u001b[0m\u001b[0mself\u001b[0m\u001b[0;34m)\u001b[0m\u001b[0;34m:\u001b[0m\u001b[0;34m\u001b[0m\u001b[0;34m\u001b[0m\u001b[0m\n\u001b[1;32m     48\u001b[0m         \u001b[0;34m\"\"\"Setup the simulation and initialize its population.\"\"\"\u001b[0m\u001b[0;34m\u001b[0m\u001b[0;34m\u001b[0m\u001b[0m\n\u001b[0;32m---> 49\u001b[0;31m         \u001b[0msuper\u001b[0m\u001b[0;34m(\u001b[0m\u001b[0;34m)\u001b[0m\u001b[0;34m.\u001b[0m\u001b[0msetup\u001b[0m\u001b[0;34m(\u001b[0m\u001b[0;34m)\u001b[0m\u001b[0;34m\u001b[0m\u001b[0;34m\u001b[0m\u001b[0m\n\u001b[0m\u001b[1;32m     50\u001b[0m         \u001b[0mself\u001b[0m\u001b[0;34m.\u001b[0m\u001b[0m_start_time\u001b[0m \u001b[0;34m=\u001b[0m \u001b[0mself\u001b[0m\u001b[0;34m.\u001b[0m\u001b[0mclock\u001b[0m\u001b[0;34m.\u001b[0m\u001b[0mtime\u001b[0m\u001b[0;34m\u001b[0m\u001b[0;34m\u001b[0m\u001b[0m\n\u001b[1;32m     51\u001b[0m         \u001b[0mself\u001b[0m\u001b[0;34m.\u001b[0m\u001b[0minitialize_simulants\u001b[0m\u001b[0;34m(\u001b[0m\u001b[0;34m)\u001b[0m\u001b[0;34m\u001b[0m\u001b[0;34m\u001b[0m\u001b[0m\n",
      "\u001b[0;32m~/miniconda3/envs/vivarium-demo/lib/python3.6/site-packages/vivarium/framework/engine.py\u001b[0m in \u001b[0;36msetup\u001b[0;34m(self)\u001b[0m\n\u001b[1;32m     71\u001b[0m \u001b[0;34m\u001b[0m\u001b[0m\n\u001b[1;32m     72\u001b[0m     \u001b[0;32mdef\u001b[0m \u001b[0msetup\u001b[0m\u001b[0;34m(\u001b[0m\u001b[0mself\u001b[0m\u001b[0;34m)\u001b[0m\u001b[0;34m:\u001b[0m\u001b[0;34m\u001b[0m\u001b[0;34m\u001b[0m\u001b[0m\n\u001b[0;32m---> 73\u001b[0;31m         \u001b[0mself\u001b[0m\u001b[0;34m.\u001b[0m\u001b[0mcomponent_manager\u001b[0m\u001b[0;34m.\u001b[0m\u001b[0msetup_components\u001b[0m\u001b[0;34m(\u001b[0m\u001b[0mself\u001b[0m\u001b[0;34m.\u001b[0m\u001b[0mbuilder\u001b[0m\u001b[0;34m,\u001b[0m \u001b[0mself\u001b[0m\u001b[0;34m.\u001b[0m\u001b[0mconfiguration\u001b[0m\u001b[0;34m)\u001b[0m\u001b[0;34m\u001b[0m\u001b[0;34m\u001b[0m\u001b[0m\n\u001b[0m\u001b[1;32m     74\u001b[0m         \u001b[0mself\u001b[0m\u001b[0;34m.\u001b[0m\u001b[0msimulant_creator\u001b[0m \u001b[0;34m=\u001b[0m \u001b[0mself\u001b[0m\u001b[0;34m.\u001b[0m\u001b[0mbuilder\u001b[0m\u001b[0;34m.\u001b[0m\u001b[0mpopulation\u001b[0m\u001b[0;34m.\u001b[0m\u001b[0mget_simulant_creator\u001b[0m\u001b[0;34m(\u001b[0m\u001b[0;34m)\u001b[0m\u001b[0;34m\u001b[0m\u001b[0;34m\u001b[0m\u001b[0m\n\u001b[1;32m     75\u001b[0m \u001b[0;34m\u001b[0m\u001b[0m\n",
      "\u001b[0;32m~/miniconda3/envs/vivarium-demo/lib/python3.6/site-packages/vivarium/framework/components/manager.py\u001b[0m in \u001b[0;36msetup_components\u001b[0;34m(self, builder, configuration)\u001b[0m\n\u001b[1;32m    185\u001b[0m         \"\"\"\n\u001b[1;32m    186\u001b[0m         \u001b[0mself\u001b[0m\u001b[0;34m.\u001b[0m\u001b[0m_managers\u001b[0m \u001b[0;34m=\u001b[0m \u001b[0msetup_components\u001b[0m\u001b[0;34m(\u001b[0m\u001b[0mbuilder\u001b[0m\u001b[0;34m,\u001b[0m \u001b[0mself\u001b[0m\u001b[0;34m.\u001b[0m\u001b[0m_managers\u001b[0m\u001b[0;34m,\u001b[0m \u001b[0mconfiguration\u001b[0m\u001b[0;34m)\u001b[0m\u001b[0;34m\u001b[0m\u001b[0;34m\u001b[0m\u001b[0m\n\u001b[0;32m--> 187\u001b[0;31m         \u001b[0mself\u001b[0m\u001b[0;34m.\u001b[0m\u001b[0m_components\u001b[0m \u001b[0;34m=\u001b[0m \u001b[0msetup_components\u001b[0m\u001b[0;34m(\u001b[0m\u001b[0mbuilder\u001b[0m\u001b[0;34m,\u001b[0m \u001b[0mself\u001b[0m\u001b[0;34m.\u001b[0m\u001b[0m_components\u001b[0m\u001b[0;34m,\u001b[0m \u001b[0mconfiguration\u001b[0m\u001b[0;34m)\u001b[0m\u001b[0;34m\u001b[0m\u001b[0;34m\u001b[0m\u001b[0m\n\u001b[0m\u001b[1;32m    188\u001b[0m \u001b[0;34m\u001b[0m\u001b[0m\n\u001b[1;32m    189\u001b[0m     \u001b[0;32mdef\u001b[0m \u001b[0m__repr__\u001b[0m\u001b[0;34m(\u001b[0m\u001b[0mself\u001b[0m\u001b[0;34m)\u001b[0m\u001b[0;34m:\u001b[0m\u001b[0;34m\u001b[0m\u001b[0;34m\u001b[0m\u001b[0m\n",
      "\u001b[0;32m~/miniconda3/envs/vivarium-demo/lib/python3.6/site-packages/vivarium/framework/components/manager.py\u001b[0m in \u001b[0;36msetup_components\u001b[0;34m(builder, component_list, configuration)\u001b[0m\n\u001b[1;32m    303\u001b[0m         \u001b[0;32mif\u001b[0m \u001b[0mc\u001b[0m \u001b[0;32mnot\u001b[0m \u001b[0;32min\u001b[0m \u001b[0msetup\u001b[0m\u001b[0;34m:\u001b[0m\u001b[0;34m\u001b[0m\u001b[0;34m\u001b[0m\u001b[0m\n\u001b[1;32m    304\u001b[0m             \u001b[0;32mif\u001b[0m \u001b[0mhasattr\u001b[0m\u001b[0;34m(\u001b[0m\u001b[0mc\u001b[0m\u001b[0;34m,\u001b[0m \u001b[0;34m\"setup\"\u001b[0m\u001b[0;34m)\u001b[0m\u001b[0;34m:\u001b[0m\u001b[0;34m\u001b[0m\u001b[0;34m\u001b[0m\u001b[0m\n\u001b[0;32m--> 305\u001b[0;31m                 \u001b[0mc\u001b[0m\u001b[0;34m.\u001b[0m\u001b[0msetup\u001b[0m\u001b[0;34m(\u001b[0m\u001b[0mbuilder\u001b[0m\u001b[0;34m)\u001b[0m\u001b[0;34m\u001b[0m\u001b[0;34m\u001b[0m\u001b[0m\n\u001b[0m\u001b[1;32m    306\u001b[0m             \u001b[0msetup\u001b[0m\u001b[0;34m.\u001b[0m\u001b[0mappend\u001b[0m\u001b[0;34m(\u001b[0m\u001b[0mc\u001b[0m\u001b[0;34m)\u001b[0m\u001b[0;34m\u001b[0m\u001b[0;34m\u001b[0m\u001b[0m\n\u001b[1;32m    307\u001b[0m \u001b[0;34m\u001b[0m\u001b[0m\n",
      "\u001b[0;32m~/miniconda3/envs/vivarium-demo/lib/python3.6/site-packages/vivarium_public_health/population/base_population.py\u001b[0m in \u001b[0;36msetup\u001b[0;34m(self, builder)\u001b[0m\n\u001b[1;32m     48\u001b[0m         \u001b[0mbuilder\u001b[0m\u001b[0;34m.\u001b[0m\u001b[0mpopulation\u001b[0m\u001b[0;34m.\u001b[0m\u001b[0minitializes_simulants\u001b[0m\u001b[0;34m(\u001b[0m\u001b[0mself\u001b[0m\u001b[0;34m.\u001b[0m\u001b[0mgenerate_base_population\u001b[0m\u001b[0;34m,\u001b[0m \u001b[0mcreates_columns\u001b[0m\u001b[0;34m=\u001b[0m\u001b[0mcolumns\u001b[0m\u001b[0;34m)\u001b[0m\u001b[0;34m\u001b[0m\u001b[0;34m\u001b[0m\u001b[0m\n\u001b[1;32m     49\u001b[0m \u001b[0;34m\u001b[0m\u001b[0m\n\u001b[0;32m---> 50\u001b[0;31m         \u001b[0msource_population_structure\u001b[0m \u001b[0;34m=\u001b[0m \u001b[0mload_population_structure\u001b[0m\u001b[0;34m(\u001b[0m\u001b[0mbuilder\u001b[0m\u001b[0;34m)\u001b[0m\u001b[0;34m\u001b[0m\u001b[0;34m\u001b[0m\u001b[0m\n\u001b[0m\u001b[1;32m     51\u001b[0m         \u001b[0msource_population_structure\u001b[0m\u001b[0;34m[\u001b[0m\u001b[0;34m'location'\u001b[0m\u001b[0;34m]\u001b[0m \u001b[0;34m=\u001b[0m \u001b[0minput_config\u001b[0m\u001b[0;34m.\u001b[0m\u001b[0mlocation\u001b[0m\u001b[0;34m\u001b[0m\u001b[0;34m\u001b[0m\u001b[0m\n\u001b[1;32m     52\u001b[0m \u001b[0;34m\u001b[0m\u001b[0m\n",
      "\u001b[0;32m~/miniconda3/envs/vivarium-demo/lib/python3.6/site-packages/vivarium_public_health/population/data_transformations.py\u001b[0m in \u001b[0;36mload_population_structure\u001b[0;34m(builder)\u001b[0m\n\u001b[1;32m    368\u001b[0m     \u001b[0mdata\u001b[0m \u001b[0;34m=\u001b[0m \u001b[0mbuilder\u001b[0m\u001b[0;34m.\u001b[0m\u001b[0mdata\u001b[0m\u001b[0;34m.\u001b[0m\u001b[0mload\u001b[0m\u001b[0;34m(\u001b[0m\u001b[0;34m\"population.structure\"\u001b[0m\u001b[0;34m)\u001b[0m\u001b[0;34m\u001b[0m\u001b[0;34m\u001b[0m\u001b[0m\n\u001b[1;32m    369\u001b[0m     \u001b[0;31m# create an age column which is the midpoint of the age group\u001b[0m\u001b[0;34m\u001b[0m\u001b[0;34m\u001b[0m\u001b[0;34m\u001b[0m\u001b[0m\n\u001b[0;32m--> 370\u001b[0;31m     \u001b[0mdata\u001b[0m\u001b[0;34m[\u001b[0m\u001b[0;34m'age'\u001b[0m\u001b[0;34m]\u001b[0m \u001b[0;34m=\u001b[0m \u001b[0mdata\u001b[0m\u001b[0;34m.\u001b[0m\u001b[0mapply\u001b[0m\u001b[0;34m(\u001b[0m\u001b[0;32mlambda\u001b[0m \u001b[0mrow\u001b[0m\u001b[0;34m:\u001b[0m \u001b[0;34m(\u001b[0m\u001b[0mrow\u001b[0m\u001b[0;34m[\u001b[0m\u001b[0;34m'age_group_start'\u001b[0m\u001b[0;34m]\u001b[0m \u001b[0;34m+\u001b[0m \u001b[0mrow\u001b[0m\u001b[0;34m[\u001b[0m\u001b[0;34m'age_group_end'\u001b[0m\u001b[0;34m]\u001b[0m\u001b[0;34m)\u001b[0m \u001b[0;34m/\u001b[0m \u001b[0;36m2\u001b[0m\u001b[0;34m,\u001b[0m \u001b[0maxis\u001b[0m\u001b[0;34m=\u001b[0m\u001b[0;36m1\u001b[0m\u001b[0;34m)\u001b[0m\u001b[0;34m\u001b[0m\u001b[0;34m\u001b[0m\u001b[0m\n\u001b[0m\u001b[1;32m    371\u001b[0m     \u001b[0;32mreturn\u001b[0m \u001b[0mdata\u001b[0m\u001b[0;34m\u001b[0m\u001b[0;34m\u001b[0m\u001b[0m\n\u001b[1;32m    372\u001b[0m \u001b[0;34m\u001b[0m\u001b[0m\n",
      "\u001b[0;32m~/miniconda3/envs/vivarium-demo/lib/python3.6/site-packages/pandas/core/frame.py\u001b[0m in \u001b[0;36mapply\u001b[0;34m(self, func, axis, broadcast, raw, reduce, result_type, args, **kwds)\u001b[0m\n\u001b[1;32m   6485\u001b[0m                          \u001b[0margs\u001b[0m\u001b[0;34m=\u001b[0m\u001b[0margs\u001b[0m\u001b[0;34m,\u001b[0m\u001b[0;34m\u001b[0m\u001b[0;34m\u001b[0m\u001b[0m\n\u001b[1;32m   6486\u001b[0m                          kwds=kwds)\n\u001b[0;32m-> 6487\u001b[0;31m         \u001b[0;32mreturn\u001b[0m \u001b[0mop\u001b[0m\u001b[0;34m.\u001b[0m\u001b[0mget_result\u001b[0m\u001b[0;34m(\u001b[0m\u001b[0;34m)\u001b[0m\u001b[0;34m\u001b[0m\u001b[0;34m\u001b[0m\u001b[0m\n\u001b[0m\u001b[1;32m   6488\u001b[0m \u001b[0;34m\u001b[0m\u001b[0m\n\u001b[1;32m   6489\u001b[0m     \u001b[0;32mdef\u001b[0m \u001b[0mapplymap\u001b[0m\u001b[0;34m(\u001b[0m\u001b[0mself\u001b[0m\u001b[0;34m,\u001b[0m \u001b[0mfunc\u001b[0m\u001b[0;34m)\u001b[0m\u001b[0;34m:\u001b[0m\u001b[0;34m\u001b[0m\u001b[0;34m\u001b[0m\u001b[0m\n",
      "\u001b[0;32m~/miniconda3/envs/vivarium-demo/lib/python3.6/site-packages/pandas/core/apply.py\u001b[0m in \u001b[0;36mget_result\u001b[0;34m(self)\u001b[0m\n\u001b[1;32m    149\u001b[0m             \u001b[0;32mreturn\u001b[0m \u001b[0mself\u001b[0m\u001b[0;34m.\u001b[0m\u001b[0mapply_raw\u001b[0m\u001b[0;34m(\u001b[0m\u001b[0;34m)\u001b[0m\u001b[0;34m\u001b[0m\u001b[0;34m\u001b[0m\u001b[0m\n\u001b[1;32m    150\u001b[0m \u001b[0;34m\u001b[0m\u001b[0m\n\u001b[0;32m--> 151\u001b[0;31m         \u001b[0;32mreturn\u001b[0m \u001b[0mself\u001b[0m\u001b[0;34m.\u001b[0m\u001b[0mapply_standard\u001b[0m\u001b[0;34m(\u001b[0m\u001b[0;34m)\u001b[0m\u001b[0;34m\u001b[0m\u001b[0;34m\u001b[0m\u001b[0m\n\u001b[0m\u001b[1;32m    152\u001b[0m \u001b[0;34m\u001b[0m\u001b[0m\n\u001b[1;32m    153\u001b[0m     \u001b[0;32mdef\u001b[0m \u001b[0mapply_empty_result\u001b[0m\u001b[0;34m(\u001b[0m\u001b[0mself\u001b[0m\u001b[0;34m)\u001b[0m\u001b[0;34m:\u001b[0m\u001b[0;34m\u001b[0m\u001b[0;34m\u001b[0m\u001b[0m\n",
      "\u001b[0;32m~/miniconda3/envs/vivarium-demo/lib/python3.6/site-packages/pandas/core/apply.py\u001b[0m in \u001b[0;36mapply_standard\u001b[0;34m(self)\u001b[0m\n\u001b[1;32m    255\u001b[0m \u001b[0;34m\u001b[0m\u001b[0m\n\u001b[1;32m    256\u001b[0m         \u001b[0;31m# compute the result using the series generator\u001b[0m\u001b[0;34m\u001b[0m\u001b[0;34m\u001b[0m\u001b[0;34m\u001b[0m\u001b[0m\n\u001b[0;32m--> 257\u001b[0;31m         \u001b[0mself\u001b[0m\u001b[0;34m.\u001b[0m\u001b[0mapply_series_generator\u001b[0m\u001b[0;34m(\u001b[0m\u001b[0;34m)\u001b[0m\u001b[0;34m\u001b[0m\u001b[0;34m\u001b[0m\u001b[0m\n\u001b[0m\u001b[1;32m    258\u001b[0m \u001b[0;34m\u001b[0m\u001b[0m\n\u001b[1;32m    259\u001b[0m         \u001b[0;31m# wrap results\u001b[0m\u001b[0;34m\u001b[0m\u001b[0;34m\u001b[0m\u001b[0;34m\u001b[0m\u001b[0m\n",
      "\u001b[0;32m~/miniconda3/envs/vivarium-demo/lib/python3.6/site-packages/pandas/core/apply.py\u001b[0m in \u001b[0;36mapply_series_generator\u001b[0;34m(self)\u001b[0m\n\u001b[1;32m    284\u001b[0m             \u001b[0;32mtry\u001b[0m\u001b[0;34m:\u001b[0m\u001b[0;34m\u001b[0m\u001b[0;34m\u001b[0m\u001b[0m\n\u001b[1;32m    285\u001b[0m                 \u001b[0;32mfor\u001b[0m \u001b[0mi\u001b[0m\u001b[0;34m,\u001b[0m \u001b[0mv\u001b[0m \u001b[0;32min\u001b[0m \u001b[0menumerate\u001b[0m\u001b[0;34m(\u001b[0m\u001b[0mseries_gen\u001b[0m\u001b[0;34m)\u001b[0m\u001b[0;34m:\u001b[0m\u001b[0;34m\u001b[0m\u001b[0;34m\u001b[0m\u001b[0m\n\u001b[0;32m--> 286\u001b[0;31m                     \u001b[0mresults\u001b[0m\u001b[0;34m[\u001b[0m\u001b[0mi\u001b[0m\u001b[0;34m]\u001b[0m \u001b[0;34m=\u001b[0m \u001b[0mself\u001b[0m\u001b[0;34m.\u001b[0m\u001b[0mf\u001b[0m\u001b[0;34m(\u001b[0m\u001b[0mv\u001b[0m\u001b[0;34m)\u001b[0m\u001b[0;34m\u001b[0m\u001b[0;34m\u001b[0m\u001b[0m\n\u001b[0m\u001b[1;32m    287\u001b[0m                     \u001b[0mkeys\u001b[0m\u001b[0;34m.\u001b[0m\u001b[0mappend\u001b[0m\u001b[0;34m(\u001b[0m\u001b[0mv\u001b[0m\u001b[0;34m.\u001b[0m\u001b[0mname\u001b[0m\u001b[0;34m)\u001b[0m\u001b[0;34m\u001b[0m\u001b[0;34m\u001b[0m\u001b[0m\n\u001b[1;32m    288\u001b[0m             \u001b[0;32mexcept\u001b[0m \u001b[0mException\u001b[0m \u001b[0;32mas\u001b[0m \u001b[0me\u001b[0m\u001b[0;34m:\u001b[0m\u001b[0;34m\u001b[0m\u001b[0;34m\u001b[0m\u001b[0m\n",
      "\u001b[0;32m~/miniconda3/envs/vivarium-demo/lib/python3.6/site-packages/vivarium_public_health/population/data_transformations.py\u001b[0m in \u001b[0;36m<lambda>\u001b[0;34m(row)\u001b[0m\n\u001b[1;32m    368\u001b[0m     \u001b[0mdata\u001b[0m \u001b[0;34m=\u001b[0m \u001b[0mbuilder\u001b[0m\u001b[0;34m.\u001b[0m\u001b[0mdata\u001b[0m\u001b[0;34m.\u001b[0m\u001b[0mload\u001b[0m\u001b[0;34m(\u001b[0m\u001b[0;34m\"population.structure\"\u001b[0m\u001b[0;34m)\u001b[0m\u001b[0;34m\u001b[0m\u001b[0;34m\u001b[0m\u001b[0m\n\u001b[1;32m    369\u001b[0m     \u001b[0;31m# create an age column which is the midpoint of the age group\u001b[0m\u001b[0;34m\u001b[0m\u001b[0;34m\u001b[0m\u001b[0;34m\u001b[0m\u001b[0m\n\u001b[0;32m--> 370\u001b[0;31m     \u001b[0mdata\u001b[0m\u001b[0;34m[\u001b[0m\u001b[0;34m'age'\u001b[0m\u001b[0;34m]\u001b[0m \u001b[0;34m=\u001b[0m \u001b[0mdata\u001b[0m\u001b[0;34m.\u001b[0m\u001b[0mapply\u001b[0m\u001b[0;34m(\u001b[0m\u001b[0;32mlambda\u001b[0m \u001b[0mrow\u001b[0m\u001b[0;34m:\u001b[0m \u001b[0;34m(\u001b[0m\u001b[0mrow\u001b[0m\u001b[0;34m[\u001b[0m\u001b[0;34m'age_group_start'\u001b[0m\u001b[0;34m]\u001b[0m \u001b[0;34m+\u001b[0m \u001b[0mrow\u001b[0m\u001b[0;34m[\u001b[0m\u001b[0;34m'age_group_end'\u001b[0m\u001b[0;34m]\u001b[0m\u001b[0;34m)\u001b[0m \u001b[0;34m/\u001b[0m \u001b[0;36m2\u001b[0m\u001b[0;34m,\u001b[0m \u001b[0maxis\u001b[0m\u001b[0;34m=\u001b[0m\u001b[0;36m1\u001b[0m\u001b[0;34m)\u001b[0m\u001b[0;34m\u001b[0m\u001b[0;34m\u001b[0m\u001b[0m\n\u001b[0m\u001b[1;32m    371\u001b[0m     \u001b[0;32mreturn\u001b[0m \u001b[0mdata\u001b[0m\u001b[0;34m\u001b[0m\u001b[0;34m\u001b[0m\u001b[0m\n\u001b[1;32m    372\u001b[0m \u001b[0;34m\u001b[0m\u001b[0m\n",
      "\u001b[0;32m~/miniconda3/envs/vivarium-demo/lib/python3.6/site-packages/pandas/core/series.py\u001b[0m in \u001b[0;36m__getitem__\u001b[0;34m(self, key)\u001b[0m\n\u001b[1;32m    866\u001b[0m         \u001b[0mkey\u001b[0m \u001b[0;34m=\u001b[0m \u001b[0mcom\u001b[0m\u001b[0;34m.\u001b[0m\u001b[0mapply_if_callable\u001b[0m\u001b[0;34m(\u001b[0m\u001b[0mkey\u001b[0m\u001b[0;34m,\u001b[0m \u001b[0mself\u001b[0m\u001b[0;34m)\u001b[0m\u001b[0;34m\u001b[0m\u001b[0;34m\u001b[0m\u001b[0m\n\u001b[1;32m    867\u001b[0m         \u001b[0;32mtry\u001b[0m\u001b[0;34m:\u001b[0m\u001b[0;34m\u001b[0m\u001b[0;34m\u001b[0m\u001b[0m\n\u001b[0;32m--> 868\u001b[0;31m             \u001b[0mresult\u001b[0m \u001b[0;34m=\u001b[0m \u001b[0mself\u001b[0m\u001b[0;34m.\u001b[0m\u001b[0mindex\u001b[0m\u001b[0;34m.\u001b[0m\u001b[0mget_value\u001b[0m\u001b[0;34m(\u001b[0m\u001b[0mself\u001b[0m\u001b[0;34m,\u001b[0m \u001b[0mkey\u001b[0m\u001b[0;34m)\u001b[0m\u001b[0;34m\u001b[0m\u001b[0;34m\u001b[0m\u001b[0m\n\u001b[0m\u001b[1;32m    869\u001b[0m \u001b[0;34m\u001b[0m\u001b[0m\n\u001b[1;32m    870\u001b[0m             \u001b[0;32mif\u001b[0m \u001b[0;32mnot\u001b[0m \u001b[0mis_scalar\u001b[0m\u001b[0;34m(\u001b[0m\u001b[0mresult\u001b[0m\u001b[0;34m)\u001b[0m\u001b[0;34m:\u001b[0m\u001b[0;34m\u001b[0m\u001b[0;34m\u001b[0m\u001b[0m\n",
      "\u001b[0;32m~/miniconda3/envs/vivarium-demo/lib/python3.6/site-packages/pandas/core/indexes/base.py\u001b[0m in \u001b[0;36mget_value\u001b[0;34m(self, series, key)\u001b[0m\n\u001b[1;32m   4387\u001b[0m                     \u001b[0;32mraise\u001b[0m \u001b[0mInvalidIndexError\u001b[0m\u001b[0;34m(\u001b[0m\u001b[0mkey\u001b[0m\u001b[0;34m)\u001b[0m\u001b[0;34m\u001b[0m\u001b[0;34m\u001b[0m\u001b[0m\n\u001b[1;32m   4388\u001b[0m                 \u001b[0;32melse\u001b[0m\u001b[0;34m:\u001b[0m\u001b[0;34m\u001b[0m\u001b[0;34m\u001b[0m\u001b[0m\n\u001b[0;32m-> 4389\u001b[0;31m                     \u001b[0;32mraise\u001b[0m \u001b[0me1\u001b[0m\u001b[0;34m\u001b[0m\u001b[0;34m\u001b[0m\u001b[0m\n\u001b[0m\u001b[1;32m   4390\u001b[0m             \u001b[0;32mexcept\u001b[0m \u001b[0mException\u001b[0m\u001b[0;34m:\u001b[0m  \u001b[0;31m# pragma: no cover\u001b[0m\u001b[0;34m\u001b[0m\u001b[0;34m\u001b[0m\u001b[0m\n\u001b[1;32m   4391\u001b[0m                 \u001b[0;32mraise\u001b[0m \u001b[0me1\u001b[0m\u001b[0;34m\u001b[0m\u001b[0;34m\u001b[0m\u001b[0m\n",
      "\u001b[0;32m~/miniconda3/envs/vivarium-demo/lib/python3.6/site-packages/pandas/core/indexes/base.py\u001b[0m in \u001b[0;36mget_value\u001b[0;34m(self, series, key)\u001b[0m\n\u001b[1;32m   4373\u001b[0m         \u001b[0;32mtry\u001b[0m\u001b[0;34m:\u001b[0m\u001b[0;34m\u001b[0m\u001b[0;34m\u001b[0m\u001b[0m\n\u001b[1;32m   4374\u001b[0m             return self._engine.get_value(s, k,\n\u001b[0;32m-> 4375\u001b[0;31m                                           tz=getattr(series.dtype, 'tz', None))\n\u001b[0m\u001b[1;32m   4376\u001b[0m         \u001b[0;32mexcept\u001b[0m \u001b[0mKeyError\u001b[0m \u001b[0;32mas\u001b[0m \u001b[0me1\u001b[0m\u001b[0;34m:\u001b[0m\u001b[0;34m\u001b[0m\u001b[0;34m\u001b[0m\u001b[0m\n\u001b[1;32m   4377\u001b[0m             \u001b[0;32mif\u001b[0m \u001b[0mlen\u001b[0m\u001b[0;34m(\u001b[0m\u001b[0mself\u001b[0m\u001b[0;34m)\u001b[0m \u001b[0;34m>\u001b[0m \u001b[0;36m0\u001b[0m \u001b[0;32mand\u001b[0m \u001b[0;34m(\u001b[0m\u001b[0mself\u001b[0m\u001b[0;34m.\u001b[0m\u001b[0mholds_integer\u001b[0m\u001b[0;34m(\u001b[0m\u001b[0;34m)\u001b[0m \u001b[0;32mor\u001b[0m \u001b[0mself\u001b[0m\u001b[0;34m.\u001b[0m\u001b[0mis_boolean\u001b[0m\u001b[0;34m(\u001b[0m\u001b[0;34m)\u001b[0m\u001b[0;34m)\u001b[0m\u001b[0;34m:\u001b[0m\u001b[0;34m\u001b[0m\u001b[0;34m\u001b[0m\u001b[0m\n",
      "\u001b[0;32mpandas/_libs/index.pyx\u001b[0m in \u001b[0;36mpandas._libs.index.IndexEngine.get_value\u001b[0;34m()\u001b[0m\n",
      "\u001b[0;32mpandas/_libs/index.pyx\u001b[0m in \u001b[0;36mpandas._libs.index.IndexEngine.get_value\u001b[0;34m()\u001b[0m\n",
      "\u001b[0;32mpandas/_libs/index.pyx\u001b[0m in \u001b[0;36mpandas._libs.index.IndexEngine.get_loc\u001b[0;34m()\u001b[0m\n",
      "\u001b[0;32mpandas/_libs/hashtable_class_helper.pxi\u001b[0m in \u001b[0;36mpandas._libs.hashtable.PyObjectHashTable.get_item\u001b[0;34m()\u001b[0m\n",
      "\u001b[0;32mpandas/_libs/hashtable_class_helper.pxi\u001b[0m in \u001b[0;36mpandas._libs.hashtable.PyObjectHashTable.get_item\u001b[0;34m()\u001b[0m\n",
      "\u001b[0;31mKeyError\u001b[0m: ('age_group_start', 'occurred at index 0')"
     ]
    }
   ],
   "source": [
    "%matplotlib inline\n",
    "from pathlib import Path\n",
    "from vivarium.interface import initialize_simulation_from_model_specification\n",
    "import matplotlib.pyplot as plt\n",
    "import seaborn as sns\n",
    "import pandas as pd\n",
    "sns.set(style='darkgrid')\n",
    "\n",
    "sim = initialize_simulation_from_model_specification('birth_death.yaml')\n",
    "sim.configuration.input_data.artifact_path = str(Path('.').resolve() / 'artifact.hdf')\n",
    "sim.setup()\n"
   ]
  },
  {
   "cell_type": "markdown",
   "metadata": {
    "slideshow": {
     "slide_type": "notes"
    }
   },
   "source": [
    "Let's do a little exploration."
   ]
  },
  {
   "cell_type": "code",
   "execution_count": 5,
   "metadata": {},
   "outputs": [
    {
     "name": "stdout",
     "output_type": "stream",
     "text": [
      "> \u001b[0;32m/home/collijk/vivarium-demo/2019_05_09_demo/pandas/_libs/hashtable_class_helper.pxi\u001b[0m(1608)\u001b[0;36mpandas._libs.hashtable.PyObjectHashTable.get_item\u001b[0;34m()\u001b[0m\n",
      "\n",
      "ipdb> u\n",
      "> \u001b[0;32m/home/collijk/vivarium-demo/2019_05_09_demo/pandas/_libs/hashtable_class_helper.pxi\u001b[0m(1601)\u001b[0;36mpandas._libs.hashtable.PyObjectHashTable.get_item\u001b[0;34m()\u001b[0m\n",
      "\n",
      "ipdb> u\n",
      "> \u001b[0;32m/home/collijk/vivarium-demo/2019_05_09_demo/pandas/_libs/index.pyx\u001b[0m(132)\u001b[0;36mpandas._libs.index.IndexEngine.get_loc\u001b[0;34m()\u001b[0m\n",
      "\n",
      "ipdb> u\n",
      "> \u001b[0;32m/home/collijk/vivarium-demo/2019_05_09_demo/pandas/_libs/index.pyx\u001b[0m(89)\u001b[0;36mpandas._libs.index.IndexEngine.get_value\u001b[0;34m()\u001b[0m\n",
      "\n",
      "ipdb> u\n",
      "> \u001b[0;32m/home/collijk/vivarium-demo/2019_05_09_demo/pandas/_libs/index.pyx\u001b[0m(81)\u001b[0;36mpandas._libs.index.IndexEngine.get_value\u001b[0;34m()\u001b[0m\n",
      "\n",
      "ipdb> u\n",
      "> \u001b[0;32m/home/collijk/miniconda3/envs/vivarium-demo/lib/python3.6/site-packages/pandas/core/indexes/base.py\u001b[0m(4375)\u001b[0;36mget_value\u001b[0;34m()\u001b[0m\n",
      "\u001b[0;32m   4373 \u001b[0;31m        \u001b[0;32mtry\u001b[0m\u001b[0;34m:\u001b[0m\u001b[0;34m\u001b[0m\u001b[0;34m\u001b[0m\u001b[0m\n",
      "\u001b[0m\u001b[0;32m   4374 \u001b[0;31m            return self._engine.get_value(s, k,\n",
      "\u001b[0m\u001b[0;32m-> 4375 \u001b[0;31m                                          tz=getattr(series.dtype, 'tz', None))\n",
      "\u001b[0m\u001b[0;32m   4376 \u001b[0;31m        \u001b[0;32mexcept\u001b[0m \u001b[0mKeyError\u001b[0m \u001b[0;32mas\u001b[0m \u001b[0me1\u001b[0m\u001b[0;34m:\u001b[0m\u001b[0;34m\u001b[0m\u001b[0;34m\u001b[0m\u001b[0m\n",
      "\u001b[0m\u001b[0;32m   4377 \u001b[0;31m            \u001b[0;32mif\u001b[0m \u001b[0mlen\u001b[0m\u001b[0;34m(\u001b[0m\u001b[0mself\u001b[0m\u001b[0;34m)\u001b[0m \u001b[0;34m>\u001b[0m \u001b[0;36m0\u001b[0m \u001b[0;32mand\u001b[0m \u001b[0;34m(\u001b[0m\u001b[0mself\u001b[0m\u001b[0;34m.\u001b[0m\u001b[0mholds_integer\u001b[0m\u001b[0;34m(\u001b[0m\u001b[0;34m)\u001b[0m \u001b[0;32mor\u001b[0m \u001b[0mself\u001b[0m\u001b[0;34m.\u001b[0m\u001b[0mis_boolean\u001b[0m\u001b[0;34m(\u001b[0m\u001b[0;34m)\u001b[0m\u001b[0;34m)\u001b[0m\u001b[0;34m:\u001b[0m\u001b[0;34m\u001b[0m\u001b[0;34m\u001b[0m\u001b[0m\n",
      "\u001b[0m\n",
      "ipdb> u\n",
      "> \u001b[0;32m/home/collijk/miniconda3/envs/vivarium-demo/lib/python3.6/site-packages/pandas/core/indexes/base.py\u001b[0m(4389)\u001b[0;36mget_value\u001b[0;34m()\u001b[0m\n",
      "\u001b[0;32m   4387 \u001b[0;31m                    \u001b[0;32mraise\u001b[0m \u001b[0mInvalidIndexError\u001b[0m\u001b[0;34m(\u001b[0m\u001b[0mkey\u001b[0m\u001b[0;34m)\u001b[0m\u001b[0;34m\u001b[0m\u001b[0;34m\u001b[0m\u001b[0m\n",
      "\u001b[0m\u001b[0;32m   4388 \u001b[0;31m                \u001b[0;32melse\u001b[0m\u001b[0;34m:\u001b[0m\u001b[0;34m\u001b[0m\u001b[0;34m\u001b[0m\u001b[0m\n",
      "\u001b[0m\u001b[0;32m-> 4389 \u001b[0;31m                    \u001b[0;32mraise\u001b[0m \u001b[0me1\u001b[0m\u001b[0;34m\u001b[0m\u001b[0;34m\u001b[0m\u001b[0m\n",
      "\u001b[0m\u001b[0;32m   4390 \u001b[0;31m            \u001b[0;32mexcept\u001b[0m \u001b[0mException\u001b[0m\u001b[0;34m:\u001b[0m  \u001b[0;31m# pragma: no cover\u001b[0m\u001b[0;34m\u001b[0m\u001b[0;34m\u001b[0m\u001b[0m\n",
      "\u001b[0m\u001b[0;32m   4391 \u001b[0;31m                \u001b[0;32mraise\u001b[0m \u001b[0me1\u001b[0m\u001b[0;34m\u001b[0m\u001b[0;34m\u001b[0m\u001b[0m\n",
      "\u001b[0m\n",
      "ipdb> u\n",
      "> \u001b[0;32m/home/collijk/miniconda3/envs/vivarium-demo/lib/python3.6/site-packages/pandas/core/series.py\u001b[0m(868)\u001b[0;36m__getitem__\u001b[0;34m()\u001b[0m\n",
      "\u001b[0;32m    866 \u001b[0;31m        \u001b[0mkey\u001b[0m \u001b[0;34m=\u001b[0m \u001b[0mcom\u001b[0m\u001b[0;34m.\u001b[0m\u001b[0mapply_if_callable\u001b[0m\u001b[0;34m(\u001b[0m\u001b[0mkey\u001b[0m\u001b[0;34m,\u001b[0m \u001b[0mself\u001b[0m\u001b[0;34m)\u001b[0m\u001b[0;34m\u001b[0m\u001b[0;34m\u001b[0m\u001b[0m\n",
      "\u001b[0m\u001b[0;32m    867 \u001b[0;31m        \u001b[0;32mtry\u001b[0m\u001b[0;34m:\u001b[0m\u001b[0;34m\u001b[0m\u001b[0;34m\u001b[0m\u001b[0m\n",
      "\u001b[0m\u001b[0;32m--> 868 \u001b[0;31m            \u001b[0mresult\u001b[0m \u001b[0;34m=\u001b[0m \u001b[0mself\u001b[0m\u001b[0;34m.\u001b[0m\u001b[0mindex\u001b[0m\u001b[0;34m.\u001b[0m\u001b[0mget_value\u001b[0m\u001b[0;34m(\u001b[0m\u001b[0mself\u001b[0m\u001b[0;34m,\u001b[0m \u001b[0mkey\u001b[0m\u001b[0;34m)\u001b[0m\u001b[0;34m\u001b[0m\u001b[0;34m\u001b[0m\u001b[0m\n",
      "\u001b[0m\u001b[0;32m    869 \u001b[0;31m\u001b[0;34m\u001b[0m\u001b[0m\n",
      "\u001b[0m\u001b[0;32m    870 \u001b[0;31m            \u001b[0;32mif\u001b[0m \u001b[0;32mnot\u001b[0m \u001b[0mis_scalar\u001b[0m\u001b[0;34m(\u001b[0m\u001b[0mresult\u001b[0m\u001b[0;34m)\u001b[0m\u001b[0;34m:\u001b[0m\u001b[0;34m\u001b[0m\u001b[0;34m\u001b[0m\u001b[0m\n",
      "\u001b[0m\n",
      "ipdb> u\n",
      "> \u001b[0;32m/home/collijk/miniconda3/envs/vivarium-demo/lib/python3.6/site-packages/vivarium_public_health/population/data_transformations.py\u001b[0m(370)\u001b[0;36m<lambda>\u001b[0;34m()\u001b[0m\n",
      "\u001b[0;32m    368 \u001b[0;31m    \u001b[0mdata\u001b[0m \u001b[0;34m=\u001b[0m \u001b[0mbuilder\u001b[0m\u001b[0;34m.\u001b[0m\u001b[0mdata\u001b[0m\u001b[0;34m.\u001b[0m\u001b[0mload\u001b[0m\u001b[0;34m(\u001b[0m\u001b[0;34m\"population.structure\"\u001b[0m\u001b[0;34m)\u001b[0m\u001b[0;34m\u001b[0m\u001b[0;34m\u001b[0m\u001b[0m\n",
      "\u001b[0m\u001b[0;32m    369 \u001b[0;31m    \u001b[0;31m# create an age column which is the midpoint of the age group\u001b[0m\u001b[0;34m\u001b[0m\u001b[0;34m\u001b[0m\u001b[0;34m\u001b[0m\u001b[0m\n",
      "\u001b[0m\u001b[0;32m--> 370 \u001b[0;31m    \u001b[0mdata\u001b[0m\u001b[0;34m[\u001b[0m\u001b[0;34m'age'\u001b[0m\u001b[0;34m]\u001b[0m \u001b[0;34m=\u001b[0m \u001b[0mdata\u001b[0m\u001b[0;34m.\u001b[0m\u001b[0mapply\u001b[0m\u001b[0;34m(\u001b[0m\u001b[0;32mlambda\u001b[0m \u001b[0mrow\u001b[0m\u001b[0;34m:\u001b[0m \u001b[0;34m(\u001b[0m\u001b[0mrow\u001b[0m\u001b[0;34m[\u001b[0m\u001b[0;34m'age_group_start'\u001b[0m\u001b[0;34m]\u001b[0m \u001b[0;34m+\u001b[0m \u001b[0mrow\u001b[0m\u001b[0;34m[\u001b[0m\u001b[0;34m'age_group_end'\u001b[0m\u001b[0;34m]\u001b[0m\u001b[0;34m)\u001b[0m \u001b[0;34m/\u001b[0m \u001b[0;36m2\u001b[0m\u001b[0;34m,\u001b[0m \u001b[0maxis\u001b[0m\u001b[0;34m=\u001b[0m\u001b[0;36m1\u001b[0m\u001b[0;34m)\u001b[0m\u001b[0;34m\u001b[0m\u001b[0;34m\u001b[0m\u001b[0m\n",
      "\u001b[0m\u001b[0;32m    371 \u001b[0;31m    \u001b[0;32mreturn\u001b[0m \u001b[0mdata\u001b[0m\u001b[0;34m\u001b[0m\u001b[0;34m\u001b[0m\u001b[0m\n",
      "\u001b[0m\u001b[0;32m    372 \u001b[0;31m\u001b[0;34m\u001b[0m\u001b[0m\n",
      "\u001b[0m\n",
      "ipdb> data\n",
      "*** NameError: name 'data' is not defined\n",
      "ipdb> u\n",
      "> \u001b[0;32m/home/collijk/miniconda3/envs/vivarium-demo/lib/python3.6/site-packages/pandas/core/apply.py\u001b[0m(286)\u001b[0;36mapply_series_generator\u001b[0;34m()\u001b[0m\n",
      "\u001b[0;32m    284 \u001b[0;31m            \u001b[0;32mtry\u001b[0m\u001b[0;34m:\u001b[0m\u001b[0;34m\u001b[0m\u001b[0;34m\u001b[0m\u001b[0m\n",
      "\u001b[0m\u001b[0;32m    285 \u001b[0;31m                \u001b[0;32mfor\u001b[0m \u001b[0mi\u001b[0m\u001b[0;34m,\u001b[0m \u001b[0mv\u001b[0m \u001b[0;32min\u001b[0m \u001b[0menumerate\u001b[0m\u001b[0;34m(\u001b[0m\u001b[0mseries_gen\u001b[0m\u001b[0;34m)\u001b[0m\u001b[0;34m:\u001b[0m\u001b[0;34m\u001b[0m\u001b[0;34m\u001b[0m\u001b[0m\n",
      "\u001b[0m\u001b[0;32m--> 286 \u001b[0;31m                    \u001b[0mresults\u001b[0m\u001b[0;34m[\u001b[0m\u001b[0mi\u001b[0m\u001b[0;34m]\u001b[0m \u001b[0;34m=\u001b[0m \u001b[0mself\u001b[0m\u001b[0;34m.\u001b[0m\u001b[0mf\u001b[0m\u001b[0;34m(\u001b[0m\u001b[0mv\u001b[0m\u001b[0;34m)\u001b[0m\u001b[0;34m\u001b[0m\u001b[0;34m\u001b[0m\u001b[0m\n",
      "\u001b[0m\u001b[0;32m    287 \u001b[0;31m                    \u001b[0mkeys\u001b[0m\u001b[0;34m.\u001b[0m\u001b[0mappend\u001b[0m\u001b[0;34m(\u001b[0m\u001b[0mv\u001b[0m\u001b[0;34m.\u001b[0m\u001b[0mname\u001b[0m\u001b[0;34m)\u001b[0m\u001b[0;34m\u001b[0m\u001b[0;34m\u001b[0m\u001b[0m\n",
      "\u001b[0m\u001b[0;32m    288 \u001b[0;31m            \u001b[0;32mexcept\u001b[0m \u001b[0mException\u001b[0m \u001b[0;32mas\u001b[0m \u001b[0me\u001b[0m\u001b[0;34m:\u001b[0m\u001b[0;34m\u001b[0m\u001b[0;34m\u001b[0m\u001b[0m\n",
      "\u001b[0m\n",
      "ipdb> d\n",
      "> \u001b[0;32m/home/collijk/miniconda3/envs/vivarium-demo/lib/python3.6/site-packages/vivarium_public_health/population/data_transformations.py\u001b[0m(370)\u001b[0;36m<lambda>\u001b[0;34m()\u001b[0m\n",
      "\u001b[0;32m    368 \u001b[0;31m    \u001b[0mdata\u001b[0m \u001b[0;34m=\u001b[0m \u001b[0mbuilder\u001b[0m\u001b[0;34m.\u001b[0m\u001b[0mdata\u001b[0m\u001b[0;34m.\u001b[0m\u001b[0mload\u001b[0m\u001b[0;34m(\u001b[0m\u001b[0;34m\"population.structure\"\u001b[0m\u001b[0;34m)\u001b[0m\u001b[0;34m\u001b[0m\u001b[0;34m\u001b[0m\u001b[0m\n",
      "\u001b[0m\u001b[0;32m    369 \u001b[0;31m    \u001b[0;31m# create an age column which is the midpoint of the age group\u001b[0m\u001b[0;34m\u001b[0m\u001b[0;34m\u001b[0m\u001b[0;34m\u001b[0m\u001b[0m\n",
      "\u001b[0m\u001b[0;32m--> 370 \u001b[0;31m    \u001b[0mdata\u001b[0m\u001b[0;34m[\u001b[0m\u001b[0;34m'age'\u001b[0m\u001b[0;34m]\u001b[0m \u001b[0;34m=\u001b[0m \u001b[0mdata\u001b[0m\u001b[0;34m.\u001b[0m\u001b[0mapply\u001b[0m\u001b[0;34m(\u001b[0m\u001b[0;32mlambda\u001b[0m \u001b[0mrow\u001b[0m\u001b[0;34m:\u001b[0m \u001b[0;34m(\u001b[0m\u001b[0mrow\u001b[0m\u001b[0;34m[\u001b[0m\u001b[0;34m'age_group_start'\u001b[0m\u001b[0;34m]\u001b[0m \u001b[0;34m+\u001b[0m \u001b[0mrow\u001b[0m\u001b[0;34m[\u001b[0m\u001b[0;34m'age_group_end'\u001b[0m\u001b[0;34m]\u001b[0m\u001b[0;34m)\u001b[0m \u001b[0;34m/\u001b[0m \u001b[0;36m2\u001b[0m\u001b[0;34m,\u001b[0m \u001b[0maxis\u001b[0m\u001b[0;34m=\u001b[0m\u001b[0;36m1\u001b[0m\u001b[0;34m)\u001b[0m\u001b[0;34m\u001b[0m\u001b[0;34m\u001b[0m\u001b[0m\n",
      "\u001b[0m\u001b[0;32m    371 \u001b[0;31m    \u001b[0;32mreturn\u001b[0m \u001b[0mdata\u001b[0m\u001b[0;34m\u001b[0m\u001b[0;34m\u001b[0m\u001b[0m\n",
      "\u001b[0m\u001b[0;32m    372 \u001b[0;31m\u001b[0;34m\u001b[0m\u001b[0m\n",
      "\u001b[0m\n",
      "ipdb> row\n",
      "index       0.000000\n",
      "value    9251.406428\n",
      "Name: 0, dtype: float64\n",
      "ipdb> u\n",
      "> \u001b[0;32m/home/collijk/miniconda3/envs/vivarium-demo/lib/python3.6/site-packages/pandas/core/apply.py\u001b[0m(286)\u001b[0;36mapply_series_generator\u001b[0;34m()\u001b[0m\n",
      "\u001b[0;32m    284 \u001b[0;31m            \u001b[0;32mtry\u001b[0m\u001b[0;34m:\u001b[0m\u001b[0;34m\u001b[0m\u001b[0;34m\u001b[0m\u001b[0m\n",
      "\u001b[0m\u001b[0;32m    285 \u001b[0;31m                \u001b[0;32mfor\u001b[0m \u001b[0mi\u001b[0m\u001b[0;34m,\u001b[0m \u001b[0mv\u001b[0m \u001b[0;32min\u001b[0m \u001b[0menumerate\u001b[0m\u001b[0;34m(\u001b[0m\u001b[0mseries_gen\u001b[0m\u001b[0;34m)\u001b[0m\u001b[0;34m:\u001b[0m\u001b[0;34m\u001b[0m\u001b[0;34m\u001b[0m\u001b[0m\n",
      "\u001b[0m\u001b[0;32m--> 286 \u001b[0;31m                    \u001b[0mresults\u001b[0m\u001b[0;34m[\u001b[0m\u001b[0mi\u001b[0m\u001b[0;34m]\u001b[0m \u001b[0;34m=\u001b[0m \u001b[0mself\u001b[0m\u001b[0;34m.\u001b[0m\u001b[0mf\u001b[0m\u001b[0;34m(\u001b[0m\u001b[0mv\u001b[0m\u001b[0;34m)\u001b[0m\u001b[0;34m\u001b[0m\u001b[0;34m\u001b[0m\u001b[0m\n",
      "\u001b[0m\u001b[0;32m    287 \u001b[0;31m                    \u001b[0mkeys\u001b[0m\u001b[0;34m.\u001b[0m\u001b[0mappend\u001b[0m\u001b[0;34m(\u001b[0m\u001b[0mv\u001b[0m\u001b[0;34m.\u001b[0m\u001b[0mname\u001b[0m\u001b[0;34m)\u001b[0m\u001b[0;34m\u001b[0m\u001b[0;34m\u001b[0m\u001b[0m\n",
      "\u001b[0m\u001b[0;32m    288 \u001b[0;31m            \u001b[0;32mexcept\u001b[0m \u001b[0mException\u001b[0m \u001b[0;32mas\u001b[0m \u001b[0me\u001b[0m\u001b[0;34m:\u001b[0m\u001b[0;34m\u001b[0m\u001b[0;34m\u001b[0m\u001b[0m\n",
      "\u001b[0m\n",
      "ipdb> ll\n",
      "\u001b[1;32m    262 \u001b[0m    \u001b[0;32mdef\u001b[0m \u001b[0mapply_series_generator\u001b[0m\u001b[0;34m(\u001b[0m\u001b[0mself\u001b[0m\u001b[0;34m)\u001b[0m\u001b[0;34m:\u001b[0m\u001b[0;34m\u001b[0m\u001b[0;34m\u001b[0m\u001b[0m\n",
      "\u001b[1;32m    263 \u001b[0m        \u001b[0mseries_gen\u001b[0m \u001b[0;34m=\u001b[0m \u001b[0mself\u001b[0m\u001b[0;34m.\u001b[0m\u001b[0mseries_generator\u001b[0m\u001b[0;34m\u001b[0m\u001b[0;34m\u001b[0m\u001b[0m\n",
      "\u001b[1;32m    264 \u001b[0m        \u001b[0mres_index\u001b[0m \u001b[0;34m=\u001b[0m \u001b[0mself\u001b[0m\u001b[0;34m.\u001b[0m\u001b[0mresult_index\u001b[0m\u001b[0;34m\u001b[0m\u001b[0;34m\u001b[0m\u001b[0m\n",
      "\u001b[1;32m    265 \u001b[0m\u001b[0;34m\u001b[0m\u001b[0m\n",
      "\u001b[1;32m    266 \u001b[0m        \u001b[0mi\u001b[0m \u001b[0;34m=\u001b[0m \u001b[0;32mNone\u001b[0m\u001b[0;34m\u001b[0m\u001b[0;34m\u001b[0m\u001b[0m\n",
      "\u001b[1;32m    267 \u001b[0m        \u001b[0mkeys\u001b[0m \u001b[0;34m=\u001b[0m \u001b[0;34m[\u001b[0m\u001b[0;34m]\u001b[0m\u001b[0;34m\u001b[0m\u001b[0;34m\u001b[0m\u001b[0m\n",
      "\u001b[1;32m    268 \u001b[0m        \u001b[0mresults\u001b[0m \u001b[0;34m=\u001b[0m \u001b[0;34m{\u001b[0m\u001b[0;34m}\u001b[0m\u001b[0;34m\u001b[0m\u001b[0;34m\u001b[0m\u001b[0m\n",
      "\u001b[1;32m    269 \u001b[0m        \u001b[0;32mif\u001b[0m \u001b[0mself\u001b[0m\u001b[0;34m.\u001b[0m\u001b[0mignore_failures\u001b[0m\u001b[0;34m:\u001b[0m\u001b[0;34m\u001b[0m\u001b[0;34m\u001b[0m\u001b[0m\n",
      "\u001b[1;32m    270 \u001b[0m            \u001b[0msuccesses\u001b[0m \u001b[0;34m=\u001b[0m \u001b[0;34m[\u001b[0m\u001b[0;34m]\u001b[0m\u001b[0;34m\u001b[0m\u001b[0;34m\u001b[0m\u001b[0m\n",
      "\u001b[1;32m    271 \u001b[0m            \u001b[0;32mfor\u001b[0m \u001b[0mi\u001b[0m\u001b[0;34m,\u001b[0m \u001b[0mv\u001b[0m \u001b[0;32min\u001b[0m \u001b[0menumerate\u001b[0m\u001b[0;34m(\u001b[0m\u001b[0mseries_gen\u001b[0m\u001b[0;34m)\u001b[0m\u001b[0;34m:\u001b[0m\u001b[0;34m\u001b[0m\u001b[0;34m\u001b[0m\u001b[0m\n",
      "\u001b[1;32m    272 \u001b[0m                \u001b[0;32mtry\u001b[0m\u001b[0;34m:\u001b[0m\u001b[0;34m\u001b[0m\u001b[0;34m\u001b[0m\u001b[0m\n",
      "\u001b[1;32m    273 \u001b[0m                    \u001b[0mresults\u001b[0m\u001b[0;34m[\u001b[0m\u001b[0mi\u001b[0m\u001b[0;34m]\u001b[0m \u001b[0;34m=\u001b[0m \u001b[0mself\u001b[0m\u001b[0;34m.\u001b[0m\u001b[0mf\u001b[0m\u001b[0;34m(\u001b[0m\u001b[0mv\u001b[0m\u001b[0;34m)\u001b[0m\u001b[0;34m\u001b[0m\u001b[0;34m\u001b[0m\u001b[0m\n",
      "\u001b[1;32m    274 \u001b[0m                    \u001b[0mkeys\u001b[0m\u001b[0;34m.\u001b[0m\u001b[0mappend\u001b[0m\u001b[0;34m(\u001b[0m\u001b[0mv\u001b[0m\u001b[0;34m.\u001b[0m\u001b[0mname\u001b[0m\u001b[0;34m)\u001b[0m\u001b[0;34m\u001b[0m\u001b[0;34m\u001b[0m\u001b[0m\n",
      "\u001b[1;32m    275 \u001b[0m                    \u001b[0msuccesses\u001b[0m\u001b[0;34m.\u001b[0m\u001b[0mappend\u001b[0m\u001b[0;34m(\u001b[0m\u001b[0mi\u001b[0m\u001b[0;34m)\u001b[0m\u001b[0;34m\u001b[0m\u001b[0;34m\u001b[0m\u001b[0m\n",
      "\u001b[1;32m    276 \u001b[0m                \u001b[0;32mexcept\u001b[0m \u001b[0mException\u001b[0m\u001b[0;34m:\u001b[0m\u001b[0;34m\u001b[0m\u001b[0;34m\u001b[0m\u001b[0m\n",
      "\u001b[1;32m    277 \u001b[0m                    \u001b[0;32mpass\u001b[0m\u001b[0;34m\u001b[0m\u001b[0;34m\u001b[0m\u001b[0m\n",
      "\u001b[1;32m    278 \u001b[0m\u001b[0;34m\u001b[0m\u001b[0m\n",
      "\u001b[1;32m    279 \u001b[0m            \u001b[0;31m# so will work with MultiIndex\u001b[0m\u001b[0;34m\u001b[0m\u001b[0;34m\u001b[0m\u001b[0;34m\u001b[0m\u001b[0m\n",
      "\u001b[1;32m    280 \u001b[0m            \u001b[0;32mif\u001b[0m \u001b[0mlen\u001b[0m\u001b[0;34m(\u001b[0m\u001b[0msuccesses\u001b[0m\u001b[0;34m)\u001b[0m \u001b[0;34m<\u001b[0m \u001b[0mlen\u001b[0m\u001b[0;34m(\u001b[0m\u001b[0mres_index\u001b[0m\u001b[0;34m)\u001b[0m\u001b[0;34m:\u001b[0m\u001b[0;34m\u001b[0m\u001b[0;34m\u001b[0m\u001b[0m\n",
      "\u001b[1;32m    281 \u001b[0m                \u001b[0mres_index\u001b[0m \u001b[0;34m=\u001b[0m \u001b[0mres_index\u001b[0m\u001b[0;34m.\u001b[0m\u001b[0mtake\u001b[0m\u001b[0;34m(\u001b[0m\u001b[0msuccesses\u001b[0m\u001b[0;34m)\u001b[0m\u001b[0;34m\u001b[0m\u001b[0;34m\u001b[0m\u001b[0m\n",
      "\u001b[1;32m    282 \u001b[0m\u001b[0;34m\u001b[0m\u001b[0m\n",
      "\u001b[1;32m    283 \u001b[0m        \u001b[0;32melse\u001b[0m\u001b[0;34m:\u001b[0m\u001b[0;34m\u001b[0m\u001b[0;34m\u001b[0m\u001b[0m\n",
      "\u001b[1;32m    284 \u001b[0m            \u001b[0;32mtry\u001b[0m\u001b[0;34m:\u001b[0m\u001b[0;34m\u001b[0m\u001b[0;34m\u001b[0m\u001b[0m\n",
      "\u001b[1;32m    285 \u001b[0m                \u001b[0;32mfor\u001b[0m \u001b[0mi\u001b[0m\u001b[0;34m,\u001b[0m \u001b[0mv\u001b[0m \u001b[0;32min\u001b[0m \u001b[0menumerate\u001b[0m\u001b[0;34m(\u001b[0m\u001b[0mseries_gen\u001b[0m\u001b[0;34m)\u001b[0m\u001b[0;34m:\u001b[0m\u001b[0;34m\u001b[0m\u001b[0;34m\u001b[0m\u001b[0m\n",
      "\u001b[1;32m    286 \u001b[0m                    \u001b[0mresults\u001b[0m\u001b[0;34m[\u001b[0m\u001b[0mi\u001b[0m\u001b[0;34m]\u001b[0m \u001b[0;34m=\u001b[0m \u001b[0mself\u001b[0m\u001b[0;34m.\u001b[0m\u001b[0mf\u001b[0m\u001b[0;34m(\u001b[0m\u001b[0mv\u001b[0m\u001b[0;34m)\u001b[0m\u001b[0;34m\u001b[0m\u001b[0;34m\u001b[0m\u001b[0m\n",
      "\u001b[1;32m    287 \u001b[0m                    \u001b[0mkeys\u001b[0m\u001b[0;34m.\u001b[0m\u001b[0mappend\u001b[0m\u001b[0;34m(\u001b[0m\u001b[0mv\u001b[0m\u001b[0;34m.\u001b[0m\u001b[0mname\u001b[0m\u001b[0;34m)\u001b[0m\u001b[0;34m\u001b[0m\u001b[0;34m\u001b[0m\u001b[0m\n",
      "\u001b[1;32m    288 \u001b[0m            \u001b[0;32mexcept\u001b[0m \u001b[0mException\u001b[0m \u001b[0;32mas\u001b[0m \u001b[0me\u001b[0m\u001b[0;34m:\u001b[0m\u001b[0;34m\u001b[0m\u001b[0;34m\u001b[0m\u001b[0m\n",
      "\u001b[1;32m    289 \u001b[0m                \u001b[0;32mif\u001b[0m \u001b[0mhasattr\u001b[0m\u001b[0;34m(\u001b[0m\u001b[0me\u001b[0m\u001b[0;34m,\u001b[0m \u001b[0;34m'args'\u001b[0m\u001b[0;34m)\u001b[0m\u001b[0;34m:\u001b[0m\u001b[0;34m\u001b[0m\u001b[0;34m\u001b[0m\u001b[0m\n",
      "\u001b[1;32m    290 \u001b[0m\u001b[0;34m\u001b[0m\u001b[0m\n",
      "\u001b[1;32m    291 \u001b[0m                    \u001b[0;31m# make sure i is defined\u001b[0m\u001b[0;34m\u001b[0m\u001b[0;34m\u001b[0m\u001b[0;34m\u001b[0m\u001b[0m\n",
      "\u001b[1;32m    292 \u001b[0m                    \u001b[0;32mif\u001b[0m \u001b[0mi\u001b[0m \u001b[0;32mis\u001b[0m \u001b[0;32mnot\u001b[0m \u001b[0;32mNone\u001b[0m\u001b[0;34m:\u001b[0m\u001b[0;34m\u001b[0m\u001b[0;34m\u001b[0m\u001b[0m\n",
      "\u001b[1;32m    293 \u001b[0m                        \u001b[0mk\u001b[0m \u001b[0;34m=\u001b[0m \u001b[0mres_index\u001b[0m\u001b[0;34m[\u001b[0m\u001b[0mi\u001b[0m\u001b[0;34m]\u001b[0m\u001b[0;34m\u001b[0m\u001b[0;34m\u001b[0m\u001b[0m\n",
      "\u001b[1;32m    294 \u001b[0m                        e.args = e.args + ('occurred at index %s' %\n",
      "\u001b[1;32m    295 \u001b[0m                                           pprint_thing(k), )\n",
      "\u001b[0;32m--> 296 \u001b[0;31m                \u001b[0;32mraise\u001b[0m\u001b[0;34m\u001b[0m\u001b[0;34m\u001b[0m\u001b[0m\n",
      "\u001b[0m\u001b[1;32m    297 \u001b[0m\u001b[0;34m\u001b[0m\u001b[0m\n",
      "\u001b[1;32m    298 \u001b[0m        \u001b[0mself\u001b[0m\u001b[0;34m.\u001b[0m\u001b[0mresults\u001b[0m \u001b[0;34m=\u001b[0m \u001b[0mresults\u001b[0m\u001b[0;34m\u001b[0m\u001b[0;34m\u001b[0m\u001b[0m\n",
      "\u001b[1;32m    299 \u001b[0m        \u001b[0mself\u001b[0m\u001b[0;34m.\u001b[0m\u001b[0mres_index\u001b[0m \u001b[0;34m=\u001b[0m \u001b[0mres_index\u001b[0m\u001b[0;34m\u001b[0m\u001b[0;34m\u001b[0m\u001b[0m\n",
      "\u001b[1;32m    300 \u001b[0m        \u001b[0mself\u001b[0m\u001b[0;34m.\u001b[0m\u001b[0mres_columns\u001b[0m \u001b[0;34m=\u001b[0m \u001b[0mself\u001b[0m\u001b[0;34m.\u001b[0m\u001b[0mresult_columns\u001b[0m\u001b[0;34m\u001b[0m\u001b[0;34m\u001b[0m\u001b[0m\n",
      "\u001b[1;32m    301 \u001b[0m\u001b[0;34m\u001b[0m\u001b[0m\n",
      "\n"
     ]
    },
    {
     "name": "stdout",
     "output_type": "stream",
     "text": [
      "ipdb> u\n",
      "> \u001b[0;32m/home/collijk/miniconda3/envs/vivarium-demo/lib/python3.6/site-packages/pandas/core/apply.py\u001b[0m(257)\u001b[0;36mapply_standard\u001b[0;34m()\u001b[0m\n",
      "\u001b[0;32m    255 \u001b[0;31m\u001b[0;34m\u001b[0m\u001b[0m\n",
      "\u001b[0m\u001b[0;32m    256 \u001b[0;31m        \u001b[0;31m# compute the result using the series generator\u001b[0m\u001b[0;34m\u001b[0m\u001b[0;34m\u001b[0m\u001b[0;34m\u001b[0m\u001b[0m\n",
      "\u001b[0m\u001b[0;32m--> 257 \u001b[0;31m        \u001b[0mself\u001b[0m\u001b[0;34m.\u001b[0m\u001b[0mapply_series_generator\u001b[0m\u001b[0;34m(\u001b[0m\u001b[0;34m)\u001b[0m\u001b[0;34m\u001b[0m\u001b[0;34m\u001b[0m\u001b[0m\n",
      "\u001b[0m\u001b[0;32m    258 \u001b[0;31m\u001b[0;34m\u001b[0m\u001b[0m\n",
      "\u001b[0m\u001b[0;32m    259 \u001b[0;31m        \u001b[0;31m# wrap results\u001b[0m\u001b[0;34m\u001b[0m\u001b[0;34m\u001b[0m\u001b[0;34m\u001b[0m\u001b[0m\n",
      "\u001b[0m\n",
      "ipdb> u\n",
      "> \u001b[0;32m/home/collijk/miniconda3/envs/vivarium-demo/lib/python3.6/site-packages/pandas/core/apply.py\u001b[0m(151)\u001b[0;36mget_result\u001b[0;34m()\u001b[0m\n",
      "\u001b[0;32m    149 \u001b[0;31m            \u001b[0;32mreturn\u001b[0m \u001b[0mself\u001b[0m\u001b[0;34m.\u001b[0m\u001b[0mapply_raw\u001b[0m\u001b[0;34m(\u001b[0m\u001b[0;34m)\u001b[0m\u001b[0;34m\u001b[0m\u001b[0;34m\u001b[0m\u001b[0m\n",
      "\u001b[0m\u001b[0;32m    150 \u001b[0;31m\u001b[0;34m\u001b[0m\u001b[0m\n",
      "\u001b[0m\u001b[0;32m--> 151 \u001b[0;31m        \u001b[0;32mreturn\u001b[0m \u001b[0mself\u001b[0m\u001b[0;34m.\u001b[0m\u001b[0mapply_standard\u001b[0m\u001b[0;34m(\u001b[0m\u001b[0;34m)\u001b[0m\u001b[0;34m\u001b[0m\u001b[0;34m\u001b[0m\u001b[0m\n",
      "\u001b[0m\u001b[0;32m    152 \u001b[0;31m\u001b[0;34m\u001b[0m\u001b[0m\n",
      "\u001b[0m\u001b[0;32m    153 \u001b[0;31m    \u001b[0;32mdef\u001b[0m \u001b[0mapply_empty_result\u001b[0m\u001b[0;34m(\u001b[0m\u001b[0mself\u001b[0m\u001b[0;34m)\u001b[0m\u001b[0;34m:\u001b[0m\u001b[0;34m\u001b[0m\u001b[0;34m\u001b[0m\u001b[0m\n",
      "\u001b[0m\n",
      "ipdb> u\n",
      "> \u001b[0;32m/home/collijk/miniconda3/envs/vivarium-demo/lib/python3.6/site-packages/pandas/core/frame.py\u001b[0m(6487)\u001b[0;36mapply\u001b[0;34m()\u001b[0m\n",
      "\u001b[0;32m   6485 \u001b[0;31m                         \u001b[0margs\u001b[0m\u001b[0;34m=\u001b[0m\u001b[0margs\u001b[0m\u001b[0;34m,\u001b[0m\u001b[0;34m\u001b[0m\u001b[0;34m\u001b[0m\u001b[0m\n",
      "\u001b[0m\u001b[0;32m   6486 \u001b[0;31m                         kwds=kwds)\n",
      "\u001b[0m\u001b[0;32m-> 6487 \u001b[0;31m        \u001b[0;32mreturn\u001b[0m \u001b[0mop\u001b[0m\u001b[0;34m.\u001b[0m\u001b[0mget_result\u001b[0m\u001b[0;34m(\u001b[0m\u001b[0;34m)\u001b[0m\u001b[0;34m\u001b[0m\u001b[0;34m\u001b[0m\u001b[0m\n",
      "\u001b[0m\u001b[0;32m   6488 \u001b[0;31m\u001b[0;34m\u001b[0m\u001b[0m\n",
      "\u001b[0m\u001b[0;32m   6489 \u001b[0;31m    \u001b[0;32mdef\u001b[0m \u001b[0mapplymap\u001b[0m\u001b[0;34m(\u001b[0m\u001b[0mself\u001b[0m\u001b[0;34m,\u001b[0m \u001b[0mfunc\u001b[0m\u001b[0;34m)\u001b[0m\u001b[0;34m:\u001b[0m\u001b[0;34m\u001b[0m\u001b[0;34m\u001b[0m\u001b[0m\n",
      "\u001b[0m\n",
      "ipdb> u\n",
      "> \u001b[0;32m/home/collijk/miniconda3/envs/vivarium-demo/lib/python3.6/site-packages/vivarium_public_health/population/data_transformations.py\u001b[0m(370)\u001b[0;36mload_population_structure\u001b[0;34m()\u001b[0m\n",
      "\u001b[0;32m    368 \u001b[0;31m    \u001b[0mdata\u001b[0m \u001b[0;34m=\u001b[0m \u001b[0mbuilder\u001b[0m\u001b[0;34m.\u001b[0m\u001b[0mdata\u001b[0m\u001b[0;34m.\u001b[0m\u001b[0mload\u001b[0m\u001b[0;34m(\u001b[0m\u001b[0;34m\"population.structure\"\u001b[0m\u001b[0;34m)\u001b[0m\u001b[0;34m\u001b[0m\u001b[0;34m\u001b[0m\u001b[0m\n",
      "\u001b[0m\u001b[0;32m    369 \u001b[0;31m    \u001b[0;31m# create an age column which is the midpoint of the age group\u001b[0m\u001b[0;34m\u001b[0m\u001b[0;34m\u001b[0m\u001b[0;34m\u001b[0m\u001b[0m\n",
      "\u001b[0m\u001b[0;32m--> 370 \u001b[0;31m    \u001b[0mdata\u001b[0m\u001b[0;34m[\u001b[0m\u001b[0;34m'age'\u001b[0m\u001b[0;34m]\u001b[0m \u001b[0;34m=\u001b[0m \u001b[0mdata\u001b[0m\u001b[0;34m.\u001b[0m\u001b[0mapply\u001b[0m\u001b[0;34m(\u001b[0m\u001b[0;32mlambda\u001b[0m \u001b[0mrow\u001b[0m\u001b[0;34m:\u001b[0m \u001b[0;34m(\u001b[0m\u001b[0mrow\u001b[0m\u001b[0;34m[\u001b[0m\u001b[0;34m'age_group_start'\u001b[0m\u001b[0;34m]\u001b[0m \u001b[0;34m+\u001b[0m \u001b[0mrow\u001b[0m\u001b[0;34m[\u001b[0m\u001b[0;34m'age_group_end'\u001b[0m\u001b[0;34m]\u001b[0m\u001b[0;34m)\u001b[0m \u001b[0;34m/\u001b[0m \u001b[0;36m2\u001b[0m\u001b[0;34m,\u001b[0m \u001b[0maxis\u001b[0m\u001b[0;34m=\u001b[0m\u001b[0;36m1\u001b[0m\u001b[0;34m)\u001b[0m\u001b[0;34m\u001b[0m\u001b[0;34m\u001b[0m\u001b[0m\n",
      "\u001b[0m\u001b[0;32m    371 \u001b[0;31m    \u001b[0;32mreturn\u001b[0m \u001b[0mdata\u001b[0m\u001b[0;34m\u001b[0m\u001b[0;34m\u001b[0m\u001b[0m\n",
      "\u001b[0m\u001b[0;32m    372 \u001b[0;31m\u001b[0;34m\u001b[0m\u001b[0m\n",
      "\u001b[0m\n",
      "ipdb> data\n",
      "      index         value\n",
      "0         0   9251.406428\n",
      "1         1   9371.524292\n",
      "2         2   9488.631659\n",
      "3         3   9592.689862\n",
      "4         4   9701.918801\n",
      "5         5   9841.805322\n",
      "6         6  10034.496105\n",
      "7         7  10256.521977\n",
      "8         8  10468.403330\n",
      "9         9  10640.258100\n",
      "10       10  10783.995580\n",
      "11       11  11047.876795\n",
      "12       12  11391.023807\n",
      "13       13  11616.335935\n",
      "14       14  11735.184731\n",
      "15       15  11881.548396\n",
      "16       16  12083.966819\n",
      "17       17  12186.248781\n",
      "18       18  12225.348763\n",
      "19       19  12207.904729\n",
      "20       20  12143.573342\n",
      "21       21  12184.260725\n",
      "22       22  12351.877253\n",
      "23       23  12535.051859\n",
      "24       24  12591.204599\n",
      "25       25  12571.112883\n",
      "26       26  12636.803857\n",
      "27       27  12842.069706\n",
      "28       28  27426.408406\n",
      "29       29  27781.016161\n",
      "...     ...           ...\n",
      "1258   1258   4128.062398\n",
      "1259   1259   4223.359987\n",
      "1260   1260    333.638387\n",
      "1261   1261    345.415224\n",
      "1262   1262    362.237671\n",
      "1263   1263    384.323971\n",
      "1264   1264    415.431513\n",
      "1265   1265    463.362512\n",
      "1266   1266    516.138482\n",
      "1267   1267    568.071160\n",
      "1268   1268    611.203100\n",
      "1269   1269    644.387247\n",
      "1270   1270    662.009864\n",
      "1271   1271    674.258792\n",
      "1272   1272    686.183019\n",
      "1273   1273    708.754220\n",
      "1274   1274    721.902160\n",
      "1275   1275    714.346888\n",
      "1276   1276    705.529318\n",
      "1277   1277    701.424879\n",
      "1278   1278    709.494929\n",
      "1279   1279    718.055725\n",
      "1280   1280    720.930487\n",
      "1281   1281    722.025817\n",
      "1282   1282    722.243926\n",
      "1283   1283    722.985385\n",
      "1284   1284    723.986113\n",
      "1285   1285    725.283038\n",
      "1286   1286    726.810192\n",
      "1287   1287    729.445944\n",
      "\n",
      "[1288 rows x 2 columns]\n",
      "ipdb> q\n"
     ]
    }
   ],
   "source": [
    "debug"
   ]
  },
  {
   "cell_type": "markdown",
   "metadata": {
    "slideshow": {
     "slide_type": "slide"
    }
   },
   "source": [
    "## Examining the population"
   ]
  },
  {
   "cell_type": "code",
   "execution_count": 1,
   "metadata": {
    "slideshow": {
     "slide_type": "fragment"
    }
   },
   "outputs": [
    {
     "ename": "NameError",
     "evalue": "name 'sim' is not defined",
     "output_type": "error",
     "traceback": [
      "\u001b[0;31m---------------------------------------------------------------------------\u001b[0m",
      "\u001b[0;31mNameError\u001b[0m                                 Traceback (most recent call last)",
      "\u001b[0;32m<ipython-input-1-ec45217decdf>\u001b[0m in \u001b[0;36m<module>\u001b[0;34m\u001b[0m\n\u001b[0;32m----> 1\u001b[0;31m \u001b[0mpop\u001b[0m \u001b[0;34m=\u001b[0m \u001b[0msim\u001b[0m\u001b[0;34m.\u001b[0m\u001b[0mget_population\u001b[0m\u001b[0;34m(\u001b[0m\u001b[0;34m)\u001b[0m\u001b[0;34m\u001b[0m\u001b[0;34m\u001b[0m\u001b[0m\n\u001b[0m\u001b[1;32m      2\u001b[0m \u001b[0mpop\u001b[0m\u001b[0;34m.\u001b[0m\u001b[0mhead\u001b[0m\u001b[0;34m(\u001b[0m\u001b[0;34m)\u001b[0m\u001b[0;34m\u001b[0m\u001b[0;34m\u001b[0m\u001b[0m\n",
      "\u001b[0;31mNameError\u001b[0m: name 'sim' is not defined"
     ]
    }
   ],
   "source": [
    "pop = sim.get_population()\n",
    "pop.head()"
   ]
  },
  {
   "cell_type": "code",
   "execution_count": 5,
   "metadata": {
    "slideshow": {
     "slide_type": "slide"
    }
   },
   "outputs": [
    {
     "data": {
      "image/png": "[encoded data removed]",
      "text/plain": [
       "<Figure size 1080x576 with 1 Axes>"
      ]
     },
     "metadata": {
      "needs_background": "light"
     },
     "output_type": "display_data"
    }
   ],
   "source": [
    "def plot_population(population):\n",
    "    plt.figure(figsize=(15, 8))\n",
    "    #sns.distplot(population.age, kde=False, bins=50)\n",
    "\n",
    "    population.age.hist(bins=50)\n",
    "    plt.xlabel('age', fontsize=16)\n",
    "    plt.ylabel('count', fontsize=16)\n",
    "    plt.show()\n",
    "    \n",
    "plot_population(pop)"
   ]
  },
  {
   "cell_type": "code",
   "execution_count": 6,
   "metadata": {
    "slideshow": {
     "slide_type": "slide"
    }
   },
   "outputs": [
    {
     "data": {
      "text/plain": [
       "Female    2513\n",
       "Male      2487\n",
       "Name: sex, dtype: int64"
      ]
     },
     "execution_count": 6,
     "metadata": {},
     "output_type": "execute_result"
    }
   ],
   "source": [
    "pop.sex.value_counts()"
   ]
  },
  {
   "cell_type": "code",
   "execution_count": 7,
   "metadata": {
    "slideshow": {
     "slide_type": "fragment"
    }
   },
   "outputs": [
    {
     "data": {
      "text/plain": [
       "alive    5000\n",
       "Name: alive, dtype: int64"
      ]
     },
     "execution_count": 7,
     "metadata": {},
     "output_type": "execute_result"
    }
   ],
   "source": [
    "pop.alive.value_counts()"
   ]
  },
  {
   "cell_type": "markdown",
   "metadata": {
    "slideshow": {
     "slide_type": "slide"
    }
   },
   "source": [
    "# Running the simulation"
   ]
  },
  {
   "cell_type": "code",
   "execution_count": 8,
   "metadata": {
    "slideshow": {
     "slide_type": "fragment"
    }
   },
   "outputs": [
    {
     "data": {
      "application/vnd.jupyter.widget-view+json": {
       "model_id": "09d18f2adc434ba1a2c10c908af0cacc",
       "version_major": 2,
       "version_minor": 0
      },
      "text/plain": [
       "VBox(children=(HTML(value=''), IntProgress(value=0, max=66)))"
      ]
     },
     "metadata": {},
     "output_type": "display_data"
    },
    {
     "data": {
      "text/plain": [
       "66"
      ]
     },
     "execution_count": 8,
     "metadata": {},
     "output_type": "execute_result"
    }
   ],
   "source": [
    "sim.run()"
   ]
  },
  {
   "cell_type": "code",
   "execution_count": 5,
   "metadata": {},
   "outputs": [],
   "source": [
    "from vivarium_public_health.dataset_manager import Artifact\n",
    "a = Artifact('artifact.hdf')"
   ]
  },
  {
   "cell_type": "code",
   "execution_count": 7,
   "metadata": {
    "scrolled": true
   },
   "outputs": [
    {
     "name": "stdout",
     "output_type": "stream",
     "text": [
      "Artifact containing the following keys:\n",
      "metadata\n",
      "\tkeyspace\n",
      "\tversions\n",
      "\tlocations\n",
      "population\n",
      "\tdemographic_dimensions\n",
      "\tstructure\n",
      "\ttheoretical_minimum_risk_life_expectancy\n",
      "\tage_bins\n",
      "cause\n",
      "\tall_causes\n",
      "\t\tcause_specific_mortality\n",
      "\tischemic_heart_disease\n",
      "\t\trestrictions\n",
      "\t\tcause_specific_mortality\n",
      "\t\tprevalence\n",
      "\t\tdisability_weight\n",
      "\t\texcess_mortality\n",
      "\t\tincidence\n",
      "covariate\n",
      "\tlive_births_by_sex\n",
      "\t\testimate\n",
      "risk_factor\n",
      "\thigh_body_mass_index_in_adults\n",
      "\t\texposure\n",
      "\t\tdistribution\n",
      "\t\texposure_standard_deviation\n",
      "\t\texposure_distribution_weights\n",
      "\t\trelative_risk\n",
      "\t\tpopulation_attributable_fraction\n",
      "\t\ttmred\n",
      "\t\trelative_risk_scalar\n",
      "\n"
     ]
    }
   ],
   "source": [
    "print(a)\n",
    "df = a.load('cause.all_causes.cause_specific_mortality')"
   ]
  },
  {
   "cell_type": "code",
   "execution_count": 11,
   "metadata": {},
   "outputs": [
    {
     "data": {
      "text/html": [
       "<div>\n",
       "<style scoped>\n",
       "    .dataframe tbody tr th:only-of-type {\n",
       "        vertical-align: middle;\n",
       "    }\n",
       "\n",
       "    .dataframe tbody tr th {\n",
       "        vertical-align: top;\n",
       "    }\n",
       "\n",
       "    .dataframe thead th {\n",
       "        text-align: right;\n",
       "    }\n",
       "</style>\n",
       "<table border=\"1\" class=\"dataframe\">\n",
       "  <thead>\n",
       "    <tr style=\"text-align: right;\">\n",
       "      <th></th>\n",
       "      <th>location</th>\n",
       "      <th>sex</th>\n",
       "      <th>age_group_start</th>\n",
       "      <th>age_group_end</th>\n",
       "      <th>year_start</th>\n",
       "      <th>year_end</th>\n",
       "      <th>value</th>\n",
       "    </tr>\n",
       "  </thead>\n",
       "  <tbody>\n",
       "    <tr>\n",
       "      <th>20</th>\n",
       "      <td>Kenya</td>\n",
       "      <td>Female</td>\n",
       "      <td>0.000000</td>\n",
       "      <td>0.019178</td>\n",
       "      <td>2010</td>\n",
       "      <td>2011</td>\n",
       "      <td>1.214357e+04</td>\n",
       "    </tr>\n",
       "    <tr>\n",
       "      <th>48</th>\n",
       "      <td>Kenya</td>\n",
       "      <td>Female</td>\n",
       "      <td>0.019178</td>\n",
       "      <td>0.076712</td>\n",
       "      <td>2010</td>\n",
       "      <td>2011</td>\n",
       "      <td>3.605687e+04</td>\n",
       "    </tr>\n",
       "    <tr>\n",
       "      <th>76</th>\n",
       "      <td>Kenya</td>\n",
       "      <td>Female</td>\n",
       "      <td>0.076712</td>\n",
       "      <td>1.000000</td>\n",
       "      <td>2010</td>\n",
       "      <td>2011</td>\n",
       "      <td>5.705751e+05</td>\n",
       "    </tr>\n",
       "    <tr>\n",
       "      <th>104</th>\n",
       "      <td>Kenya</td>\n",
       "      <td>Female</td>\n",
       "      <td>1.000000</td>\n",
       "      <td>5.000000</td>\n",
       "      <td>2010</td>\n",
       "      <td>2011</td>\n",
       "      <td>2.451173e+06</td>\n",
       "    </tr>\n",
       "    <tr>\n",
       "      <th>132</th>\n",
       "      <td>Kenya</td>\n",
       "      <td>Female</td>\n",
       "      <td>5.000000</td>\n",
       "      <td>10.000000</td>\n",
       "      <td>2010</td>\n",
       "      <td>2011</td>\n",
       "      <td>2.916606e+06</td>\n",
       "    </tr>\n",
       "    <tr>\n",
       "      <th>160</th>\n",
       "      <td>Kenya</td>\n",
       "      <td>Female</td>\n",
       "      <td>10.000000</td>\n",
       "      <td>15.000000</td>\n",
       "      <td>2010</td>\n",
       "      <td>2011</td>\n",
       "      <td>2.607119e+06</td>\n",
       "    </tr>\n",
       "    <tr>\n",
       "      <th>188</th>\n",
       "      <td>Kenya</td>\n",
       "      <td>Female</td>\n",
       "      <td>15.000000</td>\n",
       "      <td>20.000000</td>\n",
       "      <td>2010</td>\n",
       "      <td>2011</td>\n",
       "      <td>2.278802e+06</td>\n",
       "    </tr>\n",
       "    <tr>\n",
       "      <th>216</th>\n",
       "      <td>Kenya</td>\n",
       "      <td>Female</td>\n",
       "      <td>20.000000</td>\n",
       "      <td>25.000000</td>\n",
       "      <td>2010</td>\n",
       "      <td>2011</td>\n",
       "      <td>2.062814e+06</td>\n",
       "    </tr>\n",
       "    <tr>\n",
       "      <th>244</th>\n",
       "      <td>Kenya</td>\n",
       "      <td>Female</td>\n",
       "      <td>25.000000</td>\n",
       "      <td>30.000000</td>\n",
       "      <td>2010</td>\n",
       "      <td>2011</td>\n",
       "      <td>1.783025e+06</td>\n",
       "    </tr>\n",
       "    <tr>\n",
       "      <th>272</th>\n",
       "      <td>Kenya</td>\n",
       "      <td>Female</td>\n",
       "      <td>30.000000</td>\n",
       "      <td>35.000000</td>\n",
       "      <td>2010</td>\n",
       "      <td>2011</td>\n",
       "      <td>1.387745e+06</td>\n",
       "    </tr>\n",
       "    <tr>\n",
       "      <th>300</th>\n",
       "      <td>Kenya</td>\n",
       "      <td>Female</td>\n",
       "      <td>35.000000</td>\n",
       "      <td>40.000000</td>\n",
       "      <td>2010</td>\n",
       "      <td>2011</td>\n",
       "      <td>1.063024e+06</td>\n",
       "    </tr>\n",
       "    <tr>\n",
       "      <th>328</th>\n",
       "      <td>Kenya</td>\n",
       "      <td>Female</td>\n",
       "      <td>40.000000</td>\n",
       "      <td>45.000000</td>\n",
       "      <td>2010</td>\n",
       "      <td>2011</td>\n",
       "      <td>8.157468e+05</td>\n",
       "    </tr>\n",
       "    <tr>\n",
       "      <th>356</th>\n",
       "      <td>Kenya</td>\n",
       "      <td>Female</td>\n",
       "      <td>45.000000</td>\n",
       "      <td>50.000000</td>\n",
       "      <td>2010</td>\n",
       "      <td>2011</td>\n",
       "      <td>6.450187e+05</td>\n",
       "    </tr>\n",
       "    <tr>\n",
       "      <th>384</th>\n",
       "      <td>Kenya</td>\n",
       "      <td>Female</td>\n",
       "      <td>50.000000</td>\n",
       "      <td>55.000000</td>\n",
       "      <td>2010</td>\n",
       "      <td>2011</td>\n",
       "      <td>5.135279e+05</td>\n",
       "    </tr>\n",
       "    <tr>\n",
       "      <th>412</th>\n",
       "      <td>Kenya</td>\n",
       "      <td>Female</td>\n",
       "      <td>55.000000</td>\n",
       "      <td>60.000000</td>\n",
       "      <td>2010</td>\n",
       "      <td>2011</td>\n",
       "      <td>3.924672e+05</td>\n",
       "    </tr>\n",
       "    <tr>\n",
       "      <th>440</th>\n",
       "      <td>Kenya</td>\n",
       "      <td>Female</td>\n",
       "      <td>60.000000</td>\n",
       "      <td>65.000000</td>\n",
       "      <td>2010</td>\n",
       "      <td>2011</td>\n",
       "      <td>2.951240e+05</td>\n",
       "    </tr>\n",
       "    <tr>\n",
       "      <th>468</th>\n",
       "      <td>Kenya</td>\n",
       "      <td>Female</td>\n",
       "      <td>65.000000</td>\n",
       "      <td>70.000000</td>\n",
       "      <td>2010</td>\n",
       "      <td>2011</td>\n",
       "      <td>2.291557e+05</td>\n",
       "    </tr>\n",
       "    <tr>\n",
       "      <th>496</th>\n",
       "      <td>Kenya</td>\n",
       "      <td>Female</td>\n",
       "      <td>70.000000</td>\n",
       "      <td>75.000000</td>\n",
       "      <td>2010</td>\n",
       "      <td>2011</td>\n",
       "      <td>1.634679e+05</td>\n",
       "    </tr>\n",
       "    <tr>\n",
       "      <th>524</th>\n",
       "      <td>Kenya</td>\n",
       "      <td>Female</td>\n",
       "      <td>75.000000</td>\n",
       "      <td>80.000000</td>\n",
       "      <td>2010</td>\n",
       "      <td>2011</td>\n",
       "      <td>1.082721e+05</td>\n",
       "    </tr>\n",
       "    <tr>\n",
       "      <th>552</th>\n",
       "      <td>Kenya</td>\n",
       "      <td>Female</td>\n",
       "      <td>80.000000</td>\n",
       "      <td>85.000000</td>\n",
       "      <td>2010</td>\n",
       "      <td>2011</td>\n",
       "      <td>5.826483e+04</td>\n",
       "    </tr>\n",
       "    <tr>\n",
       "      <th>580</th>\n",
       "      <td>Kenya</td>\n",
       "      <td>Female</td>\n",
       "      <td>85.000000</td>\n",
       "      <td>90.000000</td>\n",
       "      <td>2010</td>\n",
       "      <td>2011</td>\n",
       "      <td>2.386517e+04</td>\n",
       "    </tr>\n",
       "    <tr>\n",
       "      <th>608</th>\n",
       "      <td>Kenya</td>\n",
       "      <td>Female</td>\n",
       "      <td>90.000000</td>\n",
       "      <td>95.000000</td>\n",
       "      <td>2010</td>\n",
       "      <td>2011</td>\n",
       "      <td>6.404366e+03</td>\n",
       "    </tr>\n",
       "    <tr>\n",
       "      <th>636</th>\n",
       "      <td>Kenya</td>\n",
       "      <td>Female</td>\n",
       "      <td>95.000000</td>\n",
       "      <td>125.000000</td>\n",
       "      <td>2010</td>\n",
       "      <td>2011</td>\n",
       "      <td>1.095178e+03</td>\n",
       "    </tr>\n",
       "    <tr>\n",
       "      <th>664</th>\n",
       "      <td>Kenya</td>\n",
       "      <td>Male</td>\n",
       "      <td>0.000000</td>\n",
       "      <td>0.019178</td>\n",
       "      <td>2010</td>\n",
       "      <td>2011</td>\n",
       "      <td>1.256982e+04</td>\n",
       "    </tr>\n",
       "    <tr>\n",
       "      <th>692</th>\n",
       "      <td>Kenya</td>\n",
       "      <td>Male</td>\n",
       "      <td>0.019178</td>\n",
       "      <td>0.076712</td>\n",
       "      <td>2010</td>\n",
       "      <td>2011</td>\n",
       "      <td>3.721249e+04</td>\n",
       "    </tr>\n",
       "    <tr>\n",
       "      <th>720</th>\n",
       "      <td>Kenya</td>\n",
       "      <td>Male</td>\n",
       "      <td>0.076712</td>\n",
       "      <td>1.000000</td>\n",
       "      <td>2010</td>\n",
       "      <td>2011</td>\n",
       "      <td>5.877378e+05</td>\n",
       "    </tr>\n",
       "    <tr>\n",
       "      <th>748</th>\n",
       "      <td>Kenya</td>\n",
       "      <td>Male</td>\n",
       "      <td>1.000000</td>\n",
       "      <td>5.000000</td>\n",
       "      <td>2010</td>\n",
       "      <td>2011</td>\n",
       "      <td>2.522333e+06</td>\n",
       "    </tr>\n",
       "    <tr>\n",
       "      <th>776</th>\n",
       "      <td>Kenya</td>\n",
       "      <td>Male</td>\n",
       "      <td>5.000000</td>\n",
       "      <td>10.000000</td>\n",
       "      <td>2010</td>\n",
       "      <td>2011</td>\n",
       "      <td>3.002011e+06</td>\n",
       "    </tr>\n",
       "    <tr>\n",
       "      <th>804</th>\n",
       "      <td>Kenya</td>\n",
       "      <td>Male</td>\n",
       "      <td>10.000000</td>\n",
       "      <td>15.000000</td>\n",
       "      <td>2010</td>\n",
       "      <td>2011</td>\n",
       "      <td>2.697519e+06</td>\n",
       "    </tr>\n",
       "    <tr>\n",
       "      <th>832</th>\n",
       "      <td>Kenya</td>\n",
       "      <td>Male</td>\n",
       "      <td>15.000000</td>\n",
       "      <td>20.000000</td>\n",
       "      <td>2010</td>\n",
       "      <td>2011</td>\n",
       "      <td>2.287781e+06</td>\n",
       "    </tr>\n",
       "    <tr>\n",
       "      <th>860</th>\n",
       "      <td>Kenya</td>\n",
       "      <td>Male</td>\n",
       "      <td>20.000000</td>\n",
       "      <td>25.000000</td>\n",
       "      <td>2010</td>\n",
       "      <td>2011</td>\n",
       "      <td>1.911559e+06</td>\n",
       "    </tr>\n",
       "    <tr>\n",
       "      <th>888</th>\n",
       "      <td>Kenya</td>\n",
       "      <td>Male</td>\n",
       "      <td>25.000000</td>\n",
       "      <td>30.000000</td>\n",
       "      <td>2010</td>\n",
       "      <td>2011</td>\n",
       "      <td>1.628937e+06</td>\n",
       "    </tr>\n",
       "    <tr>\n",
       "      <th>916</th>\n",
       "      <td>Kenya</td>\n",
       "      <td>Male</td>\n",
       "      <td>30.000000</td>\n",
       "      <td>35.000000</td>\n",
       "      <td>2010</td>\n",
       "      <td>2011</td>\n",
       "      <td>1.357472e+06</td>\n",
       "    </tr>\n",
       "    <tr>\n",
       "      <th>944</th>\n",
       "      <td>Kenya</td>\n",
       "      <td>Male</td>\n",
       "      <td>35.000000</td>\n",
       "      <td>40.000000</td>\n",
       "      <td>2010</td>\n",
       "      <td>2011</td>\n",
       "      <td>1.074077e+06</td>\n",
       "    </tr>\n",
       "    <tr>\n",
       "      <th>972</th>\n",
       "      <td>Kenya</td>\n",
       "      <td>Male</td>\n",
       "      <td>40.000000</td>\n",
       "      <td>45.000000</td>\n",
       "      <td>2010</td>\n",
       "      <td>2011</td>\n",
       "      <td>8.243857e+05</td>\n",
       "    </tr>\n",
       "    <tr>\n",
       "      <th>1000</th>\n",
       "      <td>Kenya</td>\n",
       "      <td>Male</td>\n",
       "      <td>45.000000</td>\n",
       "      <td>50.000000</td>\n",
       "      <td>2010</td>\n",
       "      <td>2011</td>\n",
       "      <td>6.491513e+05</td>\n",
       "    </tr>\n",
       "    <tr>\n",
       "      <th>1028</th>\n",
       "      <td>Kenya</td>\n",
       "      <td>Male</td>\n",
       "      <td>50.000000</td>\n",
       "      <td>55.000000</td>\n",
       "      <td>2010</td>\n",
       "      <td>2011</td>\n",
       "      <td>5.179449e+05</td>\n",
       "    </tr>\n",
       "    <tr>\n",
       "      <th>1056</th>\n",
       "      <td>Kenya</td>\n",
       "      <td>Male</td>\n",
       "      <td>55.000000</td>\n",
       "      <td>60.000000</td>\n",
       "      <td>2010</td>\n",
       "      <td>2011</td>\n",
       "      <td>3.929445e+05</td>\n",
       "    </tr>\n",
       "    <tr>\n",
       "      <th>1084</th>\n",
       "      <td>Kenya</td>\n",
       "      <td>Male</td>\n",
       "      <td>60.000000</td>\n",
       "      <td>65.000000</td>\n",
       "      <td>2010</td>\n",
       "      <td>2011</td>\n",
       "      <td>2.937065e+05</td>\n",
       "    </tr>\n",
       "    <tr>\n",
       "      <th>1112</th>\n",
       "      <td>Kenya</td>\n",
       "      <td>Male</td>\n",
       "      <td>65.000000</td>\n",
       "      <td>70.000000</td>\n",
       "      <td>2010</td>\n",
       "      <td>2011</td>\n",
       "      <td>2.137450e+05</td>\n",
       "    </tr>\n",
       "    <tr>\n",
       "      <th>1140</th>\n",
       "      <td>Kenya</td>\n",
       "      <td>Male</td>\n",
       "      <td>70.000000</td>\n",
       "      <td>75.000000</td>\n",
       "      <td>2010</td>\n",
       "      <td>2011</td>\n",
       "      <td>1.296546e+05</td>\n",
       "    </tr>\n",
       "    <tr>\n",
       "      <th>1168</th>\n",
       "      <td>Kenya</td>\n",
       "      <td>Male</td>\n",
       "      <td>75.000000</td>\n",
       "      <td>80.000000</td>\n",
       "      <td>2010</td>\n",
       "      <td>2011</td>\n",
       "      <td>7.640161e+04</td>\n",
       "    </tr>\n",
       "    <tr>\n",
       "      <th>1196</th>\n",
       "      <td>Kenya</td>\n",
       "      <td>Male</td>\n",
       "      <td>80.000000</td>\n",
       "      <td>85.000000</td>\n",
       "      <td>2010</td>\n",
       "      <td>2011</td>\n",
       "      <td>3.705668e+04</td>\n",
       "    </tr>\n",
       "    <tr>\n",
       "      <th>1224</th>\n",
       "      <td>Kenya</td>\n",
       "      <td>Male</td>\n",
       "      <td>85.000000</td>\n",
       "      <td>90.000000</td>\n",
       "      <td>2010</td>\n",
       "      <td>2011</td>\n",
       "      <td>1.406617e+04</td>\n",
       "    </tr>\n",
       "    <tr>\n",
       "      <th>1252</th>\n",
       "      <td>Kenya</td>\n",
       "      <td>Male</td>\n",
       "      <td>90.000000</td>\n",
       "      <td>95.000000</td>\n",
       "      <td>2010</td>\n",
       "      <td>2011</td>\n",
       "      <td>3.889109e+03</td>\n",
       "    </tr>\n",
       "    <tr>\n",
       "      <th>1280</th>\n",
       "      <td>Kenya</td>\n",
       "      <td>Male</td>\n",
       "      <td>95.000000</td>\n",
       "      <td>125.000000</td>\n",
       "      <td>2010</td>\n",
       "      <td>2011</td>\n",
       "      <td>7.209305e+02</td>\n",
       "    </tr>\n",
       "  </tbody>\n",
       "</table>\n",
       "</div>"
      ],
      "text/plain": [
       "     location     sex  age_group_start  age_group_end  year_start  year_end  \\\n",
       "20      Kenya  Female         0.000000       0.019178        2010      2011   \n",
       "48      Kenya  Female         0.019178       0.076712        2010      2011   \n",
       "76      Kenya  Female         0.076712       1.000000        2010      2011   \n",
       "104     Kenya  Female         1.000000       5.000000        2010      2011   \n",
       "132     Kenya  Female         5.000000      10.000000        2010      2011   \n",
       "160     Kenya  Female        10.000000      15.000000        2010      2011   \n",
       "188     Kenya  Female        15.000000      20.000000        2010      2011   \n",
       "216     Kenya  Female        20.000000      25.000000        2010      2011   \n",
       "244     Kenya  Female        25.000000      30.000000        2010      2011   \n",
       "272     Kenya  Female        30.000000      35.000000        2010      2011   \n",
       "300     Kenya  Female        35.000000      40.000000        2010      2011   \n",
       "328     Kenya  Female        40.000000      45.000000        2010      2011   \n",
       "356     Kenya  Female        45.000000      50.000000        2010      2011   \n",
       "384     Kenya  Female        50.000000      55.000000        2010      2011   \n",
       "412     Kenya  Female        55.000000      60.000000        2010      2011   \n",
       "440     Kenya  Female        60.000000      65.000000        2010      2011   \n",
       "468     Kenya  Female        65.000000      70.000000        2010      2011   \n",
       "496     Kenya  Female        70.000000      75.000000        2010      2011   \n",
       "524     Kenya  Female        75.000000      80.000000        2010      2011   \n",
       "552     Kenya  Female        80.000000      85.000000        2010      2011   \n",
       "580     Kenya  Female        85.000000      90.000000        2010      2011   \n",
       "608     Kenya  Female        90.000000      95.000000        2010      2011   \n",
       "636     Kenya  Female        95.000000     125.000000        2010      2011   \n",
       "664     Kenya    Male         0.000000       0.019178        2010      2011   \n",
       "692     Kenya    Male         0.019178       0.076712        2010      2011   \n",
       "720     Kenya    Male         0.076712       1.000000        2010      2011   \n",
       "748     Kenya    Male         1.000000       5.000000        2010      2011   \n",
       "776     Kenya    Male         5.000000      10.000000        2010      2011   \n",
       "804     Kenya    Male        10.000000      15.000000        2010      2011   \n",
       "832     Kenya    Male        15.000000      20.000000        2010      2011   \n",
       "860     Kenya    Male        20.000000      25.000000        2010      2011   \n",
       "888     Kenya    Male        25.000000      30.000000        2010      2011   \n",
       "916     Kenya    Male        30.000000      35.000000        2010      2011   \n",
       "944     Kenya    Male        35.000000      40.000000        2010      2011   \n",
       "972     Kenya    Male        40.000000      45.000000        2010      2011   \n",
       "1000    Kenya    Male        45.000000      50.000000        2010      2011   \n",
       "1028    Kenya    Male        50.000000      55.000000        2010      2011   \n",
       "1056    Kenya    Male        55.000000      60.000000        2010      2011   \n",
       "1084    Kenya    Male        60.000000      65.000000        2010      2011   \n",
       "1112    Kenya    Male        65.000000      70.000000        2010      2011   \n",
       "1140    Kenya    Male        70.000000      75.000000        2010      2011   \n",
       "1168    Kenya    Male        75.000000      80.000000        2010      2011   \n",
       "1196    Kenya    Male        80.000000      85.000000        2010      2011   \n",
       "1224    Kenya    Male        85.000000      90.000000        2010      2011   \n",
       "1252    Kenya    Male        90.000000      95.000000        2010      2011   \n",
       "1280    Kenya    Male        95.000000     125.000000        2010      2011   \n",
       "\n",
       "             value  \n",
       "20    1.214357e+04  \n",
       "48    3.605687e+04  \n",
       "76    5.705751e+05  \n",
       "104   2.451173e+06  \n",
       "132   2.916606e+06  \n",
       "160   2.607119e+06  \n",
       "188   2.278802e+06  \n",
       "216   2.062814e+06  \n",
       "244   1.783025e+06  \n",
       "272   1.387745e+06  \n",
       "300   1.063024e+06  \n",
       "328   8.157468e+05  \n",
       "356   6.450187e+05  \n",
       "384   5.135279e+05  \n",
       "412   3.924672e+05  \n",
       "440   2.951240e+05  \n",
       "468   2.291557e+05  \n",
       "496   1.634679e+05  \n",
       "524   1.082721e+05  \n",
       "552   5.826483e+04  \n",
       "580   2.386517e+04  \n",
       "608   6.404366e+03  \n",
       "636   1.095178e+03  \n",
       "664   1.256982e+04  \n",
       "692   3.721249e+04  \n",
       "720   5.877378e+05  \n",
       "748   2.522333e+06  \n",
       "776   3.002011e+06  \n",
       "804   2.697519e+06  \n",
       "832   2.287781e+06  \n",
       "860   1.911559e+06  \n",
       "888   1.628937e+06  \n",
       "916   1.357472e+06  \n",
       "944   1.074077e+06  \n",
       "972   8.243857e+05  \n",
       "1000  6.491513e+05  \n",
       "1028  5.179449e+05  \n",
       "1056  3.929445e+05  \n",
       "1084  2.937065e+05  \n",
       "1112  2.137450e+05  \n",
       "1140  1.296546e+05  \n",
       "1168  7.640161e+04  \n",
       "1196  3.705668e+04  \n",
       "1224  1.406617e+04  \n",
       "1252  3.889109e+03  \n",
       "1280  7.209305e+02  "
      ]
     },
     "execution_count": 11,
     "metadata": {},
     "output_type": "execute_result"
    }
   ],
   "source": [
    "df = a.load('population.structure')\n",
    "df[df.year_start == 2010]"
   ]
  },
  {
   "cell_type": "markdown",
   "metadata": {
    "slideshow": {
     "slide_type": "slide"
    }
   },
   "source": [
    "# Examining the final population"
   ]
  },
  {
   "cell_type": "code",
   "execution_count": 13,
   "metadata": {
    "slideshow": {
     "slide_type": "fragment"
    }
   },
   "outputs": [
    {
     "data": {
      "image/png": "[encoded data removed]",
      "text/plain": [
       "<Figure size 1080x576 with 1 Axes>"
      ]
     },
     "metadata": {
      "needs_background": "light"
     },
     "output_type": "display_data"
    }
   ],
   "source": [
    "pop_final = sim.get_population()\n",
    "plot_population(pop_final)"
   ]
  },
  {
   "cell_type": "code",
   "execution_count": 14,
   "metadata": {
    "slideshow": {
     "slide_type": "slide"
    }
   },
   "outputs": [
    {
     "data": {
      "image/png": "[encoded data removed]",
      "text/plain": [
       "<Figure size 1080x576 with 1 Axes>"
      ]
     },
     "metadata": {
      "needs_background": "light"
     },
     "output_type": "display_data"
    }
   ],
   "source": [
    "plot_population(pop_final[pop_final.alive == 'dead'])"
   ]
  },
  {
   "cell_type": "markdown",
   "metadata": {
    "slideshow": {
     "slide_type": "notes"
    }
   },
   "source": [
    "For experts in the room, anything surprising about this death pattern?"
   ]
  },
  {
   "cell_type": "markdown",
   "metadata": {
    "slideshow": {
     "slide_type": "slide"
    }
   },
   "source": [
    "# Let's add a risk and a disease"
   ]
  },
  {
   "cell_type": "code",
   "execution_count": 15,
   "metadata": {
    "slideshow": {
     "slide_type": "slide"
    }
   },
   "outputs": [
    {
     "name": "stdout",
     "output_type": "stream",
     "text": [
      "plugins:\n",
      "        optional:\n",
      "                data:\n",
      "                        controller: \"vivarium_public_health.dataset_manager.ArtifactManager\"\n",
      "                        builder_interface: \"vivarium_public_health.dataset_manager.ArtifactManagerInterface\"\n",
      "\n",
      "components:\n",
      "        vivarium_public_health:\n",
      "                population:\n",
      "                        - BasePopulation()\n",
      "                        - Mortality()\n",
      "                disease.models:\n",
      "                        - SI('ischemic_heart_disease')\n",
      "                risks:\n",
      "                        - Risk(\"risk_factor.high_body_mass_index_in_adults\")\n",
      "                        - RiskEffect(\"risk_factor.high_body_mass_index_in_adults\", \"cause.ischemic_heart_disease.incidence_rate\")\n",
      "\n",
      "configuration:\n",
      "        input_data:\n",
      "                location: Kenya\n",
      "                input_draw_number: 0\n",
      "                artifact_path: /home/collijk/vivarium-demo/artifact.hdf\n",
      "        time:\n",
      "                start:\n",
      "                        year: 2010\n",
      "                end:\n",
      "                        year: 2015\n",
      "                step_size: 28 # Days\n",
      "        population:\n",
      "                age_start: 50\n",
      "                age_end: 55\n",
      "                population_size: 5_000\n"
     ]
    }
   ],
   "source": [
    "!cat disease_model.yaml"
   ]
  },
  {
   "cell_type": "markdown",
   "metadata": {
    "slideshow": {
     "slide_type": "notes"
    }
   },
   "source": [
    "Closed cohort, moved up age since this is an adult disease"
   ]
  },
  {
   "cell_type": "code",
   "execution_count": 12,
   "metadata": {
    "slideshow": {
     "slide_type": "slide"
    }
   },
   "outputs": [
    {
     "name": "stderr",
     "output_type": "stream",
     "text": [
      "/home/collijk/miniconda3/envs/vivarium-demo/lib/python3.6/site-packages/vivarium/framework/configuration.py:35: YAMLLoadWarning: calling yaml.load() without Loader=... is deprecated, as the default Loader is unsafe. Please read https://msg.pyyaml.org/load for full details.\n",
      "  yaml.load(file_path)\n",
      "/home/collijk/miniconda3/envs/vivarium-demo/lib/python3.6/site-packages/vivarium/config_tree.py:394: YAMLLoadWarning: calling yaml.load() without Loader=... is deprecated, as the default Loader is unsafe. Please read https://msg.pyyaml.org/load for full details.\n",
      "  data_dict = yaml.load(data_string)\n",
      "/home/collijk/miniconda3/envs/vivarium-demo/lib/python3.6/site-packages/risk_distributions/risk_distributions.py:416: RuntimeWarning: overflow encountered in double_scalars\n",
      "  return (m - mean_guess) ** 2 + (s ** 2 - var_guess) ** 2\n",
      "/home/collijk/miniconda3/envs/vivarium-demo/lib/python3.6/site-packages/vivarium_public_health/population/data_transformations.py:156: FutureWarning: Sorting because non-concatenation axis is not aligned. A future version\n",
      "of pandas will change to not sort by default.\n",
      "\n",
      "To accept the future behavior, pass 'sort=False'.\n",
      "\n",
      "To retain the current behavior and silence the warning, pass 'sort=True'.\n",
      "\n",
      "  pop_data = pd.concat([lower_bin, pop_data, upper_bin]).reset_index()\n"
     ]
    }
   ],
   "source": [
    "sim = setup_simulation_from_model_specification(\"disease_model.yaml\")\n"
   ]
  },
  {
   "cell_type": "code",
   "execution_count": 17,
   "metadata": {
    "slideshow": {
     "slide_type": "slide"
    }
   },
   "outputs": [
    {
     "data": {
      "text/html": [
       "<div>\n",
       "<style scoped>\n",
       "    .dataframe tbody tr th:only-of-type {\n",
       "        vertical-align: middle;\n",
       "    }\n",
       "\n",
       "    .dataframe tbody tr th {\n",
       "        vertical-align: top;\n",
       "    }\n",
       "\n",
       "    .dataframe thead th {\n",
       "        text-align: right;\n",
       "    }\n",
       "</style>\n",
       "<table border=\"1\" class=\"dataframe\">\n",
       "  <thead>\n",
       "    <tr style=\"text-align: right;\">\n",
       "      <th></th>\n",
       "      <th>tracked</th>\n",
       "      <th>entrance_time</th>\n",
       "      <th>exit_time</th>\n",
       "      <th>age</th>\n",
       "      <th>sex</th>\n",
       "      <th>alive</th>\n",
       "      <th>location</th>\n",
       "      <th>cause_of_death</th>\n",
       "      <th>years_of_life_lost</th>\n",
       "      <th>ischemic_heart_disease</th>\n",
       "      <th>susceptible_to_ischemic_heart_disease_event_time</th>\n",
       "      <th>susceptible_to_ischemic_heart_disease_event_count</th>\n",
       "      <th>ischemic_heart_disease_event_time</th>\n",
       "      <th>ischemic_heart_disease_event_count</th>\n",
       "    </tr>\n",
       "  </thead>\n",
       "  <tbody>\n",
       "    <tr>\n",
       "      <th>0</th>\n",
       "      <td>True</td>\n",
       "      <td>2010-06-04</td>\n",
       "      <td>NaT</td>\n",
       "      <td>50.476270</td>\n",
       "      <td>Female</td>\n",
       "      <td>alive</td>\n",
       "      <td>Kenya</td>\n",
       "      <td>not_dead</td>\n",
       "      <td>0.0</td>\n",
       "      <td>susceptible_to_ischemic_heart_disease</td>\n",
       "      <td>NaT</td>\n",
       "      <td>0</td>\n",
       "      <td>NaT</td>\n",
       "      <td>0</td>\n",
       "    </tr>\n",
       "    <tr>\n",
       "      <th>1</th>\n",
       "      <td>True</td>\n",
       "      <td>2010-06-04</td>\n",
       "      <td>NaT</td>\n",
       "      <td>50.248124</td>\n",
       "      <td>Male</td>\n",
       "      <td>alive</td>\n",
       "      <td>Kenya</td>\n",
       "      <td>not_dead</td>\n",
       "      <td>0.0</td>\n",
       "      <td>susceptible_to_ischemic_heart_disease</td>\n",
       "      <td>NaT</td>\n",
       "      <td>0</td>\n",
       "      <td>NaT</td>\n",
       "      <td>0</td>\n",
       "    </tr>\n",
       "    <tr>\n",
       "      <th>2</th>\n",
       "      <td>True</td>\n",
       "      <td>2010-06-04</td>\n",
       "      <td>NaT</td>\n",
       "      <td>52.013228</td>\n",
       "      <td>Male</td>\n",
       "      <td>alive</td>\n",
       "      <td>Kenya</td>\n",
       "      <td>not_dead</td>\n",
       "      <td>0.0</td>\n",
       "      <td>susceptible_to_ischemic_heart_disease</td>\n",
       "      <td>NaT</td>\n",
       "      <td>0</td>\n",
       "      <td>NaT</td>\n",
       "      <td>0</td>\n",
       "    </tr>\n",
       "    <tr>\n",
       "      <th>3</th>\n",
       "      <td>True</td>\n",
       "      <td>2010-06-04</td>\n",
       "      <td>NaT</td>\n",
       "      <td>51.187254</td>\n",
       "      <td>Male</td>\n",
       "      <td>alive</td>\n",
       "      <td>Kenya</td>\n",
       "      <td>not_dead</td>\n",
       "      <td>0.0</td>\n",
       "      <td>ischemic_heart_disease</td>\n",
       "      <td>NaT</td>\n",
       "      <td>0</td>\n",
       "      <td>2010-06-04</td>\n",
       "      <td>0</td>\n",
       "    </tr>\n",
       "    <tr>\n",
       "      <th>4</th>\n",
       "      <td>True</td>\n",
       "      <td>2010-06-04</td>\n",
       "      <td>NaT</td>\n",
       "      <td>53.988313</td>\n",
       "      <td>Male</td>\n",
       "      <td>alive</td>\n",
       "      <td>Kenya</td>\n",
       "      <td>not_dead</td>\n",
       "      <td>0.0</td>\n",
       "      <td>susceptible_to_ischemic_heart_disease</td>\n",
       "      <td>NaT</td>\n",
       "      <td>0</td>\n",
       "      <td>NaT</td>\n",
       "      <td>0</td>\n",
       "    </tr>\n",
       "  </tbody>\n",
       "</table>\n",
       "</div>"
      ],
      "text/plain": [
       "   tracked entrance_time exit_time        age     sex  alive location  \\\n",
       "0     True    2010-06-04       NaT  50.476270  Female  alive    Kenya   \n",
       "1     True    2010-06-04       NaT  50.248124    Male  alive    Kenya   \n",
       "2     True    2010-06-04       NaT  52.013228    Male  alive    Kenya   \n",
       "3     True    2010-06-04       NaT  51.187254    Male  alive    Kenya   \n",
       "4     True    2010-06-04       NaT  53.988313    Male  alive    Kenya   \n",
       "\n",
       "  cause_of_death  years_of_life_lost                 ischemic_heart_disease  \\\n",
       "0       not_dead                 0.0  susceptible_to_ischemic_heart_disease   \n",
       "1       not_dead                 0.0  susceptible_to_ischemic_heart_disease   \n",
       "2       not_dead                 0.0  susceptible_to_ischemic_heart_disease   \n",
       "3       not_dead                 0.0                 ischemic_heart_disease   \n",
       "4       not_dead                 0.0  susceptible_to_ischemic_heart_disease   \n",
       "\n",
       "  susceptible_to_ischemic_heart_disease_event_time  \\\n",
       "0                                              NaT   \n",
       "1                                              NaT   \n",
       "2                                              NaT   \n",
       "3                                              NaT   \n",
       "4                                              NaT   \n",
       "\n",
       "   susceptible_to_ischemic_heart_disease_event_count  \\\n",
       "0                                                  0   \n",
       "1                                                  0   \n",
       "2                                                  0   \n",
       "3                                                  0   \n",
       "4                                                  0   \n",
       "\n",
       "  ischemic_heart_disease_event_time  ischemic_heart_disease_event_count  \n",
       "0                               NaT                                   0  \n",
       "1                               NaT                                   0  \n",
       "2                               NaT                                   0  \n",
       "3                        2010-06-04                                   0  \n",
       "4                               NaT                                   0  "
      ]
     },
     "execution_count": 17,
     "metadata": {},
     "output_type": "execute_result"
    }
   ],
   "source": [
    "pop = sim.get_population()\n",
    "pop.head()"
   ]
  },
  {
   "cell_type": "code",
   "execution_count": 18,
   "metadata": {
    "slideshow": {
     "slide_type": "slide"
    }
   },
   "outputs": [
    {
     "data": {
      "image/png": "[encoded data removed]",
      "text/plain": [
       "<Figure size 1080x576 with 1 Axes>"
      ]
     },
     "metadata": {
      "needs_background": "light"
     },
     "output_type": "display_data"
    }
   ],
   "source": [
    "plot_population(pop)"
   ]
  },
  {
   "cell_type": "code",
   "execution_count": 15,
   "metadata": {
    "slideshow": {
     "slide_type": "slide"
    }
   },
   "outputs": [
    {
     "data": {
      "image/png": "[encoded data removed]",
      "text/plain": [
       "<Figure size 1080x576 with 1 Axes>"
      ]
     },
     "metadata": {
      "needs_background": "light"
     },
     "output_type": "display_data"
    }
   ],
   "source": [
    "pop = pop.loc[pop.alive == 'alive']\n",
    "bmi_pipeline = sim.get_value('high_body_mass_index_in_adults.exposure')\n",
    "bmi = bmi_pipeline(pop.index)\n",
    "\n",
    "def hist_bmi(bmi_exposure):    \n",
    "    plt.figure(figsize=(15, 8))\n",
    "\n",
    "    bmi_exposure.hist(bins=50)\n",
    "    plt.xlabel('BMI', fontsize=20)\n",
    "    plt.ylabel('count', fontsize=20)\n",
    "    plt.show()\n",
    "\n",
    "hist_bmi(bmi)\n",
    "\n"
   ]
  },
  {
   "cell_type": "code",
   "execution_count": 19,
   "metadata": {
    "slideshow": {
     "slide_type": "slide"
    }
   },
   "outputs": [
    {
     "data": {
      "image/png": "[encoded data removed]",
      "text/plain": [
       "<Figure size 1080x576 with 1 Axes>"
      ]
     },
     "metadata": {
      "needs_background": "light"
     },
     "output_type": "display_data"
    }
   ],
   "source": [
    "ihd_pipeline = sim.get_value('ischemic_heart_disease.incidence_rate')\n",
    "ihd = ihd_pipeline(pop.index)\n",
    "\n",
    "def plot_ihd_vs_bmi(bmi_exposure, ihd_incidence):    \n",
    "    plt.figure(figsize=(15, 8))\n",
    "    plt.scatter(bmi_exposure, ihd_incidence * 365/28)\n",
    "    plt.xlabel('BMI', fontsize=20)\n",
    "    plt.ylabel('IHD incidence rate', fontsize=20)\n",
    "    plt.xlim(10, 80)\n",
    "    plt.ylim(0, 0.04)\n",
    "\n",
    "    plt.show()\n",
    "    \n",
    "plot_ihd_vs_bmi(bmi, ihd)"
   ]
  },
  {
   "cell_type": "code",
   "execution_count": 24,
   "metadata": {},
   "outputs": [
    {
     "data": {
      "text/plain": [
       "<bound method RateTransition.rates of Transition(from=susceptible_to_ischemic_heart_disease, to=ischemic_heart_disease)>"
      ]
     },
     "execution_count": 24,
     "metadata": {},
     "output_type": "execute_result"
    }
   ],
   "source": [
    "ihd_pipeline.source"
   ]
  },
  {
   "cell_type": "code",
   "execution_count": 26,
   "metadata": {
    "slideshow": {
     "slide_type": "slide"
    }
   },
   "outputs": [
    {
     "data": {
      "application/vnd.jupyter.widget-view+json": {
       "model_id": "0a4d2221064347fcbf8e23c14439bfca",
       "version_major": 2,
       "version_minor": 0
      },
      "text/plain": [
       "VBox(children=(HTML(value=''), IntProgress(value=0, max=66)))"
      ]
     },
     "metadata": {},
     "output_type": "display_data"
    },
    {
     "data": {
      "text/plain": [
       "66"
      ]
     },
     "execution_count": 26,
     "metadata": {},
     "output_type": "execute_result"
    }
   ],
   "source": [
    "sim.run()"
   ]
  },
  {
   "cell_type": "code",
   "execution_count": 27,
   "metadata": {
    "slideshow": {
     "slide_type": "slide"
    }
   },
   "outputs": [
    {
     "data": {
      "image/png": "[encoded data removed]",
      "text/plain": [
       "<Figure size 1080x576 with 1 Axes>"
      ]
     },
     "metadata": {
      "needs_background": "light"
     },
     "output_type": "display_data"
    }
   ],
   "source": [
    "final_pop = sim.get_population()\n",
    "plot_population(final_pop)"
   ]
  },
  {
   "cell_type": "code",
   "execution_count": 28,
   "metadata": {
    "slideshow": {
     "slide_type": "slide"
    }
   },
   "outputs": [],
   "source": [
    "final_pop = final_pop.loc[final_pop.alive == 'alive']\n",
    "final_bmi = bmi_pipeline(final_pop.index)\n",
    "final_ihd = ihd_pipeline(final_pop.index)"
   ]
  },
  {
   "cell_type": "code",
   "execution_count": 29,
   "metadata": {
    "slideshow": {
     "slide_type": "slide"
    }
   },
   "outputs": [
    {
     "data": {
      "image/png": "[encoded data removed]",
      "text/plain": [
       "<Figure size 1080x576 with 1 Axes>"
      ]
     },
     "metadata": {
      "needs_background": "light"
     },
     "output_type": "display_data"
    }
   ],
   "source": [
    "def compare_bmi(bmi_exposure, final_bmi_exposure):\n",
    "    plt.figure(figsize=(15, 8))\n",
    "    a = plt.hist([bmi, final_bmi], bins=30, alpha=0.5)\n",
    "    #b = plt.hist(final_bmi, bins=50, alpha=0.5)    \n",
    "    plt.legend(a, labels=('initial', 'final'))\n",
    "    plt.show()\n",
    "    \n",
    "compare_bmi(bmi, final_bmi)"
   ]
  },
  {
   "cell_type": "code",
   "execution_count": 30,
   "metadata": {
    "slideshow": {
     "slide_type": "slide"
    }
   },
   "outputs": [
    {
     "data": {
      "image/png": "[encoded data removed]",
      "text/plain": [
       "<Figure size 1080x576 with 1 Axes>"
      ]
     },
     "metadata": {
      "needs_background": "light"
     },
     "output_type": "display_data"
    }
   ],
   "source": [
    "def compare_ihd_vs_bmi(bmi_exposure, bmi_final_exposure, ihd_incidence, ihd_final_incidence):    \n",
    "    plt.figure(figsize=(15, 8))\n",
    "    plt.scatter(bmi_exposure, ihd_incidence * 365/28, label='initial')\n",
    "    plt.scatter(bmi_final_exposure, ihd_final_incidence * 365/28, label='final')\n",
    "    plt.legend()\n",
    "    plt.xlabel('BMI', fontsize=20)\n",
    "    plt.ylabel('IHD incidence rate', fontsize=20)\n",
    "    \n",
    "    plt.xlim(10, 80)\n",
    "    plt.ylim(0, 0.04)\n",
    "\n",
    "    plt.show()\n",
    "\n",
    "compare_ihd_vs_bmi(bmi, final_bmi, ihd, final_ihd)"
   ]
  },
  {
   "cell_type": "markdown",
   "metadata": {
    "slideshow": {
     "slide_type": "slide"
    }
   },
   "source": [
    "# What do results actually look like?"
   ]
  },
  {
   "cell_type": "markdown",
   "metadata": {
    "slideshow": {
     "slide_type": "slide"
    }
   },
   "source": [
    "<img src=\"ischemic_stroke.png\">"
   ]
  },
  {
   "cell_type": "markdown",
   "metadata": {
    "slideshow": {
     "slide_type": "slide"
    }
   },
   "source": [
    "<img src=\"individual.png\">"
   ]
  },
  {
   "cell_type": "markdown",
   "metadata": {
    "slideshow": {
     "slide_type": "slide"
    }
   },
   "source": [
    "<img src=\"maternal_intervention.png\">"
   ]
  },
  {
   "cell_type": "markdown",
   "metadata": {
    "slideshow": {
     "slide_type": "slide"
    }
   },
   "source": [
    "<h1 style=\"text-align: center;\">Thanks!</h1>\n",
    "\n",
    "<h2>Vivarium Engineering Team</h2>\n",
    "\n",
    "Kate Wilson\n",
    "\n",
    "Cody Horst\n",
    "\n",
    "<h2>Simulation Science Research Team</h2>\n",
    "\n",
    "Abie Flaxman\n",
    "\n",
    "Christine Allen\n",
    "\n",
    "Derrick Tsoi\n",
    "\n",
    "Kelly Compton\n",
    "\n",
    "Yongquan Xie\n",
    "\n",
    "Yaqi Wang\n",
    "\n",
    "Nathaniel Blair-Stahn\n",
    "\n",
    "Yash Parikh\n",
    "\n",
    "Aditya Kannan\n",
    "\n"
   ]
  },
  {
   "cell_type": "code",
   "execution_count": 26,
   "metadata": {},
   "outputs": [
    {
     "name": "stdout",
     "output_type": "stream",
     "text": [
      "Artifact containing the following keys:\n",
      "metadata\n",
      "\tkeyspace\n",
      "\tversions\n",
      "\tlocations\n",
      "population\n",
      "\tdemographic_dimensions\n",
      "\tstructure\n",
      "\ttheoretical_minimum_risk_life_expectancy\n",
      "\tage_bins\n",
      "cause\n",
      "\tall_causes\n",
      "\t\tcause_specific_mortality\n",
      "\tischemic_heart_disease\n",
      "\t\trestrictions\n",
      "\t\tcause_specific_mortality\n",
      "\t\tprevalence\n",
      "\t\tdisability_weight\n",
      "\t\texcess_mortality\n",
      "\t\tincidence\n",
      "covariate\n",
      "\tlive_births_by_sex\n",
      "\t\testimate\n",
      "risk_factor\n",
      "\thigh_body_mass_index_in_adults\n",
      "\t\texposure\n",
      "\t\tdistribution\n",
      "\t\texposure_standard_deviation\n",
      "\t\texposure_distribution_weights\n",
      "\t\trelative_risk\n",
      "\t\tpopulation_attributable_fraction\n",
      "\t\ttmred\n",
      "\t\trelative_risk_scalar\n",
      "\n"
     ]
    },
    {
     "data": {
      "text/html": [
       "<div>\n",
       "<style scoped>\n",
       "    .dataframe tbody tr th:only-of-type {\n",
       "        vertical-align: middle;\n",
       "    }\n",
       "\n",
       "    .dataframe tbody tr th {\n",
       "        vertical-align: top;\n",
       "    }\n",
       "\n",
       "    .dataframe thead th {\n",
       "        text-align: right;\n",
       "    }\n",
       "</style>\n",
       "<table border=\"1\" class=\"dataframe\">\n",
       "  <thead>\n",
       "    <tr style=\"text-align: right;\">\n",
       "      <th></th>\n",
       "      <th>draw</th>\n",
       "      <th>location</th>\n",
       "      <th>sex</th>\n",
       "      <th>age_group_start</th>\n",
       "      <th>age_group_end</th>\n",
       "      <th>year_start</th>\n",
       "      <th>year_end</th>\n",
       "      <th>value</th>\n",
       "    </tr>\n",
       "  </thead>\n",
       "  <tbody>\n",
       "    <tr>\n",
       "      <th>0</th>\n",
       "      <td>0</td>\n",
       "      <td>Kenya</td>\n",
       "      <td>Female</td>\n",
       "      <td>0.000000</td>\n",
       "      <td>0.019178</td>\n",
       "      <td>1990</td>\n",
       "      <td>1991</td>\n",
       "      <td>0.841145</td>\n",
       "    </tr>\n",
       "    <tr>\n",
       "      <th>1</th>\n",
       "      <td>0</td>\n",
       "      <td>Kenya</td>\n",
       "      <td>Female</td>\n",
       "      <td>0.000000</td>\n",
       "      <td>0.019178</td>\n",
       "      <td>1991</td>\n",
       "      <td>1992</td>\n",
       "      <td>0.843753</td>\n",
       "    </tr>\n",
       "    <tr>\n",
       "      <th>2</th>\n",
       "      <td>0</td>\n",
       "      <td>Kenya</td>\n",
       "      <td>Female</td>\n",
       "      <td>0.000000</td>\n",
       "      <td>0.019178</td>\n",
       "      <td>1992</td>\n",
       "      <td>1993</td>\n",
       "      <td>0.842126</td>\n",
       "    </tr>\n",
       "    <tr>\n",
       "      <th>3</th>\n",
       "      <td>0</td>\n",
       "      <td>Kenya</td>\n",
       "      <td>Female</td>\n",
       "      <td>0.000000</td>\n",
       "      <td>0.019178</td>\n",
       "      <td>1993</td>\n",
       "      <td>1994</td>\n",
       "      <td>0.846064</td>\n",
       "    </tr>\n",
       "    <tr>\n",
       "      <th>4</th>\n",
       "      <td>0</td>\n",
       "      <td>Kenya</td>\n",
       "      <td>Female</td>\n",
       "      <td>0.000000</td>\n",
       "      <td>0.019178</td>\n",
       "      <td>1994</td>\n",
       "      <td>1995</td>\n",
       "      <td>0.871440</td>\n",
       "    </tr>\n",
       "    <tr>\n",
       "      <th>5</th>\n",
       "      <td>0</td>\n",
       "      <td>Kenya</td>\n",
       "      <td>Female</td>\n",
       "      <td>0.000000</td>\n",
       "      <td>0.019178</td>\n",
       "      <td>1995</td>\n",
       "      <td>1996</td>\n",
       "      <td>0.883534</td>\n",
       "    </tr>\n",
       "    <tr>\n",
       "      <th>6</th>\n",
       "      <td>0</td>\n",
       "      <td>Kenya</td>\n",
       "      <td>Female</td>\n",
       "      <td>0.000000</td>\n",
       "      <td>0.019178</td>\n",
       "      <td>1996</td>\n",
       "      <td>1997</td>\n",
       "      <td>0.889527</td>\n",
       "    </tr>\n",
       "    <tr>\n",
       "      <th>7</th>\n",
       "      <td>0</td>\n",
       "      <td>Kenya</td>\n",
       "      <td>Female</td>\n",
       "      <td>0.000000</td>\n",
       "      <td>0.019178</td>\n",
       "      <td>1997</td>\n",
       "      <td>1998</td>\n",
       "      <td>0.897741</td>\n",
       "    </tr>\n",
       "    <tr>\n",
       "      <th>8</th>\n",
       "      <td>0</td>\n",
       "      <td>Kenya</td>\n",
       "      <td>Female</td>\n",
       "      <td>0.000000</td>\n",
       "      <td>0.019178</td>\n",
       "      <td>1998</td>\n",
       "      <td>1999</td>\n",
       "      <td>0.911964</td>\n",
       "    </tr>\n",
       "    <tr>\n",
       "      <th>9</th>\n",
       "      <td>0</td>\n",
       "      <td>Kenya</td>\n",
       "      <td>Female</td>\n",
       "      <td>0.000000</td>\n",
       "      <td>0.019178</td>\n",
       "      <td>1999</td>\n",
       "      <td>2000</td>\n",
       "      <td>0.918270</td>\n",
       "    </tr>\n",
       "    <tr>\n",
       "      <th>10</th>\n",
       "      <td>0</td>\n",
       "      <td>Kenya</td>\n",
       "      <td>Female</td>\n",
       "      <td>0.000000</td>\n",
       "      <td>0.019178</td>\n",
       "      <td>2000</td>\n",
       "      <td>2001</td>\n",
       "      <td>0.923470</td>\n",
       "    </tr>\n",
       "    <tr>\n",
       "      <th>11</th>\n",
       "      <td>0</td>\n",
       "      <td>Kenya</td>\n",
       "      <td>Female</td>\n",
       "      <td>0.000000</td>\n",
       "      <td>0.019178</td>\n",
       "      <td>2001</td>\n",
       "      <td>2002</td>\n",
       "      <td>0.915854</td>\n",
       "    </tr>\n",
       "    <tr>\n",
       "      <th>12</th>\n",
       "      <td>0</td>\n",
       "      <td>Kenya</td>\n",
       "      <td>Female</td>\n",
       "      <td>0.000000</td>\n",
       "      <td>0.019178</td>\n",
       "      <td>2002</td>\n",
       "      <td>2003</td>\n",
       "      <td>0.895673</td>\n",
       "    </tr>\n",
       "    <tr>\n",
       "      <th>13</th>\n",
       "      <td>0</td>\n",
       "      <td>Kenya</td>\n",
       "      <td>Female</td>\n",
       "      <td>0.000000</td>\n",
       "      <td>0.019178</td>\n",
       "      <td>2003</td>\n",
       "      <td>2004</td>\n",
       "      <td>0.888536</td>\n",
       "    </tr>\n",
       "    <tr>\n",
       "      <th>14</th>\n",
       "      <td>0</td>\n",
       "      <td>Kenya</td>\n",
       "      <td>Female</td>\n",
       "      <td>0.000000</td>\n",
       "      <td>0.019178</td>\n",
       "      <td>2004</td>\n",
       "      <td>2005</td>\n",
       "      <td>0.888165</td>\n",
       "    </tr>\n",
       "    <tr>\n",
       "      <th>15</th>\n",
       "      <td>0</td>\n",
       "      <td>Kenya</td>\n",
       "      <td>Female</td>\n",
       "      <td>0.000000</td>\n",
       "      <td>0.019178</td>\n",
       "      <td>2005</td>\n",
       "      <td>2006</td>\n",
       "      <td>0.878849</td>\n",
       "    </tr>\n",
       "    <tr>\n",
       "      <th>16</th>\n",
       "      <td>0</td>\n",
       "      <td>Kenya</td>\n",
       "      <td>Female</td>\n",
       "      <td>0.000000</td>\n",
       "      <td>0.019178</td>\n",
       "      <td>2006</td>\n",
       "      <td>2007</td>\n",
       "      <td>0.862673</td>\n",
       "    </tr>\n",
       "    <tr>\n",
       "      <th>17</th>\n",
       "      <td>0</td>\n",
       "      <td>Kenya</td>\n",
       "      <td>Female</td>\n",
       "      <td>0.000000</td>\n",
       "      <td>0.019178</td>\n",
       "      <td>2007</td>\n",
       "      <td>2008</td>\n",
       "      <td>0.861037</td>\n",
       "    </tr>\n",
       "    <tr>\n",
       "      <th>18</th>\n",
       "      <td>0</td>\n",
       "      <td>Kenya</td>\n",
       "      <td>Female</td>\n",
       "      <td>0.000000</td>\n",
       "      <td>0.019178</td>\n",
       "      <td>2008</td>\n",
       "      <td>2009</td>\n",
       "      <td>0.837135</td>\n",
       "    </tr>\n",
       "    <tr>\n",
       "      <th>19</th>\n",
       "      <td>0</td>\n",
       "      <td>Kenya</td>\n",
       "      <td>Female</td>\n",
       "      <td>0.000000</td>\n",
       "      <td>0.019178</td>\n",
       "      <td>2009</td>\n",
       "      <td>2010</td>\n",
       "      <td>0.829150</td>\n",
       "    </tr>\n",
       "    <tr>\n",
       "      <th>20</th>\n",
       "      <td>0</td>\n",
       "      <td>Kenya</td>\n",
       "      <td>Female</td>\n",
       "      <td>0.000000</td>\n",
       "      <td>0.019178</td>\n",
       "      <td>2010</td>\n",
       "      <td>2011</td>\n",
       "      <td>0.814808</td>\n",
       "    </tr>\n",
       "    <tr>\n",
       "      <th>21</th>\n",
       "      <td>0</td>\n",
       "      <td>Kenya</td>\n",
       "      <td>Female</td>\n",
       "      <td>0.000000</td>\n",
       "      <td>0.019178</td>\n",
       "      <td>2011</td>\n",
       "      <td>2012</td>\n",
       "      <td>0.787915</td>\n",
       "    </tr>\n",
       "    <tr>\n",
       "      <th>22</th>\n",
       "      <td>0</td>\n",
       "      <td>Kenya</td>\n",
       "      <td>Female</td>\n",
       "      <td>0.000000</td>\n",
       "      <td>0.019178</td>\n",
       "      <td>2012</td>\n",
       "      <td>2013</td>\n",
       "      <td>0.758660</td>\n",
       "    </tr>\n",
       "    <tr>\n",
       "      <th>23</th>\n",
       "      <td>0</td>\n",
       "      <td>Kenya</td>\n",
       "      <td>Female</td>\n",
       "      <td>0.000000</td>\n",
       "      <td>0.019178</td>\n",
       "      <td>2013</td>\n",
       "      <td>2014</td>\n",
       "      <td>0.727829</td>\n",
       "    </tr>\n",
       "    <tr>\n",
       "      <th>24</th>\n",
       "      <td>0</td>\n",
       "      <td>Kenya</td>\n",
       "      <td>Female</td>\n",
       "      <td>0.000000</td>\n",
       "      <td>0.019178</td>\n",
       "      <td>2014</td>\n",
       "      <td>2015</td>\n",
       "      <td>0.705676</td>\n",
       "    </tr>\n",
       "    <tr>\n",
       "      <th>25</th>\n",
       "      <td>0</td>\n",
       "      <td>Kenya</td>\n",
       "      <td>Female</td>\n",
       "      <td>0.000000</td>\n",
       "      <td>0.019178</td>\n",
       "      <td>2015</td>\n",
       "      <td>2016</td>\n",
       "      <td>0.698228</td>\n",
       "    </tr>\n",
       "    <tr>\n",
       "      <th>26</th>\n",
       "      <td>0</td>\n",
       "      <td>Kenya</td>\n",
       "      <td>Female</td>\n",
       "      <td>0.000000</td>\n",
       "      <td>0.019178</td>\n",
       "      <td>2016</td>\n",
       "      <td>2017</td>\n",
       "      <td>0.689553</td>\n",
       "    </tr>\n",
       "    <tr>\n",
       "      <th>27</th>\n",
       "      <td>0</td>\n",
       "      <td>Kenya</td>\n",
       "      <td>Female</td>\n",
       "      <td>0.000000</td>\n",
       "      <td>0.019178</td>\n",
       "      <td>2017</td>\n",
       "      <td>2018</td>\n",
       "      <td>0.670693</td>\n",
       "    </tr>\n",
       "    <tr>\n",
       "      <th>28</th>\n",
       "      <td>0</td>\n",
       "      <td>Kenya</td>\n",
       "      <td>Female</td>\n",
       "      <td>0.019178</td>\n",
       "      <td>0.076712</td>\n",
       "      <td>1990</td>\n",
       "      <td>1991</td>\n",
       "      <td>0.093308</td>\n",
       "    </tr>\n",
       "    <tr>\n",
       "      <th>29</th>\n",
       "      <td>0</td>\n",
       "      <td>Kenya</td>\n",
       "      <td>Female</td>\n",
       "      <td>0.019178</td>\n",
       "      <td>0.076712</td>\n",
       "      <td>1991</td>\n",
       "      <td>1992</td>\n",
       "      <td>0.094265</td>\n",
       "    </tr>\n",
       "    <tr>\n",
       "      <th>...</th>\n",
       "      <td>...</td>\n",
       "      <td>...</td>\n",
       "      <td>...</td>\n",
       "      <td>...</td>\n",
       "      <td>...</td>\n",
       "      <td>...</td>\n",
       "      <td>...</td>\n",
       "      <td>...</td>\n",
       "    </tr>\n",
       "    <tr>\n",
       "      <th>1287970</th>\n",
       "      <td>999</td>\n",
       "      <td>Kenya</td>\n",
       "      <td>Male</td>\n",
       "      <td>90.000000</td>\n",
       "      <td>95.000000</td>\n",
       "      <td>2016</td>\n",
       "      <td>2017</td>\n",
       "      <td>0.277969</td>\n",
       "    </tr>\n",
       "    <tr>\n",
       "      <th>1287971</th>\n",
       "      <td>999</td>\n",
       "      <td>Kenya</td>\n",
       "      <td>Male</td>\n",
       "      <td>90.000000</td>\n",
       "      <td>95.000000</td>\n",
       "      <td>2017</td>\n",
       "      <td>2018</td>\n",
       "      <td>0.280232</td>\n",
       "    </tr>\n",
       "    <tr>\n",
       "      <th>1287972</th>\n",
       "      <td>999</td>\n",
       "      <td>Kenya</td>\n",
       "      <td>Male</td>\n",
       "      <td>95.000000</td>\n",
       "      <td>125.000000</td>\n",
       "      <td>1990</td>\n",
       "      <td>1991</td>\n",
       "      <td>0.389981</td>\n",
       "    </tr>\n",
       "    <tr>\n",
       "      <th>1287973</th>\n",
       "      <td>999</td>\n",
       "      <td>Kenya</td>\n",
       "      <td>Male</td>\n",
       "      <td>95.000000</td>\n",
       "      <td>125.000000</td>\n",
       "      <td>1991</td>\n",
       "      <td>1992</td>\n",
       "      <td>0.386683</td>\n",
       "    </tr>\n",
       "    <tr>\n",
       "      <th>1287974</th>\n",
       "      <td>999</td>\n",
       "      <td>Kenya</td>\n",
       "      <td>Male</td>\n",
       "      <td>95.000000</td>\n",
       "      <td>125.000000</td>\n",
       "      <td>1992</td>\n",
       "      <td>1993</td>\n",
       "      <td>0.383547</td>\n",
       "    </tr>\n",
       "    <tr>\n",
       "      <th>1287975</th>\n",
       "      <td>999</td>\n",
       "      <td>Kenya</td>\n",
       "      <td>Male</td>\n",
       "      <td>95.000000</td>\n",
       "      <td>125.000000</td>\n",
       "      <td>1993</td>\n",
       "      <td>1994</td>\n",
       "      <td>0.379804</td>\n",
       "    </tr>\n",
       "    <tr>\n",
       "      <th>1287976</th>\n",
       "      <td>999</td>\n",
       "      <td>Kenya</td>\n",
       "      <td>Male</td>\n",
       "      <td>95.000000</td>\n",
       "      <td>125.000000</td>\n",
       "      <td>1994</td>\n",
       "      <td>1995</td>\n",
       "      <td>0.378156</td>\n",
       "    </tr>\n",
       "    <tr>\n",
       "      <th>1287977</th>\n",
       "      <td>999</td>\n",
       "      <td>Kenya</td>\n",
       "      <td>Male</td>\n",
       "      <td>95.000000</td>\n",
       "      <td>125.000000</td>\n",
       "      <td>1995</td>\n",
       "      <td>1996</td>\n",
       "      <td>0.378245</td>\n",
       "    </tr>\n",
       "    <tr>\n",
       "      <th>1287978</th>\n",
       "      <td>999</td>\n",
       "      <td>Kenya</td>\n",
       "      <td>Male</td>\n",
       "      <td>95.000000</td>\n",
       "      <td>125.000000</td>\n",
       "      <td>1996</td>\n",
       "      <td>1997</td>\n",
       "      <td>0.377345</td>\n",
       "    </tr>\n",
       "    <tr>\n",
       "      <th>1287979</th>\n",
       "      <td>999</td>\n",
       "      <td>Kenya</td>\n",
       "      <td>Male</td>\n",
       "      <td>95.000000</td>\n",
       "      <td>125.000000</td>\n",
       "      <td>1997</td>\n",
       "      <td>1998</td>\n",
       "      <td>0.375892</td>\n",
       "    </tr>\n",
       "    <tr>\n",
       "      <th>1287980</th>\n",
       "      <td>999</td>\n",
       "      <td>Kenya</td>\n",
       "      <td>Male</td>\n",
       "      <td>95.000000</td>\n",
       "      <td>125.000000</td>\n",
       "      <td>1998</td>\n",
       "      <td>1999</td>\n",
       "      <td>0.375778</td>\n",
       "    </tr>\n",
       "    <tr>\n",
       "      <th>1287981</th>\n",
       "      <td>999</td>\n",
       "      <td>Kenya</td>\n",
       "      <td>Male</td>\n",
       "      <td>95.000000</td>\n",
       "      <td>125.000000</td>\n",
       "      <td>1999</td>\n",
       "      <td>2000</td>\n",
       "      <td>0.372678</td>\n",
       "    </tr>\n",
       "    <tr>\n",
       "      <th>1287982</th>\n",
       "      <td>999</td>\n",
       "      <td>Kenya</td>\n",
       "      <td>Male</td>\n",
       "      <td>95.000000</td>\n",
       "      <td>125.000000</td>\n",
       "      <td>2000</td>\n",
       "      <td>2001</td>\n",
       "      <td>0.369845</td>\n",
       "    </tr>\n",
       "    <tr>\n",
       "      <th>1287983</th>\n",
       "      <td>999</td>\n",
       "      <td>Kenya</td>\n",
       "      <td>Male</td>\n",
       "      <td>95.000000</td>\n",
       "      <td>125.000000</td>\n",
       "      <td>2001</td>\n",
       "      <td>2002</td>\n",
       "      <td>0.364411</td>\n",
       "    </tr>\n",
       "    <tr>\n",
       "      <th>1287984</th>\n",
       "      <td>999</td>\n",
       "      <td>Kenya</td>\n",
       "      <td>Male</td>\n",
       "      <td>95.000000</td>\n",
       "      <td>125.000000</td>\n",
       "      <td>2002</td>\n",
       "      <td>2003</td>\n",
       "      <td>0.360326</td>\n",
       "    </tr>\n",
       "    <tr>\n",
       "      <th>1287985</th>\n",
       "      <td>999</td>\n",
       "      <td>Kenya</td>\n",
       "      <td>Male</td>\n",
       "      <td>95.000000</td>\n",
       "      <td>125.000000</td>\n",
       "      <td>2003</td>\n",
       "      <td>2004</td>\n",
       "      <td>0.355834</td>\n",
       "    </tr>\n",
       "    <tr>\n",
       "      <th>1287986</th>\n",
       "      <td>999</td>\n",
       "      <td>Kenya</td>\n",
       "      <td>Male</td>\n",
       "      <td>95.000000</td>\n",
       "      <td>125.000000</td>\n",
       "      <td>2004</td>\n",
       "      <td>2005</td>\n",
       "      <td>0.352704</td>\n",
       "    </tr>\n",
       "    <tr>\n",
       "      <th>1287987</th>\n",
       "      <td>999</td>\n",
       "      <td>Kenya</td>\n",
       "      <td>Male</td>\n",
       "      <td>95.000000</td>\n",
       "      <td>125.000000</td>\n",
       "      <td>2005</td>\n",
       "      <td>2006</td>\n",
       "      <td>0.347529</td>\n",
       "    </tr>\n",
       "    <tr>\n",
       "      <th>1287988</th>\n",
       "      <td>999</td>\n",
       "      <td>Kenya</td>\n",
       "      <td>Male</td>\n",
       "      <td>95.000000</td>\n",
       "      <td>125.000000</td>\n",
       "      <td>2006</td>\n",
       "      <td>2007</td>\n",
       "      <td>0.346619</td>\n",
       "    </tr>\n",
       "    <tr>\n",
       "      <th>1287989</th>\n",
       "      <td>999</td>\n",
       "      <td>Kenya</td>\n",
       "      <td>Male</td>\n",
       "      <td>95.000000</td>\n",
       "      <td>125.000000</td>\n",
       "      <td>2007</td>\n",
       "      <td>2008</td>\n",
       "      <td>0.346426</td>\n",
       "    </tr>\n",
       "    <tr>\n",
       "      <th>1287990</th>\n",
       "      <td>999</td>\n",
       "      <td>Kenya</td>\n",
       "      <td>Male</td>\n",
       "      <td>95.000000</td>\n",
       "      <td>125.000000</td>\n",
       "      <td>2008</td>\n",
       "      <td>2009</td>\n",
       "      <td>0.350044</td>\n",
       "    </tr>\n",
       "    <tr>\n",
       "      <th>1287991</th>\n",
       "      <td>999</td>\n",
       "      <td>Kenya</td>\n",
       "      <td>Male</td>\n",
       "      <td>95.000000</td>\n",
       "      <td>125.000000</td>\n",
       "      <td>2009</td>\n",
       "      <td>2010</td>\n",
       "      <td>0.351745</td>\n",
       "    </tr>\n",
       "    <tr>\n",
       "      <th>1287992</th>\n",
       "      <td>999</td>\n",
       "      <td>Kenya</td>\n",
       "      <td>Male</td>\n",
       "      <td>95.000000</td>\n",
       "      <td>125.000000</td>\n",
       "      <td>2010</td>\n",
       "      <td>2011</td>\n",
       "      <td>0.353584</td>\n",
       "    </tr>\n",
       "    <tr>\n",
       "      <th>1287993</th>\n",
       "      <td>999</td>\n",
       "      <td>Kenya</td>\n",
       "      <td>Male</td>\n",
       "      <td>95.000000</td>\n",
       "      <td>125.000000</td>\n",
       "      <td>2011</td>\n",
       "      <td>2012</td>\n",
       "      <td>0.355351</td>\n",
       "    </tr>\n",
       "    <tr>\n",
       "      <th>1287994</th>\n",
       "      <td>999</td>\n",
       "      <td>Kenya</td>\n",
       "      <td>Male</td>\n",
       "      <td>95.000000</td>\n",
       "      <td>125.000000</td>\n",
       "      <td>2012</td>\n",
       "      <td>2013</td>\n",
       "      <td>0.356479</td>\n",
       "    </tr>\n",
       "    <tr>\n",
       "      <th>1287995</th>\n",
       "      <td>999</td>\n",
       "      <td>Kenya</td>\n",
       "      <td>Male</td>\n",
       "      <td>95.000000</td>\n",
       "      <td>125.000000</td>\n",
       "      <td>2013</td>\n",
       "      <td>2014</td>\n",
       "      <td>0.355668</td>\n",
       "    </tr>\n",
       "    <tr>\n",
       "      <th>1287996</th>\n",
       "      <td>999</td>\n",
       "      <td>Kenya</td>\n",
       "      <td>Male</td>\n",
       "      <td>95.000000</td>\n",
       "      <td>125.000000</td>\n",
       "      <td>2014</td>\n",
       "      <td>2015</td>\n",
       "      <td>0.357525</td>\n",
       "    </tr>\n",
       "    <tr>\n",
       "      <th>1287997</th>\n",
       "      <td>999</td>\n",
       "      <td>Kenya</td>\n",
       "      <td>Male</td>\n",
       "      <td>95.000000</td>\n",
       "      <td>125.000000</td>\n",
       "      <td>2015</td>\n",
       "      <td>2016</td>\n",
       "      <td>0.360401</td>\n",
       "    </tr>\n",
       "    <tr>\n",
       "      <th>1287998</th>\n",
       "      <td>999</td>\n",
       "      <td>Kenya</td>\n",
       "      <td>Male</td>\n",
       "      <td>95.000000</td>\n",
       "      <td>125.000000</td>\n",
       "      <td>2016</td>\n",
       "      <td>2017</td>\n",
       "      <td>0.363732</td>\n",
       "    </tr>\n",
       "    <tr>\n",
       "      <th>1287999</th>\n",
       "      <td>999</td>\n",
       "      <td>Kenya</td>\n",
       "      <td>Male</td>\n",
       "      <td>95.000000</td>\n",
       "      <td>125.000000</td>\n",
       "      <td>2017</td>\n",
       "      <td>2018</td>\n",
       "      <td>0.367923</td>\n",
       "    </tr>\n",
       "  </tbody>\n",
       "</table>\n",
       "<p>1288000 rows × 8 columns</p>\n",
       "</div>"
      ],
      "text/plain": [
       "         draw location     sex  age_group_start  age_group_end  year_start  \\\n",
       "0           0    Kenya  Female         0.000000       0.019178        1990   \n",
       "1           0    Kenya  Female         0.000000       0.019178        1991   \n",
       "2           0    Kenya  Female         0.000000       0.019178        1992   \n",
       "3           0    Kenya  Female         0.000000       0.019178        1993   \n",
       "4           0    Kenya  Female         0.000000       0.019178        1994   \n",
       "5           0    Kenya  Female         0.000000       0.019178        1995   \n",
       "6           0    Kenya  Female         0.000000       0.019178        1996   \n",
       "7           0    Kenya  Female         0.000000       0.019178        1997   \n",
       "8           0    Kenya  Female         0.000000       0.019178        1998   \n",
       "9           0    Kenya  Female         0.000000       0.019178        1999   \n",
       "10          0    Kenya  Female         0.000000       0.019178        2000   \n",
       "11          0    Kenya  Female         0.000000       0.019178        2001   \n",
       "12          0    Kenya  Female         0.000000       0.019178        2002   \n",
       "13          0    Kenya  Female         0.000000       0.019178        2003   \n",
       "14          0    Kenya  Female         0.000000       0.019178        2004   \n",
       "15          0    Kenya  Female         0.000000       0.019178        2005   \n",
       "16          0    Kenya  Female         0.000000       0.019178        2006   \n",
       "17          0    Kenya  Female         0.000000       0.019178        2007   \n",
       "18          0    Kenya  Female         0.000000       0.019178        2008   \n",
       "19          0    Kenya  Female         0.000000       0.019178        2009   \n",
       "20          0    Kenya  Female         0.000000       0.019178        2010   \n",
       "21          0    Kenya  Female         0.000000       0.019178        2011   \n",
       "22          0    Kenya  Female         0.000000       0.019178        2012   \n",
       "23          0    Kenya  Female         0.000000       0.019178        2013   \n",
       "24          0    Kenya  Female         0.000000       0.019178        2014   \n",
       "25          0    Kenya  Female         0.000000       0.019178        2015   \n",
       "26          0    Kenya  Female         0.000000       0.019178        2016   \n",
       "27          0    Kenya  Female         0.000000       0.019178        2017   \n",
       "28          0    Kenya  Female         0.019178       0.076712        1990   \n",
       "29          0    Kenya  Female         0.019178       0.076712        1991   \n",
       "...       ...      ...     ...              ...            ...         ...   \n",
       "1287970   999    Kenya    Male        90.000000      95.000000        2016   \n",
       "1287971   999    Kenya    Male        90.000000      95.000000        2017   \n",
       "1287972   999    Kenya    Male        95.000000     125.000000        1990   \n",
       "1287973   999    Kenya    Male        95.000000     125.000000        1991   \n",
       "1287974   999    Kenya    Male        95.000000     125.000000        1992   \n",
       "1287975   999    Kenya    Male        95.000000     125.000000        1993   \n",
       "1287976   999    Kenya    Male        95.000000     125.000000        1994   \n",
       "1287977   999    Kenya    Male        95.000000     125.000000        1995   \n",
       "1287978   999    Kenya    Male        95.000000     125.000000        1996   \n",
       "1287979   999    Kenya    Male        95.000000     125.000000        1997   \n",
       "1287980   999    Kenya    Male        95.000000     125.000000        1998   \n",
       "1287981   999    Kenya    Male        95.000000     125.000000        1999   \n",
       "1287982   999    Kenya    Male        95.000000     125.000000        2000   \n",
       "1287983   999    Kenya    Male        95.000000     125.000000        2001   \n",
       "1287984   999    Kenya    Male        95.000000     125.000000        2002   \n",
       "1287985   999    Kenya    Male        95.000000     125.000000        2003   \n",
       "1287986   999    Kenya    Male        95.000000     125.000000        2004   \n",
       "1287987   999    Kenya    Male        95.000000     125.000000        2005   \n",
       "1287988   999    Kenya    Male        95.000000     125.000000        2006   \n",
       "1287989   999    Kenya    Male        95.000000     125.000000        2007   \n",
       "1287990   999    Kenya    Male        95.000000     125.000000        2008   \n",
       "1287991   999    Kenya    Male        95.000000     125.000000        2009   \n",
       "1287992   999    Kenya    Male        95.000000     125.000000        2010   \n",
       "1287993   999    Kenya    Male        95.000000     125.000000        2011   \n",
       "1287994   999    Kenya    Male        95.000000     125.000000        2012   \n",
       "1287995   999    Kenya    Male        95.000000     125.000000        2013   \n",
       "1287996   999    Kenya    Male        95.000000     125.000000        2014   \n",
       "1287997   999    Kenya    Male        95.000000     125.000000        2015   \n",
       "1287998   999    Kenya    Male        95.000000     125.000000        2016   \n",
       "1287999   999    Kenya    Male        95.000000     125.000000        2017   \n",
       "\n",
       "         year_end     value  \n",
       "0            1991  0.841145  \n",
       "1            1992  0.843753  \n",
       "2            1993  0.842126  \n",
       "3            1994  0.846064  \n",
       "4            1995  0.871440  \n",
       "5            1996  0.883534  \n",
       "6            1997  0.889527  \n",
       "7            1998  0.897741  \n",
       "8            1999  0.911964  \n",
       "9            2000  0.918270  \n",
       "10           2001  0.923470  \n",
       "11           2002  0.915854  \n",
       "12           2003  0.895673  \n",
       "13           2004  0.888536  \n",
       "14           2005  0.888165  \n",
       "15           2006  0.878849  \n",
       "16           2007  0.862673  \n",
       "17           2008  0.861037  \n",
       "18           2009  0.837135  \n",
       "19           2010  0.829150  \n",
       "20           2011  0.814808  \n",
       "21           2012  0.787915  \n",
       "22           2013  0.758660  \n",
       "23           2014  0.727829  \n",
       "24           2015  0.705676  \n",
       "25           2016  0.698228  \n",
       "26           2017  0.689553  \n",
       "27           2018  0.670693  \n",
       "28           1991  0.093308  \n",
       "29           1992  0.094265  \n",
       "...           ...       ...  \n",
       "1287970      2017  0.277969  \n",
       "1287971      2018  0.280232  \n",
       "1287972      1991  0.389981  \n",
       "1287973      1992  0.386683  \n",
       "1287974      1993  0.383547  \n",
       "1287975      1994  0.379804  \n",
       "1287976      1995  0.378156  \n",
       "1287977      1996  0.378245  \n",
       "1287978      1997  0.377345  \n",
       "1287979      1998  0.375892  \n",
       "1287980      1999  0.375778  \n",
       "1287981      2000  0.372678  \n",
       "1287982      2001  0.369845  \n",
       "1287983      2002  0.364411  \n",
       "1287984      2003  0.360326  \n",
       "1287985      2004  0.355834  \n",
       "1287986      2005  0.352704  \n",
       "1287987      2006  0.347529  \n",
       "1287988      2007  0.346619  \n",
       "1287989      2008  0.346426  \n",
       "1287990      2009  0.350044  \n",
       "1287991      2010  0.351745  \n",
       "1287992      2011  0.353584  \n",
       "1287993      2012  0.355351  \n",
       "1287994      2013  0.356479  \n",
       "1287995      2014  0.355668  \n",
       "1287996      2015  0.357525  \n",
       "1287997      2016  0.360401  \n",
       "1287998      2017  0.363732  \n",
       "1287999      2018  0.367923  \n",
       "\n",
       "[1288000 rows x 8 columns]"
      ]
     },
     "execution_count": 26,
     "metadata": {},
     "output_type": "execute_result"
    }
   ],
   "source": [
    "print(a)\n",
    "a.load('cause.all_causes.cause_specific_mortality')"
   ]
  },
  {
   "cell_type": "code",
   "execution_count": null,
   "metadata": {},
   "outputs": [],
   "source": [
    "a.write(key, data)"
   ]
  }
 ],
 "metadata": {
  "celltoolbar": "Slideshow",
  "kernelspec": {
   "display_name": "Python 3",
   "language": "python",
   "name": "python3"
  },
  "language_info": {
   "codemirror_mode": {
    "name": "ipython",
    "version": 3
   },
   "file_extension": ".py",
   "mimetype": "text/x-python",
   "name": "python",
   "nbconvert_exporter": "python",
   "pygments_lexer": "ipython3",
   "version": "3.6.8"
  },
  "rise": {
   "scroll": true
  }
 },
 "nbformat": 4,
 "nbformat_minor": 4
}
