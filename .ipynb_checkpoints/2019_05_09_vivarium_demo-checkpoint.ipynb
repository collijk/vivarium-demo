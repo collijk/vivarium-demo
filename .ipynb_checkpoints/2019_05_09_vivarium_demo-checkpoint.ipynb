{
 "cells": [
  {
   "cell_type": "markdown",
   "metadata": {
    "slideshow": {
     "slide_type": "slide"
    }
   },
   "source": [
    "<h1 style=\"text-align: center;\">Modelling Disease Dynamics with <span style=\"font-family:Courier; color: blue\">vivarium</span></h1>\n",
    "\n",
    "<p style=\"text-align: center;\">James Collins</p>\n",
    "<p style=\"text-align: center;\">May 9, 2019</p>"
   ]
  },
  {
   "cell_type": "markdown",
   "metadata": {
    "slideshow": {
     "slide_type": "notes"
    }
   },
   "source": [
    "Thanks Christine for ...\n",
    "\n",
    "Hi everyone. \n",
    "\n",
    "I'm ... \n",
    "\n",
    "I'm the lead engineer on ...\n",
    "\n",
    "Today we'll be talking about ...\n",
    "\n",
    "This is an open demo, feel free to ask questions"
   ]
  },
  {
   "cell_type": "markdown",
   "metadata": {
    "slideshow": {
     "slide_type": "slide"
    }
   },
   "source": [
    "# Agenda"
   ]
  },
  {
   "cell_type": "markdown",
   "metadata": {
    "slideshow": {
     "slide_type": "notes"
    }
   },
   "source": [
    "Let's lay out the agenda\n",
    "\n",
    "**Slide**\n",
    "\n",
    "We'll start with a quick overview of what the vivarium framework is\n",
    "\n",
    "Won't go into any detail. In the next few months I'll give some longer talks on the framework architecture and the underlying methodology. Today, we want to get to a quick demo of some of the things we've been doing.\n",
    "\n",
    "**Slide**\n",
    "\n",
    "We sit on top of an incredibly rich data source for public health modeling and we've done a ton of work to integrate it into our simulations. I'll give a brief overview of some of the public health modeling tools we've built using vivarium.\n",
    "\n",
    "**Slide**\n",
    "\n",
    "Finally, we'll build up an individual-based disease model.  We'll start with a simple birth-death model.  Then throw in a disease and a risk and see how that changes things.  Then I'll show you some example outputs from full scale models."
   ]
  },
  {
   "cell_type": "markdown",
   "metadata": {
    "slideshow": {
     "slide_type": "fragment"
    }
   },
   "source": [
    "1. What is <span style=\"font-family:Courier; color: blue\">vivarium</span>?"
   ]
  },
  {
   "cell_type": "markdown",
   "metadata": {
    "slideshow": {
     "slide_type": "fragment"
    }
   },
   "source": [
    "2. How do you use <span style=\"font-family:Courier; color: blue\">vivarium</span> to model public health dynamics?"
   ]
  },
  {
   "cell_type": "markdown",
   "metadata": {
    "slideshow": {
     "slide_type": "fragment"
    }
   },
   "source": [
    "3. A \"relatively\" simple disease model example."
   ]
  },
  {
   "cell_type": "markdown",
   "metadata": {
    "slideshow": {
     "slide_type": "slide"
    }
   },
   "source": [
    "<h1>What is <span style=\"font-family:Courier; color: blue\">vivarium</span>?</h1>"
   ]
  },
  {
   "cell_type": "markdown",
   "metadata": {
    "slideshow": {
     "slide_type": "fragment"
    }
   },
   "source": [
    "<h2><span style=\"font-family:Courier; color: blue\">vivarium</span> is a discrete-time Monte Carlo simulation framework<h2>"
   ]
  },
  {
   "cell_type": "markdown",
   "metadata": {
    "slideshow": {
     "slide_type": "notes"
    }
   },
   "source": [
    "First, what is vivarium?\n",
    "\n",
    "**Slide**\n",
    "\n",
    "That's a lot of things.  Let's look at it in pieces."
   ]
  },
  {
   "cell_type": "markdown",
   "metadata": {
    "slideshow": {
     "slide_type": "slide"
    }
   },
   "source": [
    "<h2><span style=\"font-family:Courier; color: blue\">vivarium</span> is a <span style=\"color: red\">discrete-time</span> Monte Carlo simulation framework<h2>"
   ]
  },
  {
   "cell_type": "markdown",
   "metadata": {
    "slideshow": {
     "slide_type": "notes"
    }
   },
   "source": [
    "First it's a discrete time framework.  This means time in the simulation proceeds in discrete chunks (e.g. a second, a day, a month).  \n",
    "\n",
    "**Slide**\n",
    "\n",
    "Think of X as a snapshot of the world and our model as some (possibly time-dependent) function.  To progress to the next snapshot we take a step forward in time by evaluating our function on the current state of the world.\n",
    "\n",
    "**Slide**\n",
    "\n",
    "This is the fundamental nature of many kinds of simulation models. What's important is that we decide what delta t is before we evaluate our model and move to the next step. We'll ask questions like does a person get sick in the next month?  Do they die in the next month?  etc."
   ]
  },
  {
   "cell_type": "markdown",
   "metadata": {
    "slideshow": {
     "slide_type": "fragment"
    }
   },
   "source": [
    "$$\n",
    "X_{t+\\Delta t} = f(X_t, t, \\Delta t)\n",
    "$$"
   ]
  },
  {
   "cell_type": "markdown",
   "metadata": {
    "slideshow": {
     "slide_type": "fragment"
    }
   },
   "source": [
    "<img src=\"model_loop.png\" style=\"display: block; margin-left: auto; margin-right: auto; width: 40%\">"
   ]
  },
  {
   "cell_type": "markdown",
   "metadata": {
    "slideshow": {
     "slide_type": "slide"
    }
   },
   "source": [
    "<h2><span style=\"font-family:Courier; color: blue\">vivarium</span> is a discrete-time <span style=\"color: red\">Monte Carlo simulation</span> framework<h2>"
   ]
  },
  {
   "cell_type": "markdown",
   "metadata": {
    "slideshow": {
     "slide_type": "notes"
    }
   },
   "source": [
    "How many of you are familiar with Monte Carlo methods?  Someone want to take a stab at defining them?\n",
    "\n",
    "Using random numbers to inform stuff we don't know for sure about.\n",
    "\n",
    "**Slide**\n",
    "\n",
    "I had a professor in a science class tell me that any measurement without an estimation of uncertainty is totally useless.  We spend a ton of time trying to inform policy makers to help them make good decisions about what to do.  That gives us a tremendous amout of power, so accurately representing how certain or uncertain we are is an ethical responsibility.\n",
    "\n",
    "**Slide**\n",
    "\n",
    "In the context of our simulations, we use Monte Carlo methods to capture all the exogenous randomness in the model.  E.g. I may know your age/sex/bmi/smoking history, but I don't necessarily know how frequently you eat hamburgers or whether you go to political protests or whether there's mold in your workplace or eight million other things.  We capture all that exogenous heterogeneity with random numbers.\n",
    "\n",
    "\n",
    "Note: We also deal with parameter uncertainty, and I'll talk about that a bit at the end if there's time."
   ]
  },
  {
   "cell_type": "markdown",
   "metadata": {
    "slideshow": {
     "slide_type": "fragment"
    }
   },
   "source": [
    "- We care about uncertainty"
   ]
  },
  {
   "cell_type": "markdown",
   "metadata": {
    "slideshow": {
     "slide_type": "fragment"
    }
   },
   "source": [
    "- We care about <span style=\"color: green\">stochastic</span> uncertainty."
   ]
  },
  {
   "cell_type": "markdown",
   "metadata": {
    "slideshow": {
     "slide_type": "slide"
    }
   },
   "source": [
    "<h2><span style=\"font-family:Courier; color: blue\">vivarium</span> is a discrete-time Monte Carlo simulation <span style=\"color: red\">framework</span><h2>"
   ]
  },
  {
   "cell_type": "markdown",
   "metadata": {
    "slideshow": {
     "slide_type": "notes"
    }
   },
   "source": [
    "Frameworks are funny things in software.\n",
    "\n",
    "**Slide**\n",
    "\n",
    "Web and Gui frameworks allow users to build applications for end users.\n",
    "\n",
    "**Slide**\n",
    "\n",
    "It provides a bunch of features that are generally useful in simulation modeling like state management, data interpolation, a clock, etc, as well as an environment in which to run those simulations.  \n",
    "\n",
    "If that seems abstract, it's because it is.  Let's get concrete."
   ]
  },
  {
   "cell_type": "markdown",
   "metadata": {
    "slideshow": {
     "slide_type": "fragment"
    }
   },
   "source": [
    "- Frameworks are tools for building tools"
   ]
  },
  {
   "cell_type": "markdown",
   "metadata": {
    "slideshow": {
     "slide_type": "fragment"
    }
   },
   "source": [
    "- <span style=\"font-family:Courier; color: blue\">vivarium</span> is a tool for building tools for building simulation models."
   ]
  },
  {
   "cell_type": "markdown",
   "metadata": {
    "slideshow": {
     "slide_type": "slide"
    }
   },
   "source": [
    "<h1>How do you use <span style=\"font-family:Courier; color: blue\">vivarium</span> to model public health dynamics?</h1>"
   ]
  },
  {
   "cell_type": "markdown",
   "metadata": {
    "slideshow": {
     "slide_type": "notes"
    }
   },
   "source": [
    "Well according to what we just learned, we use vivarium to build public health modeling tools."
   ]
  },
  {
   "cell_type": "markdown",
   "metadata": {
    "slideshow": {
     "slide_type": "slide"
    }
   },
   "source": [
    "<h2>Use <span style=\"font-family:Courier; color: blue\">vivarium_public_health</span>!</h2>"
   ]
  },
  {
   "cell_type": "markdown",
   "metadata": {
    "slideshow": {
     "slide_type": "notes"
    }
   },
   "source": [
    "vph is a suite of public health specific modeling components built to think about public health phenomena in the same way that GBD does. It includes:"
   ]
  },
  {
   "cell_type": "markdown",
   "metadata": {
    "slideshow": {
     "slide_type": "fragment"
    }
   },
   "source": [
    "- Components that capture demographic aspects of a modeled population (the starting population characteristics, birth, death, disability)."
   ]
  },
  {
   "cell_type": "markdown",
   "metadata": {
    "slideshow": {
     "slide_type": "fragment"
    }
   },
   "source": [
    "- Components that capture how diseases affect the population and how those diseases affect mortality and disability."
   ]
  },
  {
   "cell_type": "markdown",
   "metadata": {
    "slideshow": {
     "slide_type": "fragment"
    }
   },
   "source": [
    "- Components that model risk exposure and how that risk exposure contributes to disease incidence and mortality."
   ]
  },
  {
   "cell_type": "markdown",
   "metadata": {
    "slideshow": {
     "slide_type": "fragment"
    }
   },
   "source": [
    "- Components that measure and report what's going on in the simulated population."
   ]
  },
  {
   "cell_type": "markdown",
   "metadata": {
    "slideshow": {
     "slide_type": "slide"
    }
   },
   "source": [
    "<h1 style=\"text-align: center;\">Let's build a model!</h1>"
   ]
  },
  {
   "cell_type": "code",
   "execution_count": null,
   "metadata": {
    "slideshow": {
     "slide_type": "slide"
    }
   },
   "outputs": [],
   "source": [
    "!cat birth_death.yaml"
   ]
  },
  {
   "cell_type": "markdown",
   "metadata": {
    "slideshow": {
     "slide_type": "notes"
    }
   },
   "source": [
    "Here's an example model specification.  \n",
    "\n",
    "Key pieces: \n",
    "\n",
    "components\n",
    "- population\n",
    "- mortality\n",
    "- fertility\n",
    "\n",
    "configuration\n",
    "- input data\n",
    "- time span and step size\n",
    "- population characteristics\n",
    "\n",
    "Data that informs this model:\n",
    "\n",
    "- GBD population estimates\n",
    "- GBD live births by sex -> Crude birth rate\n",
    "- GBD all cause mortality rate\n"
   ]
  },
  {
   "cell_type": "code",
   "execution_count": null,
   "metadata": {
    "slideshow": {
     "slide_type": "slide"
    }
   },
   "outputs": [],
   "source": [
    "%matplotlib inline\n",
    "from vivarium.interface import setup_simulation_from_model_specification\n",
    "import matplotlib.pyplot as plt\n",
    "import pandas as pd\n",
    "\n",
    "sim = setup_simulation_from_model_specification('birth_death.yaml')"
   ]
  },
  {
   "cell_type": "markdown",
   "metadata": {
    "slideshow": {
     "slide_type": "notes"
    }
   },
   "source": [
    "Let's do a little exploration."
   ]
  },
  {
   "cell_type": "markdown",
   "metadata": {
    "slideshow": {
     "slide_type": "slide"
    }
   },
   "source": [
    "## Examining the population"
   ]
  },
  {
   "cell_type": "code",
   "execution_count": null,
   "metadata": {
    "slideshow": {
     "slide_type": "fragment"
    }
   },
   "outputs": [],
   "source": [
    "pop = sim.get_population()\n",
    "pop.head()"
   ]
  },
  {
   "cell_type": "code",
   "execution_count": null,
   "metadata": {
    "slideshow": {
     "slide_type": "slide"
    }
   },
   "outputs": [],
   "source": [
    "def plot_population(population):\n",
    "    plt.figure(figsize=(15, 8))\n",
    "\n",
    "    population.age.hist(bins=50)\n",
    "    plt.xlabel('age', fontsize=16)\n",
    "    plt.ylabel('count', fontsize=16)\n",
    "    plt.show()\n",
    "    \n",
    "plot_population(pop)"
   ]
  },
  {
   "cell_type": "code",
   "execution_count": null,
   "metadata": {
    "slideshow": {
     "slide_type": "slide"
    }
   },
   "outputs": [],
   "source": [
    "pop.sex.value_counts()"
   ]
  },
  {
   "cell_type": "code",
   "execution_count": null,
   "metadata": {
    "slideshow": {
     "slide_type": "fragment"
    }
   },
   "outputs": [],
   "source": [
    "pop.alive.value_counts()"
   ]
  },
  {
   "cell_type": "markdown",
   "metadata": {
    "slideshow": {
     "slide_type": "slide"
    }
   },
   "source": [
    "# Running the simulation"
   ]
  },
  {
   "cell_type": "code",
   "execution_count": null,
   "metadata": {
    "slideshow": {
     "slide_type": "fragment"
    }
   },
   "outputs": [],
   "source": [
    "sim.run()"
   ]
  },
  {
   "cell_type": "markdown",
   "metadata": {
    "slideshow": {
     "slide_type": "slide"
    }
   },
   "source": [
    "# Examining the final population"
   ]
  },
  {
   "cell_type": "code",
   "execution_count": null,
   "metadata": {
    "slideshow": {
     "slide_type": "fragment"
    }
   },
   "outputs": [],
   "source": [
    "pop_final = sim.get_population()\n",
    "plot_population(pop_final)"
   ]
  },
  {
   "cell_type": "code",
   "execution_count": null,
   "metadata": {
    "slideshow": {
     "slide_type": "slide"
    }
   },
   "outputs": [],
   "source": [
    "plot_population(pop_final[pop_final.alive == 'dead'])"
   ]
  },
  {
   "cell_type": "markdown",
   "metadata": {
    "slideshow": {
     "slide_type": "notes"
    }
   },
   "source": [
    "For experts in the room, anything surprising about this death pattern?"
   ]
  },
  {
   "cell_type": "markdown",
   "metadata": {
    "slideshow": {
     "slide_type": "slide"
    }
   },
   "source": [
    "# Let's add a risk and a disease"
   ]
  },
  {
   "cell_type": "code",
   "execution_count": null,
   "metadata": {
    "slideshow": {
     "slide_type": "slide"
    }
   },
   "outputs": [],
   "source": [
    "!cat disease_model.yaml"
   ]
  },
  {
   "cell_type": "markdown",
   "metadata": {
    "slideshow": {
     "slide_type": "notes"
    }
   },
   "source": [
    "Closed cohort, moved up age since this is an adult disease"
   ]
  },
  {
   "cell_type": "code",
   "execution_count": null,
   "metadata": {
    "slideshow": {
     "slide_type": "slide"
    }
   },
   "outputs": [],
   "source": [
    "sim = setup_simulation_from_model_specification(\"disease_model.yaml\")\n"
   ]
  },
  {
   "cell_type": "code",
   "execution_count": null,
   "metadata": {
    "slideshow": {
     "slide_type": "slide"
    }
   },
   "outputs": [],
   "source": [
    "pop = sim.get_population()\n",
    "\n",
    "pop.head()"
   ]
  },
  {
   "cell_type": "code",
   "execution_count": null,
   "metadata": {
    "slideshow": {
     "slide_type": "slide"
    }
   },
   "outputs": [],
   "source": [
    "plot_population(pop)"
   ]
  },
  {
   "cell_type": "code",
   "execution_count": null,
   "metadata": {
    "slideshow": {
     "slide_type": "slide"
    }
   },
   "outputs": [],
   "source": [
    "def hist_bmi(ctx):\n",
    "    population = ctx.get_population()\n",
    "    population = population.loc[population.alive == 'alive']\n",
    "    bmi = ctx.get_value('high_body_mass_index_in_adults.exposure')\n",
    "\n",
    "    plt.figure(figsize=(15, 8))\n",
    "\n",
    "    bmi(population.index).hist(bins=50)\n",
    "    plt.xlabel('bmi', fontsize=16)\n",
    "    plt.ylabel('count', fontsize=16)\n",
    "    plt.show()\n",
    "\n",
    "hist_bmi(sim)"
   ]
  },
  {
   "cell_type": "code",
   "execution_count": null,
   "metadata": {
    "slideshow": {
     "slide_type": "slide"
    }
   },
   "outputs": [],
   "source": [
    "def plot_ihd_vs_bmi(ctx):\n",
    "    population = ctx.get_population()\n",
    "    population = population.loc[population.alive == 'alive']\n",
    "    bmi = ctx.get_value('high_body_mass_index_in_adults.exposure')\n",
    "    ihd = ctx.get_value('ischemic_heart_disease.incidence_rate')\n",
    "\n",
    "    plt.figure(figsize=(15, 8))\n",
    "    plt.scatter(bmi(population.index), ihd(population.index) * 365/28)\n",
    "    plt.xlabel('BMI', fontsize=20)\n",
    "    plt.ylabel('IHD incidence rate', fontsize=20)\n",
    "    plt.xlim(10, 80)\n",
    "    plt.ylim(0, 0.04)\n",
    "\n",
    "    plt.show()\n",
    "    \n",
    "plot_ihd_vs_bmi(sim)"
   ]
  },
  {
   "cell_type": "code",
   "execution_count": null,
   "metadata": {
    "slideshow": {
     "slide_type": "slide"
    }
   },
   "outputs": [],
   "source": [
    "sim.run()"
   ]
  },
  {
   "cell_type": "code",
   "execution_count": null,
   "metadata": {
    "slideshow": {
     "slide_type": "slide"
    }
   },
   "outputs": [],
   "source": [
    "final_pop = sim.get_population()\n",
    "plot_population(final_pop)"
   ]
  },
  {
   "cell_type": "code",
   "execution_count": null,
   "metadata": {
    "slideshow": {
     "slide_type": "slide"
    }
   },
   "outputs": [],
   "source": [
    "hist_bmi(sim)"
   ]
  },
  {
   "cell_type": "code",
   "execution_count": null,
   "metadata": {
    "slideshow": {
     "slide_type": "slide"
    }
   },
   "outputs": [],
   "source": [
    "plot_ihd_vs_bmi(sim)"
   ]
  },
  {
   "cell_type": "markdown",
   "metadata": {
    "slideshow": {
     "slide_type": "slide"
    }
   },
   "source": [
    "# What do results actually look like?"
   ]
  },
  {
   "cell_type": "markdown",
   "metadata": {
    "slideshow": {
     "slide_type": "slide"
    }
   },
   "source": [
    "<img src=\"ischemic_stroke.png\">"
   ]
  },
  {
   "cell_type": "markdown",
   "metadata": {
    "slideshow": {
     "slide_type": "slide"
    }
   },
   "source": [
    "<img src=\"individual.png\">"
   ]
  },
  {
   "cell_type": "markdown",
   "metadata": {
    "slideshow": {
     "slide_type": "slide"
    }
   },
   "source": [
    "<img src=\"maternal_intervention.png\">"
   ]
  },
  {
   "cell_type": "markdown",
   "metadata": {
    "slideshow": {
     "slide_type": "slide"
    }
   },
   "source": [
    "<h1 style=\"text-align: center;\">Thanks!</h1>\n",
    "\n",
    "<h2>Vivarium Engineering Team</h2>\n",
    "\n",
    "Kate Wilson\n",
    "\n",
    "Cody Horst\n",
    "\n",
    "<h2>Simulation Science Research Team</h2>\n",
    "\n",
    "Abie Flaxman\n",
    "\n",
    "Christine Allen\n",
    "\n",
    "Nathaniel Blair-Stahn\n",
    "\n",
    "Kelly Compton\n",
    "\n",
    "Yongquan Xie\n",
    "\n",
    "Yaqi Wang\n",
    "\n"
   ]
  },
  {
   "cell_type": "code",
   "execution_count": null,
   "metadata": {},
   "outputs": [],
   "source": [
    "\n"
   ]
  }
 ],
 "metadata": {
  "celltoolbar": "Slideshow",
  "kernelspec": {
   "display_name": "Python 3",
   "language": "python",
   "name": "python3"
  },
  "language_info": {
   "codemirror_mode": {
    "name": "ipython",
    "version": 3
   },
   "file_extension": ".py",
   "mimetype": "text/x-python",
   "name": "python",
   "nbconvert_exporter": "python",
   "pygments_lexer": "ipython3",
   "version": "3.6.8"
  },
  "rise": {
   "scroll": true
  }
 },
 "nbformat": 4,
 "nbformat_minor": 2
}
